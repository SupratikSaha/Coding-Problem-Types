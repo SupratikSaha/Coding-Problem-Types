{
 "cells": [
  {
   "cell_type": "markdown",
   "metadata": {},
   "source": [
    "Implement a function that takes a stack, testVariable, and reverses it. Do not use any other extra stack or data structure. <br/>\n",
    "\n",
    "Sample Input: [8, 5, 3, 2] <br/>\n",
    "\n",
    "Printed Output: [2, 3, 5, 8]"
   ]
  },
  {
   "cell_type": "markdown",
   "metadata": {},
   "source": [
    "# Recursive - O(N ^ 2) runtime, O(N ^ 2) space"
   ]
  },
  {
   "cell_type": "code",
   "execution_count": 3,
   "metadata": {},
   "outputs": [],
   "source": [
    "# Helper Functions Provided Initially\n",
    "def createStack() : # Function to create an empty stack\n",
    "    stack = []\n",
    "    return stack \n",
    "\n",
    "def isEmpty(stack) :\n",
    "    return len(stack) == 0\n",
    "\n",
    "def push(stack, item) : # push item to stack\n",
    "    stack.append( item ) \n",
    "\n",
    "def pop(stack) : # pop item from stack\n",
    "\n",
    "    if(isEmpty(stack)) : # display error if stack empty    \n",
    "        print(\"Stack Underflow \")\n",
    "        exit(1)\n",
    "\n",
    "    return stack.pop() "
   ]
  },
  {
   "cell_type": "code",
   "execution_count": 6,
   "metadata": {},
   "outputs": [],
   "source": [
    "def insertAtBottom(stack, item) : # Recursive function that inserts an element at the bottom of a stack.\n",
    "    # Base case\n",
    "    if isEmpty(stack) :\n",
    "        push(stack, item)\n",
    "\n",
    "    # Recursive case\n",
    "    else:\n",
    "        temp = pop(stack)\n",
    "        insertAtBottom(stack, item)\n",
    "        push(stack, temp) \n",
    "\n",
    "def reverse(stack) :\n",
    "    # Recursive case\n",
    "    if not isEmpty(stack) :\n",
    "        temp = pop(stack)\n",
    "        reverse(stack)\n",
    "        insertAtBottom(stack, temp) \n",
    "    print(stack)"
   ]
  },
  {
   "cell_type": "code",
   "execution_count": 7,
   "metadata": {},
   "outputs": [
    {
     "name": "stdout",
     "output_type": "stream",
     "text": [
      "[]\n",
      "[8]\n",
      "[5, 8]\n",
      "[3, 5, 8]\n",
      "[2, 3, 5, 8]\n"
     ]
    }
   ],
   "source": [
    "reverse([8, 5, 3, 2])"
   ]
  }
 ],
 "metadata": {
  "kernelspec": {
   "display_name": "Python 3",
   "language": "python",
   "name": "python3"
  },
  "language_info": {
   "codemirror_mode": {
    "name": "ipython",
    "version": 3
   },
   "file_extension": ".py",
   "mimetype": "text/x-python",
   "name": "python",
   "nbconvert_exporter": "python",
   "pygments_lexer": "ipython3",
   "version": "3.7.3"
  }
 },
 "nbformat": 4,
 "nbformat_minor": 2
}

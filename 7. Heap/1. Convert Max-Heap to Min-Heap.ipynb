{
 "cells": [
  {
   "cell_type": "markdown",
   "metadata": {},
   "source": [
    "Problem Statement. <br/>\n",
    "\n",
    "Implement a function convertMax(maxHeap) which will convert a binary Max-Heap into a binary Min-Heap. Where maxHeap is a list which is given in the maxHeap format, i.e, the parent is greater than its children. <br/>\n",
    "\n",
    "Sample Input:  <br/>\n",
    "maxHeap = [9,4,7,1,-2,6,5] <br/>\n",
    "\n",
    "Sample Output. <br/>\n",
    "result = [-2,1,5,9,4,6,7]"
   ]
  },
  {
   "cell_type": "markdown",
   "metadata": {},
   "source": [
    "# Heapify - O(N) runtime, O(1) space"
   ]
  },
  {
   "cell_type": "code",
   "execution_count": 1,
   "metadata": {},
   "outputs": [],
   "source": [
    "def minHeapify(heap, index):\n",
    "    left = index * 2 + 1\n",
    "    right = (index * 2) + 2\n",
    "    smallest = index\n",
    "    # check if left child exists and is less than smallest\n",
    "    if len(heap) > left and heap[smallest] > heap[left]:\n",
    "        smallest = left\n",
    "    # check if right child exists and is less than smallest\n",
    "    if len(heap) > right and heap[smallest] > heap[right]:\n",
    "        smallest = right\n",
    "    # check if current index is not the smallest\n",
    "    if smallest != index:\n",
    "        # swap current index value with smallest\n",
    "        tmp = heap[smallest]\n",
    "        heap[smallest] = heap[index]\n",
    "        heap[index] = tmp\n",
    "        # minHeapify the new node\n",
    "        minHeapify(heap, smallest)\n",
    "    return heap\n",
    "\n",
    "\n",
    "def convertMax(maxHeap):\n",
    "    # iterate from middle to first element\n",
    "    # middle to first indices contain all parent nodes\n",
    "    for i in range((len(maxHeap))//2, -1, -1):\n",
    "        # call minHeapify on all parent nodes\n",
    "        maxHeap = minHeapify(maxHeap, i)\n",
    "    return maxHeap"
   ]
  },
  {
   "cell_type": "code",
   "execution_count": 2,
   "metadata": {},
   "outputs": [
    {
     "data": {
      "text/plain": [
       "[-2, 1, 5, 9, 4, 6, 7]"
      ]
     },
     "execution_count": 2,
     "metadata": {},
     "output_type": "execute_result"
    }
   ],
   "source": [
    "convertMax([9,4,7,1,-2,6,5] )"
   ]
  }
 ],
 "metadata": {
  "kernelspec": {
   "display_name": "Python 3",
   "language": "python",
   "name": "python3"
  },
  "language_info": {
   "codemirror_mode": {
    "name": "ipython",
    "version": 3
   },
   "file_extension": ".py",
   "mimetype": "text/x-python",
   "name": "python",
   "nbconvert_exporter": "python",
   "pygments_lexer": "ipython3",
   "version": "3.7.3"
  }
 },
 "nbformat": 4,
 "nbformat_minor": 2
}

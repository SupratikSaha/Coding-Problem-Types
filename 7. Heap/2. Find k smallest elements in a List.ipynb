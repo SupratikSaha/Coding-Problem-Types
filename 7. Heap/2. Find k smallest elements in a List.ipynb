{
 "cells": [
  {
   "cell_type": "markdown",
   "metadata": {},
   "source": [
    "Problem Statement. <br/>\n",
    "\n",
    "Implement a function findKSmallest(lst,k) that takes an unsorted integer list as input and returns the “k” smallest elements in the list using a Heap. The minHeap class that was written in a previous lesson is prepended to this exercise so feel free to use it! Have a look at the illustration given for a clearer picture of the problem. <br/>\n",
    "\n",
    "Sample Input: <br/>\n",
    "lst = [9,4,7,1,-2,6,5] <br/>\n",
    "k = 3 <br/>\n",
    "\n",
    "Sample Output: [-2,1,4]"
   ]
  },
  {
   "cell_type": "markdown",
   "metadata": {},
   "source": [
    "Base Code"
   ]
  },
  {
   "cell_type": "code",
   "execution_count": 1,
   "metadata": {},
   "outputs": [],
   "source": [
    "class MinHeap:\n",
    "    def __init__(self):\n",
    "        self.heap = []\n",
    "\n",
    "    def insert(self, val):\n",
    "        self.heap.append(val)\n",
    "        self.__percolateUp(len(self.heap)-1)\n",
    "\n",
    "    def getMin(self):\n",
    "        if self.heap:\n",
    "            return self.heap[0]\n",
    "        return None\n",
    "\n",
    "    def removeMin(self):\n",
    "        if len(self.heap) > 1:\n",
    "            min = self.heap[0]\n",
    "            self.heap[0] = self.heap[-1]\n",
    "            del self.heap[-1]\n",
    "            self.__minHeapify(0)\n",
    "            return min\n",
    "        elif len(self.heap) == 1:\n",
    "            min = self.heap[0]\n",
    "            del self.heap[0]\n",
    "            return min\n",
    "        else:\n",
    "            return None\n",
    "\n",
    "    def __percolateUp(self, index):\n",
    "        parent = (index-1)//2\n",
    "        if index <= 0:\n",
    "            return\n",
    "        elif self.heap[parent] > self.heap[index]:\n",
    "            tmp = self.heap[parent]\n",
    "            self.heap[parent] = self.heap[index]\n",
    "            self.heap[index] = tmp\n",
    "            self.__percolateUp(parent)\n",
    "\n",
    "    def __minHeapify(self, index):\n",
    "        left = (index * 2) + 1\n",
    "        right = (index * 2) + 2\n",
    "        smallest = index\n",
    "        if len(self.heap) > left and self.heap[smallest] > self.heap[left]:\n",
    "            smallest = left\n",
    "        if len(self.heap) > right and self.heap[smallest] > self.heap[right]:\n",
    "            smallest = right\n",
    "        if smallest != index:\n",
    "            tmp = self.heap[smallest]\n",
    "            self.heap[smallest] = self.heap[index]\n",
    "            self.heap[index] = tmp\n",
    "            self.__minHeapify(smallest)\n",
    "\n",
    "    def buildHeap(self, arr):\n",
    "        self.heap = arr\n",
    "        for i in range(len(arr)-1, -1, -1):\n",
    "            self.__minHeapify(i)"
   ]
  },
  {
   "cell_type": "markdown",
   "metadata": {},
   "source": [
    "# Max Heap - O((N  + K)* Log K) runtime, O(K) space"
   ]
  },
  {
   "cell_type": "code",
   "execution_count": 2,
   "metadata": {},
   "outputs": [],
   "source": [
    "def findKSmallest(lst, k):\n",
    "    n = len(lst)\n",
    "    maxheap = MinHeap()\n",
    "    for i in range(k):\n",
    "        maxheap.insert(-lst[i])\n",
    "\n",
    "    for i in range(k, n):\n",
    "        largest = maxheap.getMin()\n",
    "        if largest and lst[i] < -largest:\n",
    "            maxheap.removeMin()\n",
    "            maxheap.insert(-lst[i])\n",
    "\n",
    "    result = []\n",
    "    for i in range(k- 1, -1, -1):\n",
    "        result.append(-maxheap.heap[i])\n",
    "\n",
    "    result.sort()\n",
    "    return result"
   ]
  },
  {
   "cell_type": "code",
   "execution_count": 3,
   "metadata": {},
   "outputs": [
    {
     "data": {
      "text/plain": [
       "[-2, 1, 4, 5, 6]"
      ]
     },
     "execution_count": 3,
     "metadata": {},
     "output_type": "execute_result"
    }
   ],
   "source": [
    "findKSmallest([9, 4, 7, 1, -2, 6, 5],5)"
   ]
  }
 ],
 "metadata": {
  "kernelspec": {
   "display_name": "Python 3",
   "language": "python",
   "name": "python3"
  },
  "language_info": {
   "codemirror_mode": {
    "name": "ipython",
    "version": 3
   },
   "file_extension": ".py",
   "mimetype": "text/x-python",
   "name": "python",
   "nbconvert_exporter": "python",
   "pygments_lexer": "ipython3",
   "version": "3.7.3"
  }
 },
 "nbformat": 4,
 "nbformat_minor": 2
}

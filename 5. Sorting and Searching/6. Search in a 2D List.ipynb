{
 "cells": [
  {
   "cell_type": "markdown",
   "metadata": {},
   "source": [
    "Problem statement. <br/>\n",
    "\n",
    "Implement a function that tells whether a given number is present in a **row-wise sorted 2D list or not. <br/>\n",
    "\n",
    "Sample input: <br/>\n",
    "2D_list  =[[10, 11, 12, 13],\n",
    "           [14, 15, 16, 17],\n",
    "           [27, 29, 30, 31],\n",
    "           [32, 33, 39, 50]], number = 30 <br/>\n",
    "\n",
    "Sample output: <br/>\n",
    "result = True"
   ]
  },
  {
   "cell_type": "markdown",
   "metadata": {},
   "source": [
    "# Binary Search - O(log (M * N)) runtime, O(1) space"
   ]
  },
  {
   "cell_type": "code",
   "execution_count": 1,
   "metadata": {},
   "outputs": [],
   "source": [
    "def find_in(lst, number):\n",
    "    \"\"\"\n",
    "    A function to find a number in a 2D list\n",
    "    :param lst: A 2D list of integers\n",
    "    :param number: A number to be searched in the 2D list\n",
    "    :return: True if the number is found, otherwise False\n",
    "    \"\"\"\n",
    "\n",
    "    n_rows, n_cols = len(lst), len(lst[0])\n",
    "\n",
    "    left, right = 0, n_rows * n_cols - 1\n",
    "    while left <= right:\n",
    "        mid = left + (right - left) // 2\n",
    "        row = mid // n_cols\n",
    "        column = mid % n_cols\n",
    "\n",
    "        if lst[row][column] == number:\n",
    "            return True\n",
    "        elif lst[row][column] > number:\n",
    "            right = mid - 1\n",
    "        else:\n",
    "            left = mid + 1\n",
    "\n",
    "    return False"
   ]
  },
  {
   "cell_type": "code",
   "execution_count": 2,
   "metadata": {},
   "outputs": [
    {
     "data": {
      "text/plain": [
       "True"
      ]
     },
     "execution_count": 2,
     "metadata": {},
     "output_type": "execute_result"
    }
   ],
   "source": [
    "find_in([[10, 11, 12, 13], [14, 15, 16, 17], [27, 29, 30, 31], [32, 33, 39, 50]], 10)"
   ]
  }
 ],
 "metadata": {
  "kernelspec": {
   "display_name": "Python 3",
   "language": "python",
   "name": "python3"
  },
  "language_info": {
   "codemirror_mode": {
    "name": "ipython",
    "version": 3
   },
   "file_extension": ".py",
   "mimetype": "text/x-python",
   "name": "python",
   "nbconvert_exporter": "python",
   "pygments_lexer": "ipython3",
   "version": "3.7.3"
  }
 },
 "nbformat": 4,
 "nbformat_minor": 2
}

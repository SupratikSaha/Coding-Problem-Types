{
 "cells": [
  {
   "cell_type": "markdown",
   "metadata": {},
   "source": [
    "Problem statement. <br/>\n",
    "\n",
    "In this problem, you have to implement the find_sum(lst, n) function which will take a list lst and number n as inputs and return two numbers from the list that add up to n. <br/>\n",
    "\n",
    "Sample input <br/>\n",
    "lst = [1, 21, 3, 14, 5, 60, 7, 6], n = 81 <br/>\n",
    "\n",
    "Sample output <br/>\n",
    "result = [21, 60]"
   ]
  },
  {
   "cell_type": "markdown",
   "metadata": {},
   "source": [
    "# Brute Force - O(N ^ 2) runtime, O(1) space"
   ]
  },
  {
   "cell_type": "code",
   "execution_count": 1,
   "metadata": {},
   "outputs": [],
   "source": [
    "def find_sum(lst, n):\n",
    "    \"\"\"\n",
    "    Function to find two number that add up to n\n",
    "    :param lst: A list of integers\n",
    "    :param n: The integer number n\n",
    "    \"\"\"\n",
    " \n",
    "    for i in range(len(lst)):\n",
    "        for j in range(len(lst)):\n",
    "            if lst[i] + lst[j] == n and i != j:\n",
    "                return [lst[i], lst[j]]"
   ]
  },
  {
   "cell_type": "markdown",
   "metadata": {},
   "source": [
    "# Sorting - O(N * log N) runtime, O(N) space"
   ]
  },
  {
   "cell_type": "code",
   "execution_count": 2,
   "metadata": {},
   "outputs": [],
   "source": [
    "def find_sum(lst, item):\n",
    "    \"\"\"\n",
    "    Binary Search helper function\n",
    "    :param lst: A list of integers\n",
    "    :param item: An item to be searched in the list\n",
    "    \"\"\"\n",
    " \n",
    "    first = 0\n",
    "    last = len(lst) - 1\n",
    "    found = False\n",
    "    \n",
    "    while first <= last and not found:\n",
    "        mid = (first + last) // 2\n",
    "        \n",
    "        if lst[mid] == item:\n",
    "            found = mid\n",
    "        else:\n",
    "            if item < lst[mid]:\n",
    "                last = mid - 1\n",
    "            else:\n",
    "                first = mid + 1\n",
    "    \n",
    "    return found"
   ]
  },
  {
   "cell_type": "markdown",
   "metadata": {},
   "source": [
    "# Dictionary - O(N) runtime, O(N) space"
   ]
  },
  {
   "cell_type": "code",
   "execution_count": 3,
   "metadata": {},
   "outputs": [],
   "source": [
    "def find_sum(lst, n):\n",
    "    \"\"\"\n",
    "    Function to find two number that add up to n\n",
    "    :param lst: A list of integers\n",
    "    :param n: The integer number n\n",
    "    \"\"\"\n",
    " \n",
    "    found_values = {}\n",
    " \n",
    "    for ele in lst:\n",
    "        try:\n",
    "            found_values[n - ele]\n",
    "            return [n - ele, ele]\n",
    "        except:\n",
    "            found_values[ele] = 0\n",
    " \n",
    "    return False"
   ]
  },
  {
   "cell_type": "markdown",
   "metadata": {},
   "source": [
    "# Using Set - O(N) runtime, O(N) space"
   ]
  },
  {
   "cell_type": "code",
   "execution_count": 4,
   "metadata": {},
   "outputs": [],
   "source": [
    "def find_sum(lst, n):\n",
    "    \"\"\"\n",
    "    Function to find two number that add up to n\n",
    "    :param lst: A list of integers\n",
    "    :param n: The integer number n\n",
    "    \"\"\"\n",
    " \n",
    "    found_values = set()\n",
    " \n",
    "    for ele in lst:\n",
    "        if n - ele in found_values:\n",
    "            return [n - ele, ele]\n",
    "        found_values.add(ele)\n",
    " \n",
    "    return False"
   ]
  },
  {
   "cell_type": "code",
   "execution_count": 5,
   "metadata": {},
   "outputs": [
    {
     "data": {
      "text/plain": [
       "[21, 60]"
      ]
     },
     "execution_count": 5,
     "metadata": {},
     "output_type": "execute_result"
    }
   ],
   "source": [
    "find_sum([1, 21, 3, 14, 5, 60, 7, 6], 81)"
   ]
  }
 ],
 "metadata": {
  "kernelspec": {
   "display_name": "Python 3",
   "language": "python",
   "name": "python3"
  },
  "language_info": {
   "codemirror_mode": {
    "name": "ipython",
    "version": 3
   },
   "file_extension": ".py",
   "mimetype": "text/x-python",
   "name": "python",
   "nbconvert_exporter": "python",
   "pygments_lexer": "ipython3",
   "version": "3.7.3"
  }
 },
 "nbformat": 4,
 "nbformat_minor": 2
}

{
 "cells": [
  {
   "cell_type": "markdown",
   "metadata": {},
   "source": [
    "Problem statement. <br/>\n",
    "\n",
    "Implement a function sort_binary_list(lst) that takes a binary list of numbers and returns a sorted list. <br/>\n",
    "\n",
    "Sample input: <br/>\n",
    "lst = [1, 0, 1, 0, 1, 1, 0, 0] <br/>\n",
    "\n",
    "Sample output: <br/>\n",
    "result = [0, 0, 0, 0, 1, 1, 1, 1]"
   ]
  },
  {
   "cell_type": "markdown",
   "metadata": {},
   "source": [
    "# Bubble Sort - O(N ^ 2) runtime, O(1) space"
   ]
  },
  {
   "cell_type": "code",
   "execution_count": 1,
   "metadata": {},
   "outputs": [],
   "source": [
    "def sort_binary_list(lst):\n",
    "    \"\"\"\n",
    "    A function to sort binary list\n",
    "    :param lst: A list containing binary numbers\n",
    "    :return: A sorted binary list\n",
    "    \"\"\"\n",
    "    \n",
    "    size = len(lst)  # Store the size of list\n",
    " \n",
    "    for i in range(size):\n",
    "        for j in range(0, size - i - 1):\n",
    " \n",
    "            # traverse the list from 0 to size - i - 1\n",
    "            # Swap if the element found is greater than the next element\n",
    "            if lst[j] > lst[j + 1]:\n",
    "                lst[j], lst[j + 1] = lst[j + 1], lst[j]\n",
    "                \n",
    "    return lst"
   ]
  },
  {
   "cell_type": "markdown",
   "metadata": {},
   "source": [
    "# Two Pointers - O(N) runtime, O(1) space"
   ]
  },
  {
   "cell_type": "code",
   "execution_count": 2,
   "metadata": {},
   "outputs": [],
   "source": [
    "def sort_binary_list(lst):\n",
    "    \"\"\"\n",
    "    A function to sort binary list\n",
    "    :param lst: A list containing binary numbers\n",
    "    :return: A sorted binary list\n",
    "    \"\"\"\n",
    "    \n",
    "    left, right = 0, len(lst) - 1\n",
    "\n",
    "    while left < right:\n",
    "        if lst[left] != lst[right]:\n",
    "            if lst[left] == 1:\n",
    "                lst[left], lst[right] = lst[right], lst[left]\n",
    "            left += 1\n",
    "            right -= 1\n",
    "        elif lst[left] == 0:\n",
    "            left += 1\n",
    "        else:\n",
    "            right -=1\n",
    "\n",
    "    return lst"
   ]
  },
  {
   "cell_type": "markdown",
   "metadata": {},
   "source": [
    "# Swapping 1's - O(N) runtime, O(1) space"
   ]
  },
  {
   "cell_type": "code",
   "execution_count": 3,
   "metadata": {},
   "outputs": [],
   "source": [
    "def sort_binary_list(lst):\n",
    "    \"\"\"\n",
    "    A function to sort binary list\n",
    "    :param lst: A list containing binary numbers\n",
    "    :return: A sorted binary list\n",
    "    \"\"\"\n",
    "    \n",
    "    j = 0\n",
    "    \n",
    "    for i in range(len(lst)):\n",
    "        if lst[i] < 1:  # Swapping with jth element if the number is less than 1\n",
    "            lst[i], lst[j] = lst[j], lst[i]  # Swapping\n",
    "            j = j + 1\n",
    "    \n",
    "    return lst"
   ]
  },
  {
   "cell_type": "code",
   "execution_count": 4,
   "metadata": {},
   "outputs": [],
   "source": [
    "sort_binary_list([1, 0, 1, 0, 1, 1, 0, 0])"
   ]
  }
 ],
 "metadata": {
  "kernelspec": {
   "display_name": "Python 3",
   "language": "python",
   "name": "python3"
  },
  "language_info": {
   "codemirror_mode": {
    "name": "ipython",
    "version": 3
   },
   "file_extension": ".py",
   "mimetype": "text/x-python",
   "name": "python",
   "nbconvert_exporter": "python",
   "pygments_lexer": "ipython3",
   "version": "3.7.3"
  }
 },
 "nbformat": 4,
 "nbformat_minor": 2
}

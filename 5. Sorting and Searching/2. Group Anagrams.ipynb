{
 "cells": [
  {
   "cell_type": "markdown",
   "metadata": {},
   "source": [
    "Problem statement. <br/>\n",
    "\n",
    "Given a list of strings that contains anagrams, write a function to print pairs of those anagrams. A list of strings. Remember that spaces count as characters. So, \" abc\" and “cab” are technically not anagrams, since \" abc\" has spaces which “cab” does not. <br/>\n",
    "\n",
    "Sample input: <br/>\n",
    "input = [\n",
    "    'tom marvolo riddle ',\n",
    "    'abc',\n",
    "    'def',\n",
    "    'cab',\n",
    "    'fed',\n",
    "    'brag',\n",
    "    'clint eastwood ',\n",
    "    'i am lord voldemort',\n",
    "    'elvis',\n",
    "    'grab',\n",
    "    'old west action',\n",
    "    'lives'\n",
    "  ] <br/>\n",
    "\n",
    "Sample output:  <br/>\n",
    "result = 'clint eastwood  old west action abc cab def fed elvis lives tom marvolo riddle  i am lord voldemort ' <br/>\n",
    "\n",
    "Note: The order of the anagrams doesn’t matter!"
   ]
  },
  {
   "cell_type": "markdown",
   "metadata": {},
   "source": [
    "# Hashmap - o(N * K*logK) runtime, O(N * K) space, where N is the number of words and K is the length of the longest word"
   ]
  },
  {
   "cell_type": "code",
   "execution_count": 1,
   "metadata": {},
   "outputs": [],
   "source": [
    "def anagrams(lst):\n",
    "    \"\"\"\n",
    "    Function to find anagram pairs\n",
    "    :param lst: A lst of strings\n",
    "    :return: Group of anagrams\n",
    "    \"\"\"\n",
    "    \n",
    "    # Empty dictionary which holds subsets of all anagrams together\n",
    "    dictionary = {}\n",
    "\n",
    "    # traversing all the lst strings\n",
    "    for string in lst:\n",
    "\n",
    "        # sorting the lst string and storing it in a key\n",
    "        key = ''.join(sorted(string))\n",
    "\n",
    "        # if the key is already in the dictionary then appending the original lst(Anagram).\n",
    "        if key in dictionary.keys():\n",
    "            dictionary[key].append(string)\n",
    "            \n",
    "        else:  # If there is no key in the dictionary\n",
    "            dictionary[key] = []\n",
    "            dictionary[key].append(string)\n",
    "\n",
    "    # traversing the whole dictionary and concatenating values and keys\n",
    "    result = []\n",
    "    for key, value in dictionary.items():\n",
    "        if len(value) >= 2:\n",
    "            result.append(value)\n",
    "\n",
    "    # result = sorted(result) # sort the list\n",
    "\n",
    "    return result"
   ]
  },
  {
   "cell_type": "code",
   "execution_count": 2,
   "metadata": {},
   "outputs": [
    {
     "data": {
      "text/plain": [
       "[['tom marvolo riddle ', 'i am lord voldemort'],\n",
       " ['abc', 'cab'],\n",
       " ['def', 'fed'],\n",
       " ['brag', 'grab'],\n",
       " ['clint eastwood ', 'old west action'],\n",
       " ['elvis', 'lives']]"
      ]
     },
     "execution_count": 2,
     "metadata": {},
     "output_type": "execute_result"
    }
   ],
   "source": [
    "anagrams([ 'tom marvolo riddle ', 'abc', 'def', 'cab', 'fed', 'brag', 'clint eastwood ', \n",
    "          'i am lord voldemort', 'elvis', 'grab', 'old west action', 'lives' ] )"
   ]
  }
 ],
 "metadata": {
  "kernelspec": {
   "display_name": "Python 3",
   "language": "python",
   "name": "python3"
  },
  "language_info": {
   "codemirror_mode": {
    "name": "ipython",
    "version": 3
   },
   "file_extension": ".py",
   "mimetype": "text/x-python",
   "name": "python",
   "nbconvert_exporter": "python",
   "pygments_lexer": "ipython3",
   "version": "3.7.3"
  }
 },
 "nbformat": 4,
 "nbformat_minor": 2
}

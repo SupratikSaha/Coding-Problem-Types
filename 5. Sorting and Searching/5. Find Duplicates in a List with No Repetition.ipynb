{
 "cells": [
  {
   "cell_type": "markdown",
   "metadata": {},
   "source": [
    "Problem statement. <br/>\n",
    "\n",
    "Given a list of integers, find all the duplicates that exist in that list. <br/>\n",
    "\n",
    "Sample input <br/>\n",
    "lst = [1, 3, 1, 3, 5, 1, 4, 7, 7]\n",
    "\n",
    "Sample output <br/>\n",
    "result = [1, 3, 7]"
   ]
  },
  {
   "cell_type": "markdown",
   "metadata": {},
   "source": [
    "# List Traversal - O(N) runtime, O(1) space"
   ]
  },
  {
   "cell_type": "code",
   "execution_count": 1,
   "metadata": {},
   "outputs": [],
   "source": [
    "def find_duplicates(lst):\n",
    "    \"\"\"\n",
    "    Function to find duplicates in a given lst\n",
    "    :param lst: A list of integers\n",
    "    :return: A list of duplicate integers with no repetition\n",
    "    \"\"\"\n",
    "    i, n = 0, len(lst)\n",
    "    while i < n:\n",
    "        val = lst[i]\n",
    "        if val != i and lst[val] != val:\n",
    "            lst[i], lst[val] = lst[val], lst[i]\n",
    "        else:\n",
    "            i += 1\n",
    "    \n",
    "    result = set()  # A list to store duplicates\n",
    "\n",
    "    for i, num in enumerate(lst):\n",
    "        if i != num:\n",
    "            result.add(num)\n",
    "\n",
    "    return list(result)"
   ]
  },
  {
   "cell_type": "code",
   "execution_count": 2,
   "metadata": {},
   "outputs": [
    {
     "data": {
      "text/plain": [
       "[1, 3, 7]"
      ]
     },
     "execution_count": 2,
     "metadata": {},
     "output_type": "execute_result"
    }
   ],
   "source": [
    "find_duplicates([1, 3, 1, 3, 5, 1, 4, 7, 7])"
   ]
  }
 ],
 "metadata": {
  "kernelspec": {
   "display_name": "Python 3",
   "language": "python",
   "name": "python3"
  },
  "language_info": {
   "codemirror_mode": {
    "name": "ipython",
    "version": 3
   },
   "file_extension": ".py",
   "mimetype": "text/x-python",
   "name": "python",
   "nbconvert_exporter": "python",
   "pygments_lexer": "ipython3",
   "version": "3.7.3"
  }
 },
 "nbformat": 4,
 "nbformat_minor": 2
}

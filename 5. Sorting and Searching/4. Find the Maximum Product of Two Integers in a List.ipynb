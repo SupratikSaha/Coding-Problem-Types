{
 "cells": [
  {
   "cell_type": "markdown",
   "metadata": {},
   "source": [
    "Problem statement. <br/>\n",
    "\n",
    "Implement a function find_max_prod(lst) that takes a list of numbers and returns a maximum product pair. <br/>\n",
    "\n",
    "Sample input <br/>\n",
    "lst = [1, 3, 5, 2, 6] <br/>\n",
    "\n",
    "Sample output <br/>\n",
    "result1, result2 = 5, 6"
   ]
  },
  {
   "cell_type": "markdown",
   "metadata": {},
   "source": [
    "# List Traversal - O(N) runtime, O(1) space"
   ]
  },
  {
   "cell_type": "code",
   "execution_count": 1,
   "metadata": {},
   "outputs": [],
   "source": [
    "def find_max_prod(lst):\n",
    "    \"\"\"\n",
    "    Finds the pair having maximum product in a given list\n",
    "    :param lst: A list of integers\n",
    "    :return: A pair of integer\n",
    "    \"\"\"\n",
    "\n",
    "    topPositive, secondPositive, topNegative, secondNegative = 0, 0, 0, 0\n",
    "    for num in lst:\n",
    "        if num > 0:\n",
    "            if num > topPositive:\n",
    "                secondPositive = topPositive\n",
    "                topPositive = num\n",
    "            elif num > secondPositive:\n",
    "                secondPositive = num\n",
    "        elif num < 0:\n",
    "            if num < topNegative:\n",
    "                secondNegative = topNegative\n",
    "                topNegative = num\n",
    "            elif num < secondNegative:\n",
    "                secondNegative = num\n",
    "\n",
    "    if topNegative * secondNegative > topPositive * secondPositive:\n",
    "        return topNegative, secondNegative\n",
    "\n",
    "    return topPositive, secondPositive"
   ]
  },
  {
   "cell_type": "code",
   "execution_count": 2,
   "metadata": {},
   "outputs": [
    {
     "data": {
      "text/plain": [
       "(6, 5)"
      ]
     },
     "execution_count": 2,
     "metadata": {},
     "output_type": "execute_result"
    }
   ],
   "source": [
    "find_max_prod([1, 3, 5, 2, 6])"
   ]
  }
 ],
 "metadata": {
  "kernelspec": {
   "display_name": "Python 3",
   "language": "python",
   "name": "python3"
  },
  "language_info": {
   "codemirror_mode": {
    "name": "ipython",
    "version": 3
   },
   "file_extension": ".py",
   "mimetype": "text/x-python",
   "name": "python",
   "nbconvert_exporter": "python",
   "pygments_lexer": "ipython3",
   "version": "3.7.3"
  }
 },
 "nbformat": 4,
 "nbformat_minor": 2
}

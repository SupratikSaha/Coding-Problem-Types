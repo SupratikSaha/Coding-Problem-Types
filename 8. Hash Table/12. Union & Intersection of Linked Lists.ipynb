{
 "cells": [
  {
   "cell_type": "markdown",
   "metadata": {},
   "source": [
    "Problem Statement. <br/>\n",
    "\n",
    "The union function will take two linked lists and return their union. <br/>\n",
    "The intersection function will return all the elements that are common between two linked lists. <br/>\n",
    "You have already seen this challenge previously in chapter 3 of this course. Here you would use HashTables for a more efficient solution. <br/>\n",
    "\n",
    "Sample Input: <br/>\n",
    "list1 = 10->20->80->60 <br/>\n",
    "list2 = 15->20->30->60->45 <br/>\n",
    "\n",
    "Sample Output: <br/>\n",
    "union = 10->20->80->60->15->30->45 <br/>\n",
    "intersection = 20->60"
   ]
  },
  {
   "cell_type": "markdown",
   "metadata": {},
   "source": [
    "# New List - O(M + N) runtime, O(M + N) space"
   ]
  },
  {
   "cell_type": "code",
   "execution_count": 1,
   "metadata": {},
   "outputs": [],
   "source": [
    "# Returns a list containing the union of list1 and list2\n",
    "def union(list1, list2):\n",
    "    \n",
    "    if (list1.is_empty()):\n",
    "        return list2\n",
    "    elif (list2.is_empty()):\n",
    "        return list1\n",
    " \n",
    "    visited = set()\n",
    "    node = list1.get_head()\n",
    "    result = LinkedList()\n",
    "    while node:\n",
    "        visited.add(node.data)\n",
    "        result.insert_at_head(node.data)\n",
    "        node = node.next_element\n",
    " \n",
    "    node = list2.get_head()\n",
    "    while node:\n",
    "        if node.data not in visited:\n",
    "            result.insert_at_head(node.data)\n",
    "        node = node.next_element\n",
    " \n",
    "    return result\n",
    " \n",
    "# Returns a list containing the intersection of list1 and list2\n",
    "def intersection(list1, list2):\n",
    "    visited = set()\n",
    "    node = list2.get_head()\n",
    "    while node:\n",
    "        visited.add(node.data)\n",
    "        prev = node\n",
    "        node = node.next_element\n",
    "    \n",
    "    result = LinkedList()\n",
    "    node = list1.get_head()\n",
    "    while node:\n",
    "        if node.data in visited:\n",
    "            result.insert_at_head(node.data)\n",
    "        node = node.next_element\n",
    " \n",
    "    return result"
   ]
  }
 ],
 "metadata": {
  "kernelspec": {
   "display_name": "Python 3",
   "language": "python",
   "name": "python3"
  },
  "language_info": {
   "codemirror_mode": {
    "name": "ipython",
    "version": 3
   },
   "file_extension": ".py",
   "mimetype": "text/x-python",
   "name": "python",
   "nbconvert_exporter": "python",
   "pygments_lexer": "ipython3",
   "version": "3.7.3"
  }
 },
 "nbformat": 4,
 "nbformat_minor": 2
}

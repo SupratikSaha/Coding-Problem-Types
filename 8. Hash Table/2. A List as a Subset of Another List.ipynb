{
 "cells": [
  {
   "cell_type": "markdown",
   "metadata": {},
   "source": [
    "Problem Statement. <br/>\n",
    "\n",
    "Implement the is_subset(list1,list2) function which will take two lists as input and check whether one list is the subset of the other. This method is already available in Python, but we’ll be implementing it using hash tables. <br/>\n",
    "    Note: The input arrays do not contain duplicate values. <br/>\n",
    "\n",
    "Sample Input: <br/>\n",
    "list1 = [9,4,7,1,-2,6,5] <br/>\n",
    "list2 = [7,1,-2] <br/>\n",
    "\n",
    "Sample Output: True"
   ]
  },
  {
   "cell_type": "markdown",
   "metadata": {},
   "source": [
    "# Using Set - O(M + N) runtime, O(M + N) space"
   ]
  },
  {
   "cell_type": "code",
   "execution_count": 3,
   "metadata": {},
   "outputs": [],
   "source": [
    "def is_subset(list1, list2):\n",
    "    s = set(list1)  # Create a set with list1 values\n",
    "    # Traverse list 2 elements\n",
    "    for elem in list2:\n",
    "        # Return false if an element not in list1\n",
    "        if elem not in s:\n",
    "            return False\n",
    "    # Return True if all elements in list1\n",
    "    return True"
   ]
  },
  {
   "cell_type": "code",
   "execution_count": 4,
   "metadata": {},
   "outputs": [
    {
     "data": {
      "text/plain": [
       "True"
      ]
     },
     "execution_count": 4,
     "metadata": {},
     "output_type": "execute_result"
    }
   ],
   "source": [
    "is_subset([9,4,7,1,-2,6,5], [7,1,-2])"
   ]
  }
 ],
 "metadata": {
  "kernelspec": {
   "display_name": "Python 3",
   "language": "python",
   "name": "python3"
  },
  "language_info": {
   "codemirror_mode": {
    "name": "ipython",
    "version": 3
   },
   "file_extension": ".py",
   "mimetype": "text/x-python",
   "name": "python",
   "nbconvert_exporter": "python",
   "pygments_lexer": "ipython3",
   "version": "3.7.3"
  }
 },
 "nbformat": 4,
 "nbformat_minor": 2
}

{
 "cells": [
  {
   "cell_type": "markdown",
   "metadata": {},
   "source": [
    "Problem Statement. <br/>\n",
    "\n",
    "In this problem, you have to implement the find_pair() function which will find two pairs, [a, b] and [c, d], in a list such that : <br/>\n",
    "a+b=c+da+b = c+da+b=c+d <br/>\n",
    "You only have to find the first two pairs in the list which satisfies the above condition. <br/>\n",
    "\n",
    "Sample Input: <br/>\n",
    "my_list = [3, 4, 7, 1, 12, 9] <br/>\n",
    "Sample Output: <br/>\n",
    "[[4,12],[7,9]]"
   ]
  },
  {
   "cell_type": "markdown",
   "metadata": {},
   "source": [
    "# Hash Map - O(N ^ 2) runtime, O(N ^ 2) space"
   ]
  },
  {
   "cell_type": "code",
   "execution_count": 12,
   "metadata": {},
   "outputs": [],
   "source": [
    "def find_pair(my_list):\n",
    "    sumDict = {}\n",
    "    n = len(my_list)\n",
    "    for a in range(n):\n",
    "        for b in range(a+1, n):\n",
    "            sumVal = my_list[a] + my_list[b]\n",
    "            if sumDict.get(sumVal):\n",
    "                c, d = sumDict[sumVal]\n",
    "                return [[c, d], [my_list[a], my_list[b]]]\n",
    "\n",
    "            sumDict[sumVal] =(my_list[a], my_list[b])\n",
    "\n",
    "    return [[], []]"
   ]
  },
  {
   "cell_type": "code",
   "execution_count": 13,
   "metadata": {},
   "outputs": [
    {
     "data": {
      "text/plain": [
       "[[4, 12], [7, 9]]"
      ]
     },
     "execution_count": 13,
     "metadata": {},
     "output_type": "execute_result"
    }
   ],
   "source": [
    "find_pair( [3, 4, 7, 1, 12, 9])"
   ]
  }
 ],
 "metadata": {
  "kernelspec": {
   "display_name": "Python 3",
   "language": "python",
   "name": "python3"
  },
  "language_info": {
   "codemirror_mode": {
    "name": "ipython",
    "version": 3
   },
   "file_extension": ".py",
   "mimetype": "text/x-python",
   "name": "python",
   "nbconvert_exporter": "python",
   "pygments_lexer": "ipython3",
   "version": "3.7.3"
  }
 },
 "nbformat": 4,
 "nbformat_minor": 2
}

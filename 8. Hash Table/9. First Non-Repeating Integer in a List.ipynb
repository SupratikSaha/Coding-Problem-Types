{
 "cells": [
  {
   "cell_type": "markdown",
   "metadata": {},
   "source": [
    "Problem Statement. <br/>\n",
    "\n",
    "Implement a function, findFirstUnique(lst) that returns the first unique integer in the list. <br/>\n",
    "You have already seen this challenge previously in chapter 2 of this course. Here you would use dict or set for a more efficient solution. <br/>\n",
    "\n",
    "Sample Input: [9,2,3,2,6,6] <br/>\n",
    "\n",
    "Sample Output: 9"
   ]
  },
  {
   "cell_type": "markdown",
   "metadata": {},
   "source": [
    "# Set and Dict - O(N) runtime, O(N) space"
   ]
  },
  {
   "cell_type": "code",
   "execution_count": 1,
   "metadata": {},
   "outputs": [],
   "source": [
    "def findFirstUnique(lst):\n",
    "    numSet = set()\n",
    "    numDict = {}\n",
    "\n",
    "    for i, num in enumerate(lst):\n",
    "        if num in numSet:\n",
    "            numDict.pop(num)\n",
    "        else:\n",
    "            numSet.add(num)\n",
    "            numDict[num] = i\n",
    "\n",
    "    return min(numDict.items(), key=lambda x: x[1])[0] if numDict else None"
   ]
  },
  {
   "cell_type": "markdown",
   "metadata": {},
   "source": [
    "# Only Dict - O(N) runtime, O(N) space"
   ]
  },
  {
   "cell_type": "code",
   "execution_count": 3,
   "metadata": {},
   "outputs": [],
   "source": [
    "def findFirstUnique(lst):\n",
    "    counts = {}  # Creating a dictionary\n",
    "    # Initializing dictionary with pairs like (lst[i],count)\n",
    "    counts = counts.fromkeys(lst, 0)\n",
    "    for ele in lst:\n",
    "        # counts[ele] += 1  # Incrementing for every repitition\n",
    "        counts[ele] = counts[ele]+1\n",
    "    answer_key = None\n",
    "    # filter first non-repeating \n",
    "    for ele in lst:\n",
    "        if (counts[ele] is 1):\n",
    "            answer_key = ele\n",
    "            break\n",
    "    return answer_key"
   ]
  },
  {
   "cell_type": "markdown",
   "metadata": {},
   "source": [
    "# Ordered Dict - O(N) runtime, O(N) space"
   ]
  },
  {
   "cell_type": "code",
   "execution_count": 5,
   "metadata": {},
   "outputs": [],
   "source": [
    "from collections import OrderedDict\n",
    "\n",
    "def findFirstUnique(lst):\n",
    "    orderedCounts = OrderedDict()  # Creating an ordered dictionary\n",
    "    # Initializing dictionary with pairs like (lst[i],0)\n",
    "    orderedCounts = orderedCounts.fromkeys(lst, 0)\n",
    "    for ele in lst:\n",
    "        orderedCounts[ele] += 1  # Incrementing for every repitition\n",
    "\n",
    "    for ele in orderedCounts:\n",
    "        if orderedCounts[ele] == 1:\n",
    "            return ele\n",
    "    return None"
   ]
  },
  {
   "cell_type": "code",
   "execution_count": 6,
   "metadata": {},
   "outputs": [
    {
     "data": {
      "text/plain": [
       "9"
      ]
     },
     "execution_count": 6,
     "metadata": {},
     "output_type": "execute_result"
    }
   ],
   "source": [
    "findFirstUnique([9,2,3,2,6,6])"
   ]
  }
 ],
 "metadata": {
  "kernelspec": {
   "display_name": "Python 3",
   "language": "python",
   "name": "python3"
  },
  "language_info": {
   "codemirror_mode": {
    "name": "ipython",
    "version": 3
   },
   "file_extension": ".py",
   "mimetype": "text/x-python",
   "name": "python",
   "nbconvert_exporter": "python",
   "pygments_lexer": "ipython3",
   "version": "3.7.3"
  }
 },
 "nbformat": 4,
 "nbformat_minor": 2
}

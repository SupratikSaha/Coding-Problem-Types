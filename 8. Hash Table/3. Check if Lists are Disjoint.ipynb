{
 "cells": [
  {
   "cell_type": "markdown",
   "metadata": {},
   "source": [
    "Problem Statement. <br/>\n",
    "\n",
    "You have to implement the is_disjoint() function which checks whether two given lists are disjoint or not. Two lists are disjoint if there are no common elements between them. The assumption is that there are no duplicate elements in each list. <br/>\n",
    "\n",
    "Sample Input: <br/>\n",
    "list1 = [9,4,3,1,-2,6,5] <br/>\n",
    "list2 = [7,10,8] <br/>\n",
    "\n",
    "Sample Output: True <br/>"
   ]
  },
  {
   "cell_type": "markdown",
   "metadata": {},
   "source": [
    "# Set - O(M + N) runtime, O(M) space, where M and N are the lengths of the smaller and the larger lists respectively"
   ]
  },
  {
   "cell_type": "code",
   "execution_count": 3,
   "metadata": {},
   "outputs": [],
   "source": [
    "def is_disjoint(list1, list2):\n",
    "    # Write your code here\n",
    "    if len(list2) < len(list1):\n",
    "        is_disjoint(list2, list1)\n",
    "    nums = set(list1)\n",
    "\n",
    "    for num in list2:\n",
    "        if num in nums:\n",
    "            return False\n",
    "    return True"
   ]
  },
  {
   "cell_type": "code",
   "execution_count": 4,
   "metadata": {},
   "outputs": [
    {
     "data": {
      "text/plain": [
       "True"
      ]
     },
     "execution_count": 4,
     "metadata": {},
     "output_type": "execute_result"
    }
   ],
   "source": [
    "is_disjoint([9,4,3,1,-2,6,5], [7,10,8])"
   ]
  }
 ],
 "metadata": {
  "kernelspec": {
   "display_name": "Python 3",
   "language": "python",
   "name": "python3"
  },
  "language_info": {
   "codemirror_mode": {
    "name": "ipython",
    "version": 3
   },
   "file_extension": ".py",
   "mimetype": "text/x-python",
   "name": "python",
   "nbconvert_exporter": "python",
   "pygments_lexer": "ipython3",
   "version": "3.7.3"
  }
 },
 "nbformat": 4,
 "nbformat_minor": 2
}

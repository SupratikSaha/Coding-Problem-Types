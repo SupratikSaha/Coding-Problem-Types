{
 "cells": [
  {
   "cell_type": "markdown",
   "metadata": {},
   "source": [
    "Problem Statement. <br/>\n",
    "\n",
    "You must implement the find_sub_zero(my_list) function which will take in a list of positive and negative integers. It will tell us if there exists a sublist in which the sum of all elements is zero. The term sublist implies that the elements whose sum is 0 must occur consecutively. <br/>\n",
    "\n",
    "A list with these contents would return True: <br/>\n",
    "[6, 4, -7, 3, 12, 9] <br/>\n",
    "\n",
    "Whereas this would return False as the elements which sum up to be 0 do not appear together: <br/>\n",
    "[-7, 4, 6, 3, 12, 9]"
   ]
  },
  {
   "cell_type": "markdown",
   "metadata": {},
   "source": [
    "# Brute Force - O(N ^ 2) runtime, O(1) space"
   ]
  },
  {
   "cell_type": "code",
   "execution_count": 1,
   "metadata": {},
   "outputs": [],
   "source": [
    "def find_sub_zero(my_list):\n",
    "    n = len(my_list)\n",
    "    for i in range(n):\n",
    "        currSum = my_list[i]\n",
    "        if currSum == 0: return True\n",
    "        for j in range(i+1, n):\n",
    "            currSum += my_list[j]\n",
    "            if currSum == 0: return True\n",
    "\n",
    "    return False"
   ]
  },
  {
   "cell_type": "markdown",
   "metadata": {},
   "source": [
    "# Iterative Hashing - O(N) runtime, O(N) space"
   ]
  },
  {
   "cell_type": "code",
   "execution_count": 3,
   "metadata": {},
   "outputs": [],
   "source": [
    "def find_sub_zero(my_list):\n",
    "    # Use hash table to store the cumulative sum as key\n",
    "    # and the element as value till which sum has been calculated\n",
    "    # Traverse the list and return true if either\n",
    "    # elem == 0 or sum == 0 or hash table already contains the sum\n",
    "    # If you completely traverse the list\n",
    "    # and haven't found any of the above three\n",
    "    # conditions then simply return false\n",
    "    ht = dict()\n",
    "    total_sum = 0\n",
    "    # Traverse through the given list\n",
    "    for elem in my_list:\n",
    "        total_sum += elem\n",
    "        if elem is 0 or total_sum is 0 or ht.get(total_sum) is not None:\n",
    "            return True\n",
    "        ht[total_sum] = elem\n",
    "    return False"
   ]
  },
  {
   "cell_type": "code",
   "execution_count": 4,
   "metadata": {},
   "outputs": [
    {
     "data": {
      "text/plain": [
       "True"
      ]
     },
     "execution_count": 4,
     "metadata": {},
     "output_type": "execute_result"
    }
   ],
   "source": [
    "find_sub_zero([6, 4, -7, 3, 12, 9])"
   ]
  }
 ],
 "metadata": {
  "kernelspec": {
   "display_name": "Python 3",
   "language": "python",
   "name": "python3"
  },
  "language_info": {
   "codemirror_mode": {
    "name": "ipython",
    "version": 3
   },
   "file_extension": ".py",
   "mimetype": "text/x-python",
   "name": "python",
   "nbconvert_exporter": "python",
   "pygments_lexer": "ipython3",
   "version": "3.7.3"
  }
 },
 "nbformat": 4,
 "nbformat_minor": 2
}

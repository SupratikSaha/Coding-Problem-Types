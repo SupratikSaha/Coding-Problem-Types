{
 "cells": [
  {
   "cell_type": "markdown",
   "metadata": {},
   "source": [
    "Problem Statement. <br/>\n",
    "\n",
    "You have to implement the is_formation_possible() function which will find whether a given word can be formed by combining two words from a dictionary. We assume that all words are in lower case. <br/>\n",
    "Sample Input <br/>\n",
    "\n",
    "lst = [\"the\", \"hello\", \"there\", \"answer\", \"any\", \"by\", \"world\", \"their\",\"abc\"] <br/>\n",
    "word = \"helloworld\" <br/>\n",
    "\n",
    "Sample Output: True"
   ]
  },
  {
   "cell_type": "markdown",
   "metadata": {},
   "source": [
    "# Hash Map - O(N + M ^ 2) runtime, O(N + M) space where N is the length of the list and M is the length of the word"
   ]
  },
  {
   "cell_type": "code",
   "execution_count": 1,
   "metadata": {},
   "outputs": [],
   "source": [
    "def is_formation_possible(lst, word):\n",
    "    if len(word) < 2 or len(lst) < 2:\n",
    "        return False\n",
    "    \n",
    "    hash_table = {}\n",
    "    for elem in lst:\n",
    "        hash_table[elem] = True\n",
    "    \n",
    "    n = len(word)\n",
    "    for i in range(1, n):\n",
    "        # Slice the word into two strings in each iteration\n",
    "        first = word[0:i]\n",
    "        if not hash_table.get(first):\n",
    "            continue\n",
    "        second = word[i:n]\n",
    "        if hash_table.get(second):\n",
    "            return True\n",
    "\n",
    "    return False"
   ]
  },
  {
   "cell_type": "code",
   "execution_count": 3,
   "metadata": {},
   "outputs": [
    {
     "data": {
      "text/plain": [
       "True"
      ]
     },
     "execution_count": 3,
     "metadata": {},
     "output_type": "execute_result"
    }
   ],
   "source": [
    "is_formation_possible([\"the\", \"hello\", \"there\", \"answer\", \"any\", \"by\", \"world\", \"their\",\"abc\"], \"helloworld\")"
   ]
  }
 ],
 "metadata": {
  "kernelspec": {
   "display_name": "Python 3",
   "language": "python",
   "name": "python3"
  },
  "language_info": {
   "codemirror_mode": {
    "name": "ipython",
    "version": 3
   },
   "file_extension": ".py",
   "mimetype": "text/x-python",
   "name": "python",
   "nbconvert_exporter": "python",
   "pygments_lexer": "ipython3",
   "version": "3.7.3"
  }
 },
 "nbformat": 4,
 "nbformat_minor": 2
}

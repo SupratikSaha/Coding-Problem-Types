{
 "cells": [
  {
   "cell_type": "markdown",
   "metadata": {},
   "source": [
    "Problem Statement. c\n",
    "\n",
    "You will now be implementing the remove_duplicates() function. When a linked list is passed to this function, it removes any node which is a duplicate of another existing node. <br/>\n",
    "You have already seen this challenge previously in chapter 3 of this course. Here you would use HashTables for a more efficient solution. <br/>\n",
    "You can see an example below: <br/>\n",
    "\n",
    "Sample Input: <br/>\n",
    "LinkedList = 1->2->2->2->3->4->4->5->6 <br/>\n",
    "\n",
    "Sample Output: <br/>\n",
    "LinkedList = 1->2->3->4->5->6"
   ]
  },
  {
   "cell_type": "markdown",
   "metadata": {},
   "source": [
    "# Set - O(N) runtime, O(N) space"
   ]
  },
  {
   "cell_type": "code",
   "execution_count": 1,
   "metadata": {},
   "outputs": [],
   "source": [
    "def remove_duplicates(lst):\n",
    "    llset = set()\n",
    "\n",
    "    prev, node = None, lst.get_head()\n",
    "    while node:\n",
    "        if node.data not in llset:\n",
    "            llset.add(node.data)\n",
    "            prev = node\n",
    "        else:\n",
    "            prev.next_element = node.next_element\n",
    "\n",
    "        node = node.next_element"
   ]
  }
 ],
 "metadata": {
  "kernelspec": {
   "display_name": "Python 3",
   "language": "python",
   "name": "python3"
  },
  "language_info": {
   "codemirror_mode": {
    "name": "ipython",
    "version": 3
   },
   "file_extension": ".py",
   "mimetype": "text/x-python",
   "name": "python",
   "nbconvert_exporter": "python",
   "pygments_lexer": "ipython3",
   "version": "3.7.3"
  }
 },
 "nbformat": 4,
 "nbformat_minor": 2
}

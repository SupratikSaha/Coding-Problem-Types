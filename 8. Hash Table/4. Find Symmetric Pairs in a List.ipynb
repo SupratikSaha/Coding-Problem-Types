{
 "cells": [
  {
   "cell_type": "markdown",
   "metadata": {},
   "source": [
    "Problem Statement. <br/>\n",
    "\n",
    "By definition, (a, b) and (c, d) are symmetric pairs iff, a = d and b = c. In this problem, you have to implement the find_symmetric(list) function which will find all the symmetric pairs in a given list. <br/>\n",
    "\n",
    "Sample Input: <br/>\n",
    "list = [[1, 2], [3, 4], [5, 9], [4, 3], [9, 5]] <br/>\n",
    "\n",
    "Sample Output: <br/>\n",
    "[[3, 4], [4, 3], [5, 9], [9, 5]]"
   ]
  },
  {
   "cell_type": "markdown",
   "metadata": {},
   "source": [
    "# Set - O(N) runtime, O(N) space"
   ]
  },
  {
   "cell_type": "code",
   "execution_count": 1,
   "metadata": {},
   "outputs": [],
   "source": [
    "def find_symmetric(my_list):\n",
    "    seen = set()\n",
    "    result = []\n",
    "    for numList in my_list:\n",
    "        reverse_tuple = (numList[1], numList[0])\n",
    "        if reverse_tuple in seen:\n",
    "            result += [numList, list(reverse_tuple)]\n",
    "        else:\n",
    "            seen.add(tuple(numList))\n",
    "    return result"
   ]
  },
  {
   "cell_type": "code",
   "execution_count": 2,
   "metadata": {},
   "outputs": [
    {
     "data": {
      "text/plain": [
       "[[4, 3], [3, 4], [9, 5], [5, 9]]"
      ]
     },
     "execution_count": 2,
     "metadata": {},
     "output_type": "execute_result"
    }
   ],
   "source": [
    "find_symmetric([[1, 2], [3, 4], [5, 9], [4, 3], [9, 5]])"
   ]
  }
 ],
 "metadata": {
  "kernelspec": {
   "display_name": "Python 3",
   "language": "python",
   "name": "python3"
  },
  "language_info": {
   "codemirror_mode": {
    "name": "ipython",
    "version": 3
   },
   "file_extension": ".py",
   "mimetype": "text/x-python",
   "name": "python",
   "nbconvert_exporter": "python",
   "pygments_lexer": "ipython3",
   "version": "3.7.3"
  }
 },
 "nbformat": 4,
 "nbformat_minor": 2
}

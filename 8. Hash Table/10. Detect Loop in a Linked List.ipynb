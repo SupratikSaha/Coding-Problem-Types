{
 "cells": [
  {
   "cell_type": "markdown",
   "metadata": {},
   "source": [
    "Problem Statement. <br/>\n",
    "\n",
    "By definition, a loop is formed when a node in your linked list points to a previously traversed node. <br/>\n",
    "You must implement the detect_loop() function which will take a linked list as input and deduce whether or not a loop is present. <br/>\n",
    "You have already seen this challenge previously in chapter 3 of this course. Here you would use HashTables for a more efficient solution. <br/>\n",
    "\n",
    "Sample Input:\n",
    "LinkedList = 7->14->21->7 <br/> # Both '7's are the same node. Not duplicates.\n",
    "\n",
    "Sample Output: True"
   ]
  },
  {
   "cell_type": "code",
   "execution_count": 1,
   "metadata": {},
   "outputs": [],
   "source": [
    "class Node:\n",
    "    def __init__(self, data):\n",
    "        self.data = data\n",
    "        self.next_element = None"
   ]
  },
  {
   "cell_type": "code",
   "execution_count": 2,
   "metadata": {},
   "outputs": [],
   "source": [
    "class LinkedList:\n",
    "    def __init__(self):\n",
    "        self.head_node = None\n",
    "\n",
    "    def get_head(self):\n",
    "        return self.head_node"
   ]
  },
  {
   "cell_type": "markdown",
   "metadata": {},
   "source": [
    "# Set - O(N) runtime, O(N) space"
   ]
  },
  {
   "cell_type": "code",
   "execution_count": 3,
   "metadata": {},
   "outputs": [],
   "source": [
    "def detect_loop(lst):\n",
    "    root = lst.get_head()\n",
    "    nodeSet = set()\n",
    "    while root:\n",
    "        if root in nodeSet:\n",
    "            return True\n",
    "        else:\n",
    "            nodeSet.add(root)\n",
    "\n",
    "        root = root.next_element\n",
    "    \n",
    "    return False"
   ]
  }
 ],
 "metadata": {
  "kernelspec": {
   "display_name": "Python 3",
   "language": "python",
   "name": "python3"
  },
  "language_info": {
   "codemirror_mode": {
    "name": "ipython",
    "version": 3
   },
   "file_extension": ".py",
   "mimetype": "text/x-python",
   "name": "python",
   "nbconvert_exporter": "python",
   "pygments_lexer": "ipython3",
   "version": "3.7.3"
  }
 },
 "nbformat": 4,
 "nbformat_minor": 2
}

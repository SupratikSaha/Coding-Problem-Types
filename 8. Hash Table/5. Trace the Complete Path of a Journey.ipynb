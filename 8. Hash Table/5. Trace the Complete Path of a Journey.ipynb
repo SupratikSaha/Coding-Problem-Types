{
 "cells": [
  {
   "cell_type": "markdown",
   "metadata": {},
   "source": [
    "Problem Statement. <br/>\n",
    "\n",
    "You have to implement the trace_path() function which will take in a list of source-destination pairs and return the correct sequence of the whole journey from the first city to the last. <br/>\n",
    "\n",
    "Sample Input:  <br/>\n",
    "dict = { <br/>\n",
    "  \"NewYork\": \"Chicago\", <br/>\n",
    "  \"Boston\": \"Texas\", <br/>\n",
    "  \"Missouri\": \"NewYork\", <br/>\n",
    "  \"Texas\": \"Missouri\" <br/>\n",
    "} <br/>\n",
    "\n",
    "Sample Output: <br/>\n",
    "[[\"Boston\", \"Texas\"] , [\"Texas\", \"Missouri\"] , [\"Missouri\", \"NewYork\"] , [\"NewYork\", \"Chicago\"]]"
   ]
  },
  {
   "cell_type": "markdown",
   "metadata": {},
   "source": [
    "# Reverse Dict - O(N) runtime, O(N) space"
   ]
  },
  {
   "cell_type": "code",
   "execution_count": 1,
   "metadata": {},
   "outputs": [],
   "source": [
    "def trace_path(my_dict):\n",
    "    result = []\n",
    "    # Create a reverse dict of the given dict i.e if the given dict has (N,C)\n",
    "    # then reverse dict will have (C,N) as key-value pair\n",
    "    # Traverse original dict and see if it's key exists in reverse dict\n",
    "    # If it doesn't exist then we found our starting point.\n",
    "    # After the starting point is found, simply trace the complete path\n",
    "    # from the original dict.\n",
    "    reverse_dict = dict()\n",
    "    # To fill reverse dict, iterate through the given dict\n",
    "    keys = my_dict.keys()\n",
    "    for key in keys:\n",
    "        reverse_dict[my_dict.get(key)] = key\n",
    "    # Find the starting point of itinerary\n",
    "    from_loc = None\n",
    "    keys_rev = reverse_dict.keys()\n",
    "    for key in keys:\n",
    "        if key not in reverse_dict:\n",
    "            from_loc = key\n",
    "            break\n",
    "            # Trace complete path\n",
    "    to = my_dict.get(from_loc)\n",
    "    while to is not None:\n",
    "        result.append([from_loc, to])\n",
    "        from_loc = to\n",
    "        to = my_dict.get(to)\n",
    "    return result"
   ]
  },
  {
   "cell_type": "code",
   "execution_count": 2,
   "metadata": {},
   "outputs": [
    {
     "data": {
      "text/plain": [
       "[['Boston', 'Texas'],\n",
       " ['Texas', 'Missouri'],\n",
       " ['Missouri', 'NewYork'],\n",
       " ['NewYork', 'Chicago']]"
      ]
     },
     "execution_count": 2,
     "metadata": {},
     "output_type": "execute_result"
    }
   ],
   "source": [
    "trace_path({\"NewYork\": \"Chicago\",\"Boston\": \"Texas\",\"Missouri\": \"NewYork\",\"Texas\": \"Missouri\"})"
   ]
  }
 ],
 "metadata": {
  "kernelspec": {
   "display_name": "Python 3",
   "language": "python",
   "name": "python3"
  },
  "language_info": {
   "codemirror_mode": {
    "name": "ipython",
    "version": 3
   },
   "file_extension": ".py",
   "mimetype": "text/x-python",
   "name": "python",
   "nbconvert_exporter": "python",
   "pygments_lexer": "ipython3",
   "version": "3.7.3"
  }
 },
 "nbformat": 4,
 "nbformat_minor": 2
}

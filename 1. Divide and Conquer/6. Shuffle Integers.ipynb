{
 "cells": [
  {
   "cell_type": "markdown",
   "metadata": {},
   "source": [
    "Problem Statement <br/>\n",
    "\n",
    "Given a list of integers of size 2n2^n2​n​​ and taking all the boundary cases in consideration, shuffle the list, without using extra space. <br/>\n",
    "\n",
    "Input: lst = [1, 2, 3, 4, 5, 6, 7, 8] <br/>\n",
    "\n",
    "Output: lst = [1, 5, 2, 6, 3, 7, 4, 8]"
   ]
  },
  {
   "cell_type": "markdown",
   "metadata": {},
   "source": [
    "# Divide and Conquer - O(N * logN) runtime, O(N) space"
   ]
  },
  {
   "cell_type": "code",
   "execution_count": 42,
   "metadata": {},
   "outputs": [],
   "source": [
    "import math\n",
    "\n",
    "def shuffle_list(lst):\n",
    "    \"\"\"\n",
    "    Shuffles the list\n",
    "    :param lst: List of integers\n",
    "    \"\"\"\n",
    "    if not lst or len(lst) == 0:\n",
    "        return\n",
    "    log = math.log2(len(lst)) % 2\n",
    "    if len(lst) != 2 and (log == 1 or log == 0):\n",
    "        shuffle_list_recursive(lst, 0, len(lst) - 1)\n",
    "    \n",
    "    return lst\n",
    "\n",
    "def shuffle_list_recursive(lst, left, right):\n",
    "    \"\"\"\n",
    "    Shuffles the list recursively\n",
    "    :param lst: List of integers\n",
    "    :param left: Left sided index of the list\n",
    "    :param right: Right sided index of the list\n",
    "    \"\"\"\n",
    "\n",
    "    # Base case: If there are more than 2 elements are remaining\n",
    "    if right - left > 1:\n",
    "        mid = (left + right) // 2  # Compute mid of the list\n",
    "        temp = mid + 1  # Using temp for swapping first half of second array\n",
    "        middle = (left + mid) // 2  # Mid is use for swapping second half for first array \n",
    "\n",
    "        # Swapping elements of the sub-list\n",
    "        for i in range(middle + 1, mid+1):\n",
    "            lst[i], lst[temp] = lst[temp], lst[i]\n",
    "            temp += 1\n",
    "\n",
    "        # Recursively pass the first and second half of the list\n",
    "        shuffle_list_recursive(lst, left, mid)\n",
    "        shuffle_list_recursive(lst, mid + 1, right)"
   ]
  },
  {
   "cell_type": "code",
   "execution_count": 43,
   "metadata": {},
   "outputs": [
    {
     "data": {
      "text/plain": [
       "[1, 5, 2, 6, 3, 7, 4, 8]"
      ]
     },
     "execution_count": 43,
     "metadata": {},
     "output_type": "execute_result"
    }
   ],
   "source": [
    "shuffle_list([1, 2, 3, 4, 5, 6, 7, 8])"
   ]
  }
 ],
 "metadata": {
  "kernelspec": {
   "display_name": "Python 3",
   "language": "python",
   "name": "python3"
  },
  "language_info": {
   "codemirror_mode": {
    "name": "ipython",
    "version": 3
   },
   "file_extension": ".py",
   "mimetype": "text/x-python",
   "name": "python",
   "nbconvert_exporter": "python",
   "pygments_lexer": "ipython3",
   "version": "3.7.3"
  }
 },
 "nbformat": 4,
 "nbformat_minor": 2
}

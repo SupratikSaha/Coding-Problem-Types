{
 "cells": [
  {
   "cell_type": "markdown",
   "metadata": {},
   "source": [
    "Problem Statement <br/>\n",
    "\n",
    "Inversion count represents how far or close a list is from being sorted. If a list is sorted, the inversion count will be 0. But if it’s sorted in the reverse order, the inversion count will be maximum. <br/>\n",
    "\n",
    "Given an array of n integers, find the inversion count for its elements. <br/>\n",
    "\n",
    "Input: [7, 6, 5, 8] <br/>\n",
    "    \n",
    "Output: result = 3"
   ]
  },
  {
   "cell_type": "markdown",
   "metadata": {},
   "source": [
    "# Brute Force - O(N ^ 2) runtime, O(1) space"
   ]
  },
  {
   "cell_type": "code",
   "execution_count": 1,
   "metadata": {},
   "outputs": [],
   "source": [
    "def inversion_count(lst):\n",
    "    \"\"\"\n",
    "    Function to find Inversion Count\n",
    "    :param lst: List of integers\n",
    "    :return: The inversion count of the list\n",
    "    \"\"\"\n",
    "    size = len(lst)\n",
    "    inv_count = 0  # variable to store inversion count\n",
    "    \n",
    "    for curr in range(size - 1): \n",
    "        for right in range(curr + 1, size): \n",
    "            if lst[curr] > lst[right]:\n",
    "                inv_count += 1\n",
    " \n",
    "    return inv_count "
   ]
  },
  {
   "cell_type": "markdown",
   "metadata": {},
   "source": [
    "# Divide and Conquer - O(N * log N) runtime, O(N) space"
   ]
  },
  {
   "cell_type": "code",
   "execution_count": 4,
   "metadata": {},
   "outputs": [],
   "source": [
    "def inversion_count(lst):\n",
    "    \"\"\"\n",
    "    Function to find Inversion Count\n",
    "    :param lst: List of integers\n",
    "    :return: The inversion count of the list\n",
    "    \"\"\"\n",
    "\n",
    "    return inversion_count_recursive(lst, 0, len(lst) - 1)\n",
    "\n",
    "def inversion_count_recursive(lst, left, right):\n",
    "    \"\"\"\n",
    "    This Function will use MergeSort to count inversions\n",
    "    :param lst: List of integers\n",
    "    :param left: Left sided index of the list\n",
    "    :param right: Right sided index of the list\n",
    "    :return: Inversion count of the list\n",
    "    \"\"\"\n",
    "    # A variable inv_count is used to store \n",
    "    # inversion counts in each recursive call \n",
    "    inv_count = 0\n",
    "\n",
    "    # Make a recursive call if we have more than one elements\n",
    "    if left < right:\n",
    "\n",
    "        # mid is calculated to divide the list into two sub-lists\n",
    "        mid = (left + right) // 2\n",
    "\n",
    "        # Calculating inversion counts in the left sub-list\n",
    "        inv_count = inversion_count_recursive(lst, left, mid)\n",
    "\n",
    "        # Calculating inversion counts in right sub-list\n",
    "        inv_count += inversion_count_recursive(lst, mid + 1, right)\n",
    "\n",
    "        # It will find_inversion_count two sub-lists in a sorted sub-list\n",
    "        inv_count += find_inversion_count(lst, left, mid, right)\n",
    "\n",
    "    return inv_count\n",
    "\n",
    "def find_inversion_count(lst, left, mid, right):\n",
    "    \"\"\"\n",
    "    This function will find_inversion_count of two sub-lists in a single sorted sub-list\n",
    "    :param lst: List of integers\n",
    "    :param left: Left sided index of the list\n",
    "    :param right: Right sided index of the list\n",
    "    :param mid: Middle index of the list\n",
    "    :return: Inversion count of the list\n",
    "    \"\"\"\n",
    "\n",
    "    i = left  # Starting index of left sub-list\n",
    "    j = mid + 1  # Starting index of right sub-list\n",
    "    inv_count = 0\n",
    "\n",
    "    # Conditions are checked to make sure that i and j don't exceed their \n",
    "    # sub-list limits.\n",
    "    while i <= mid and j <= right:\n",
    "\n",
    "        # There will be no inversion if lst[i] <= lst[j]\n",
    "        if lst[i] <= lst[j]:\n",
    "            i += 1\n",
    "        else:\n",
    "            # Inversion will occur. \n",
    "            inv_count += (mid - i + 1)\n",
    "            j += 1\n",
    "\n",
    "    return inv_count"
   ]
  },
  {
   "cell_type": "code",
   "execution_count": 6,
   "metadata": {},
   "outputs": [
    {
     "data": {
      "text/plain": [
       "3"
      ]
     },
     "execution_count": 6,
     "metadata": {},
     "output_type": "execute_result"
    }
   ],
   "source": [
    "inversion_count([7, 6, 5, 8])"
   ]
  }
 ],
 "metadata": {
  "kernelspec": {
   "display_name": "Python 3",
   "language": "python",
   "name": "python3"
  },
  "language_info": {
   "codemirror_mode": {
    "name": "ipython",
    "version": 3
   },
   "file_extension": ".py",
   "mimetype": "text/x-python",
   "name": "python",
   "nbconvert_exporter": "python",
   "pygments_lexer": "ipython3",
   "version": "3.7.3"
  }
 },
 "nbformat": 4,
 "nbformat_minor": 2
}

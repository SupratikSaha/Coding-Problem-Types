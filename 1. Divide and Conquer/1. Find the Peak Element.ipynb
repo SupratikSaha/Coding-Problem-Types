{
 "cells": [
  {
   "cell_type": "markdown",
   "metadata": {},
   "source": [
    "Problem statement: <br/>\n",
    "\n",
    "Given a list and its size, return one of its peak elements. <br/>\n",
    "\n",
    "A peak element in a list is the element that is greater than or equal to its neighbors. For elements at the end of a list, we only consider its single neighbor. <br/>\n",
    "\n",
    "Sample input: <br/>\n",
    "lst = [47, 85, 85, 35, 49, 49] <br/>\n",
    "\n",
    "Sample output: <br/>\n",
    "result = 85 or 49"
   ]
  },
  {
   "cell_type": "markdown",
   "metadata": {},
   "source": [
    "# Brute Force - O(N) runtime, O(1) space"
   ]
  },
  {
   "cell_type": "code",
   "execution_count": 1,
   "metadata": {},
   "outputs": [],
   "source": [
    "# Function to find the peak element in the list\n",
    "def find_peak(lst):\n",
    "    \"\"\"\n",
    "    Finds a peak element\n",
    "    :param lst: List of integers\n",
    "    :return: Returns a peak element in a given list\n",
    "    \"\"\"\n",
    "\n",
    "    # If the list in empty\n",
    "    if len(lst) is 0:\n",
    "        return -1\n",
    "    \n",
    "    # If the list has only one element\n",
    "    if len(lst) is 1:\n",
    "        return lst[0]\n",
    "\n",
    "    for i in range(1, len(lst) -1):\n",
    "        if lst[i] >= lst[i-1] and lst[i] >= lst[i+1]:\n",
    "            return lst[i]\n",
    "\n",
    "    if lst[0] >= lst[1]:\n",
    "        return lst[0]\n",
    "    elif lst[len(lst) - 1] >= lst[len(lst) - 2]:\n",
    "        return lst[len(lst) - 1]\n",
    "\n",
    "    return -1"
   ]
  },
  {
   "cell_type": "markdown",
   "metadata": {},
   "source": [
    "# Divide and Conquer - O(log N) runtime, O(1) space"
   ]
  },
  {
   "cell_type": "code",
   "execution_count": 3,
   "metadata": {},
   "outputs": [],
   "source": [
    "def find_peak(lst):\n",
    "    \"\"\"\n",
    "    Finds a peak element\n",
    "    :param lst: List of integers\n",
    "    :return: Returns a peak element in a given list\n",
    "    \"\"\"\n",
    "    return lst[find_peak_recursive(0, len(lst) - 1, lst)]\n",
    "\n",
    "# Utility function\n",
    "def find_peak_recursive(low, high, lst):\n",
    "    \"\"\"\n",
    "    Finds a peak element\n",
    "    :param low: Starting index of a given list\n",
    "    :param high: Ending index of a given list\n",
    "    :param lst: List of integers\n",
    "    :return: Returns a peak element in a given list\n",
    "    \"\"\"\n",
    "    # Finding the middle index\n",
    "    middle = low + (high - low) // 2\n",
    "\n",
    "    # If there are neighbours\n",
    "    if (middle == len(lst) - 1 or lst[middle + 1] <= lst[middle]) and (middle == 0 or lst[middle - 1] <= lst[middle]):\n",
    "        return middle\n",
    "\n",
    "    # If left neighbour is greater, then peak element is in the left half\n",
    "    elif (lst[middle - 1] > lst[middle]) and middle > 0:\n",
    "        return find_peak_recursive(low, (middle - 1), lst)\n",
    "\n",
    "    # If right neighbour is greater, then peak element is in the right half\n",
    "    else:\n",
    "        return find_peak_recursive((middle + 1), high, lst)"
   ]
  },
  {
   "cell_type": "code",
   "execution_count": 4,
   "metadata": {},
   "outputs": [
    {
     "data": {
      "text/plain": [
       "85"
      ]
     },
     "execution_count": 4,
     "metadata": {},
     "output_type": "execute_result"
    }
   ],
   "source": [
    "find_peak([47, 85, 85, 35, 49, 49])"
   ]
  }
 ],
 "metadata": {
  "kernelspec": {
   "display_name": "Python 3",
   "language": "python",
   "name": "python3"
  },
  "language_info": {
   "codemirror_mode": {
    "name": "ipython",
    "version": 3
   },
   "file_extension": ".py",
   "mimetype": "text/x-python",
   "name": "python",
   "nbconvert_exporter": "python",
   "pygments_lexer": "ipython3",
   "version": "3.7.3"
  }
 },
 "nbformat": 4,
 "nbformat_minor": 2
}

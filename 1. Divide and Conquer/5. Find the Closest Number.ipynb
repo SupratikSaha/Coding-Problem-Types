{
 "cells": [
  {
   "cell_type": "markdown",
   "metadata": {},
   "source": [
    "Problem Statement <br/>\n",
    "\n",
    "In any given sorted list, the closest number to a given number is the one whose absolute difference with the given number is closest to zero. <br/>\n",
    "\n",
    "Input: <br/>\n",
    "lst = [-9, -4, -2, 0, 1, 3, 4, 10] <br/>\n",
    "target = 5 <br/>\n",
    "\n",
    "Output: <br/>\n",
    "result = 4"
   ]
  },
  {
   "cell_type": "markdown",
   "metadata": {},
   "source": [
    "# Binary Search - O(log N) runtime, O(1) space"
   ]
  },
  {
   "cell_type": "code",
   "execution_count": 11,
   "metadata": {},
   "outputs": [],
   "source": [
    "def find_closest(lst, target):\n",
    "    \"\"\"\n",
    "    Finds the closest number to the target in the list\n",
    "    :param lst: Sorted list of integers\n",
    "    :param target: Left sided index of the list\n",
    "    :return: Closest element from the list to the target\n",
    "    \"\"\"\n",
    "\n",
    "    low, high = 0, len(lst) - 1\n",
    "    minDifference, result = float('inf'), -1\n",
    "    \n",
    "    while low <= high:\n",
    "        mid = low + (high - low) // 2\n",
    "        currDiff =  abs(lst[mid] - target)\n",
    "        if currDiff < minDifference:\n",
    "            minDifference = currDiff\n",
    "            result = lst[mid]\n",
    "        if lst[mid] == target:\n",
    "            return result\n",
    "        elif lst[mid] > target:\n",
    "            high = mid - 1\n",
    "        else:\n",
    "            low = mid + 1\n",
    "\n",
    "    return result"
   ]
  },
  {
   "cell_type": "code",
   "execution_count": 17,
   "metadata": {},
   "outputs": [
    {
     "data": {
      "text/plain": [
       "4"
      ]
     },
     "execution_count": 17,
     "metadata": {},
     "output_type": "execute_result"
    }
   ],
   "source": [
    "find_closest([-9, -4, -2, 0, 1, 3, 4, 10], 5)"
   ]
  }
 ],
 "metadata": {
  "kernelspec": {
   "display_name": "Python 3",
   "language": "python",
   "name": "python3"
  },
  "language_info": {
   "codemirror_mode": {
    "name": "ipython",
    "version": 3
   },
   "file_extension": ".py",
   "mimetype": "text/x-python",
   "name": "python",
   "nbconvert_exporter": "python",
   "pygments_lexer": "ipython3",
   "version": "3.7.3"
  }
 },
 "nbformat": 4,
 "nbformat_minor": 2
}

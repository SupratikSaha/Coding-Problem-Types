{
 "cells": [
  {
   "cell_type": "markdown",
   "metadata": {},
   "source": [
    "Problem statement: <br/>\n",
    "\n",
    "Given an integer list and its size, return the maximum sublist sum. The list may contain both positive and negative integers and is unsorted. <br/>\n",
    "Input: <br/>\n",
    "\n",
    "    List of integers lst\n",
    "    Window size k\n",
    "\n",
    "Output: <br/>\n",
    "\n",
    "    Maximum sub-list of size k\n",
    "\n",
    "Sample input: <br/>\n",
    "\n",
    "lst = [2, 1, 5, 1, 3, 2] <br/>\n",
    "k = 3 <br/>\n",
    "\n",
    "Sample output:  <br/>\n",
    "\n",
    "result = 9"
   ]
  },
  {
   "cell_type": "markdown",
   "metadata": {},
   "source": [
    "# Brute Force - O(N * K) runtime, O(1) space"
   ]
  },
  {
   "cell_type": "code",
   "execution_count": 1,
   "metadata": {},
   "outputs": [],
   "source": [
    "def max_sub_list_of_size_k(lst, k):\n",
    "    \"\"\"\n",
    "    Finds a maximum sum of a sub-list of given window size k \n",
    "    :param lst: List of integers\n",
    "    :param k: Window size of the list\n",
    "    :return: Returns the maximum sum of a sub-list of given window size k\n",
    "    \"\"\"\n",
    "    max_sum = 0\n",
    "    window_sum = 0\n",
    "\n",
    "    for i in range(len(lst) - k + 1): # Loop runs (List Size - k +1) times\n",
    "        window_sum = 0\n",
    "        for j in range(i, i + k): # Loop in a window\n",
    "            window_sum += lst[j]\n",
    "        max_sum = max(max_sum, window_sum) # Updating the max sum\n",
    "    return max_sum"
   ]
  },
  {
   "cell_type": "markdown",
   "metadata": {},
   "source": [
    "# Sliding Window - O(N) runtime, O(1) space"
   ]
  },
  {
   "cell_type": "code",
   "execution_count": 3,
   "metadata": {},
   "outputs": [],
   "source": [
    "def max_sub_list_of_size_k(lst, k):\n",
    "    \"\"\"\n",
    "    Finds a maximum sum of a sub-list of given window size k \n",
    "    :param lst: List of integers\n",
    "    :param k: Window size of the list\n",
    "    :return: Returns the maximum sum of a sub-list of given window size k\n",
    "    \"\"\"\n",
    "    max_sum , window_sum = 0, 0\n",
    "    window_start = 0\n",
    "\n",
    "    for window_end in range(len(lst)):\n",
    "        window_sum += lst[window_end]    # Add the next element\n",
    "        \n",
    "        # Slide the window, we don't need to slide if we've not hit the required window size of 'k'\n",
    "        if window_end >= k-1:\n",
    "            max_sum = max(max_sum, window_sum)\n",
    "            window_sum -= lst[window_start]    # Subtract the element going out\n",
    "            window_start += 1    # Slide the window ahead\n",
    "    \n",
    "    return max_sum"
   ]
  },
  {
   "cell_type": "code",
   "execution_count": 4,
   "metadata": {},
   "outputs": [
    {
     "data": {
      "text/plain": [
       "9"
      ]
     },
     "execution_count": 4,
     "metadata": {},
     "output_type": "execute_result"
    }
   ],
   "source": [
    "max_sub_list_of_size_k([2, 1, 5, 1, 3, 2], 3)"
   ]
  }
 ],
 "metadata": {
  "kernelspec": {
   "display_name": "Python 3",
   "language": "python",
   "name": "python3"
  },
  "language_info": {
   "codemirror_mode": {
    "name": "ipython",
    "version": 3
   },
   "file_extension": ".py",
   "mimetype": "text/x-python",
   "name": "python",
   "nbconvert_exporter": "python",
   "pygments_lexer": "ipython3",
   "version": "3.7.3"
  }
 },
 "nbformat": 4,
 "nbformat_minor": 2
}

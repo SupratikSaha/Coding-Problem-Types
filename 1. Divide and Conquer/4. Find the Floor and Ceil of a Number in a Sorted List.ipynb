{
 "cells": [
  {
   "cell_type": "markdown",
   "metadata": {},
   "source": [
    "Problem Statement <br/>\n",
    "\n",
    "You are given a collection of integers in a list lst. For any given number x, return a floorfloorfloor and ceilceilceil value of x from the given list lst. <br/>\n",
    "\n",
    "Input: [1, 2, 3, 5, 7], 4 <br/>\n",
    "    \n",
    "Output: 3, 5"
   ]
  },
  {
   "cell_type": "markdown",
   "metadata": {},
   "source": [
    "# Binary Search - O(log N) runtime, O(1) space"
   ]
  },
  {
   "cell_type": "code",
   "execution_count": 1,
   "metadata": {},
   "outputs": [],
   "source": [
    "def find_floor(lst, low, high, x):\n",
    "    \"\"\"\n",
    "    Modified binary search function to find the floor of given number x\n",
    "    :param lst: List of integers\n",
    "    :param low: Starting index of the list\n",
    "    :param high: Ending index of the list\n",
    "    :return: Returns the floor of an integer x if exists, otherwise -1\n",
    "    \"\"\"\n",
    "        \n",
    "    if lst[low] > x:\n",
    "        return -1\n",
    "\n",
    "    while low <= high:\n",
    "        mid = low + (high - low) // 2\n",
    "        if lst[mid] == x:\n",
    "            return lst[mid]\n",
    "        elif lst[mid] > x:\n",
    "            high = mid - 1\n",
    "        else:\n",
    "            low = mid + 1\n",
    "\n",
    "    return lst[high]\n",
    "\n",
    "\n",
    "def find_ceiling(lst, low, high, x):\n",
    "    \"\"\"\n",
    "    Modified binary search function to find the floor of given number x\n",
    "    :param lst: List of integers\n",
    "    :param low: Starting index of the list\n",
    "    :param high: Ending index of the list\n",
    "    :return: Returns the ceiling of an integer x if exists, otherwise -1\n",
    "    \"\"\"\n",
    "    \n",
    "    if lst[high] < x:\n",
    "        return -1\n",
    "\n",
    "    while low <= high:\n",
    "        mid = low + (high - low) // 2\n",
    "        if lst[mid] == x:\n",
    "            return lst[mid]\n",
    "        if lst[mid] > x:\n",
    "            high = mid - 1\n",
    "        else:\n",
    "            low = mid + 1\n",
    "\n",
    "    return lst[low]\n",
    "\n",
    "def find_floor_ceiling(lst, x):\n",
    "    # DO NOT MODIFY THIS FUNCTION #\n",
    "\n",
    "    \"\"\"\n",
    "    Calls the find_floor and find_ceiling functions and returns their results\n",
    "    :param lst: List of integers\n",
    "    :param x: An integer\n",
    "    :return: Returns the floor of an integer x, otherwise -1\n",
    "    \"\"\"\n",
    "    return find_floor(lst, 0, len(lst) - 1, x), find_ceiling(lst, 0, len(lst) - 1, x)"
   ]
  },
  {
   "cell_type": "code",
   "execution_count": 2,
   "metadata": {},
   "outputs": [
    {
     "data": {
      "text/plain": [
       "(3, 5)"
      ]
     },
     "execution_count": 2,
     "metadata": {},
     "output_type": "execute_result"
    }
   ],
   "source": [
    "find_floor_ceiling([1, 2, 3, 5, 7], 4)"
   ]
  }
 ],
 "metadata": {
  "kernelspec": {
   "display_name": "Python 3",
   "language": "python",
   "name": "python3"
  },
  "language_info": {
   "codemirror_mode": {
    "name": "ipython",
    "version": 3
   },
   "file_extension": ".py",
   "mimetype": "text/x-python",
   "name": "python",
   "nbconvert_exporter": "python",
   "pygments_lexer": "ipython3",
   "version": "3.7.3"
  }
 },
 "nbformat": 4,
 "nbformat_minor": 2
}

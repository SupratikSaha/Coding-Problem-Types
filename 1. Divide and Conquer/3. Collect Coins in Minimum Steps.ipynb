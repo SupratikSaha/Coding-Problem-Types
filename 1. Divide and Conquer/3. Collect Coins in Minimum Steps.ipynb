{
 "cells": [
  {
   "cell_type": "markdown",
   "metadata": {},
   "source": [
    "Problem Statement <br/>\n",
    "\n",
    "You’ve been given an integer list representing the height of each stack of coins. The task is to calculate the minimum number of straight lines that pass through all the coins. <br/>\n",
    "\n",
    "Input: [2, 5, 1, 2, 3, 1] <br/>\n",
    "    \n",
    "Output: 5"
   ]
  },
  {
   "cell_type": "markdown",
   "metadata": {},
   "source": [
    "# Divide and Conquer - O(N * H) runtime, O(1) where N is the number of coins and H is the height of the stack"
   ]
  },
  {
   "cell_type": "code",
   "execution_count": 4,
   "metadata": {},
   "outputs": [],
   "source": [
    "def minimum_steps(lst):\n",
    "    \"\"\"\n",
    "    Function which calls the helper function to calculate minimum steps to collect coins from the list\n",
    "    :param lst: List of coins stack\n",
    "    :return: Returns minimum steps to collect coins from the list, otherwise 0\n",
    "    \"\"\"\n",
    "    return minimum_steps_recursive(lst, 0, len(lst), 0) \n",
    "\n",
    "def minimum_steps_recursive(lst, left, right, h):\n",
    "    \"\"\"\n",
    "    Helper recursive function to calculate minimum steps to collect coins from the list\n",
    "    :param lst: List of coins stack\n",
    "    :param left: Left sided index of the list\n",
    "    :param right: Right sided index of the list\n",
    "    :param h: Height of the stack\n",
    "    :return: Returns minimum steps to collect coins from the list, otherwise 0\n",
    "    \"\"\"\n",
    "    \n",
    "    # Base Case: When left is greater or equal to right\n",
    "    if left >= right:\n",
    "        return 0\n",
    "\n",
    "    # loop over the list of heights to get minimum height index \n",
    "    minimum_height = left\n",
    "    for i in range(left, right):\n",
    "        if lst[i] < lst[minimum_height]:\n",
    "            minimum_height = i\n",
    "\n",
    "    # Collecting all vertical line coins which are right - left\n",
    "    # and all the horizontal line coins on both sided segments\n",
    "    return min(right - left, minimum_steps_recursive(lst, left, minimum_height, lst[minimum_height])\n",
    "              + minimum_steps_recursive(lst, minimum_height + 1, right, lst[minimum_height])\n",
    "              + lst[minimum_height] - h)"
   ]
  },
  {
   "cell_type": "code",
   "execution_count": 5,
   "metadata": {},
   "outputs": [
    {
     "data": {
      "text/plain": [
       "5"
      ]
     },
     "execution_count": 5,
     "metadata": {},
     "output_type": "execute_result"
    }
   ],
   "source": [
    "minimum_steps([2, 5, 1, 2, 3, 1])"
   ]
  }
 ],
 "metadata": {
  "kernelspec": {
   "display_name": "Python 3",
   "language": "python",
   "name": "python3"
  },
  "language_info": {
   "codemirror_mode": {
    "name": "ipython",
    "version": 3
   },
   "file_extension": ".py",
   "mimetype": "text/x-python",
   "name": "python",
   "nbconvert_exporter": "python",
   "pygments_lexer": "ipython3",
   "version": "3.7.3"
  }
 },
 "nbformat": 4,
 "nbformat_minor": 2
}

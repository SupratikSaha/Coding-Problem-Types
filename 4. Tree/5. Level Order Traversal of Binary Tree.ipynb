{
 "cells": [
  {
   "cell_type": "markdown",
   "metadata": {},
   "source": [
    "Problem Statement. <br/>\n",
    "\n",
    "Given the root of a binary tree, display the node values at each level. Node values for all levels should be displayed on separate lines. Let’s take a look at the below binary tree. <br/>\n",
    "\n",
    "Example 1: <br/>\n",
    "Input: [100, 50, 200, 25, 75, 125, 300] , 25 <br/>\n",
    "Output: 50 <br/>\n",
    "\n",
    "Example 2: <br/>\n",
    "Input: [100, 50, 200, 25, 75, 125, 300] , 300 <br/>\n",
    "Output: None"
   ]
  },
  {
   "cell_type": "markdown",
   "metadata": {},
   "source": [
    "# DFS - O(N ^ 2) runtime, O(N) space"
   ]
  },
  {
   "cell_type": "code",
   "execution_count": 2,
   "metadata": {},
   "outputs": [],
   "source": [
    "# Compute the maximum height of a tree\n",
    "def get_max_height(node): \n",
    "    if node is None: \n",
    "        return 0 \n",
    "    else : \n",
    "        left_height = get_max_height(node.left) \n",
    "        right_height = get_max_height(node.right) \n",
    "\n",
    "        # Return the larger value \n",
    "        return left_height+1 if left_height > right_height else right_height+1\n",
    "\n",
    "# get nodes at a specific level\n",
    "def get_h_level_order(root , level, output): \n",
    "    if root is None: \n",
    "        return\n",
    "    if level == 1: \n",
    "        print(root.data, end=\" \")\n",
    "        output.append(str(root.data))\n",
    "    elif level > 1 : \n",
    "        get_h_level_order(root.left , level-1, output) \n",
    "        get_h_level_order(root.right , level-1, output) \n",
    "\n",
    "def level_order_traversal(root): \n",
    "    h = get_max_height(root) \n",
    "    output = []\n",
    "    for i in range(1, h+1): \n",
    "        get_h_level_order(root, i, output) \n",
    "        print()\n",
    "    return ' '.join(output)"
   ]
  },
  {
   "cell_type": "markdown",
   "metadata": {},
   "source": [
    "# BFS - O(N) runtime, O(N) space"
   ]
  },
  {
   "cell_type": "code",
   "execution_count": 1,
   "metadata": {},
   "outputs": [],
   "source": [
    "from collections import deque\n",
    "\n",
    "def level_order_traversal(root):\n",
    "    result = \"\"\n",
    "    queue = deque()\n",
    "    queue.append(root)\n",
    "\n",
    "    while queue:\n",
    "        n = len(queue)\n",
    "        for i in range(n):\n",
    "            node = queue.popleft()\n",
    "            str_data = str(node.data)\n",
    "            result = result + \" \" + str_data if result != \"\" else result + str_data\n",
    "            if i != n - 1:\n",
    "                print(str_data, end = \" \")\n",
    "            else:\n",
    "                print(str_data)\n",
    "            if node.left:\n",
    "                queue.append(node.left)\n",
    "            if node.right:\n",
    "                queue.append(node.right)\n",
    "        print()\n",
    "\n",
    "    return result"
   ]
  }
 ],
 "metadata": {
  "kernelspec": {
   "display_name": "Python 3",
   "language": "python",
   "name": "python3"
  },
  "language_info": {
   "codemirror_mode": {
    "name": "ipython",
    "version": 3
   },
   "file_extension": ".py",
   "mimetype": "text/x-python",
   "name": "python",
   "nbconvert_exporter": "python",
   "pygments_lexer": "ipython3",
   "version": "3.7.3"
  }
 },
 "nbformat": 4,
 "nbformat_minor": 2
}

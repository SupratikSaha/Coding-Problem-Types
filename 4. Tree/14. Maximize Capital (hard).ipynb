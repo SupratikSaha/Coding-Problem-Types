{
 "cells": [
  {
   "cell_type": "markdown",
   "metadata": {},
   "source": [
    "Problem Statement. <br/>\n",
    "\n",
    "Given a set of investment projects with their respective profits, we need to find the most profitable projects. We are given an initial capital and are allowed to invest only in a fixed number of projects. Our goal is to choose projects that give us the maximum profit. Write a function that returns the maximum total capital after selecting the most profitable projects. <br/>\n",
    "\n",
    "We can start an investment project only when we have the required capital. Once a project is selected, we can assume that its profit has become our capital.  <br/>\n",
    "\n",
    "Example 1: <br/>\n",
    "\n",
    "Input: Project Capitals=[0,1,2], Project Profits=[1,2,3], Initial Capital=1, Number of Projects=2 <br/>\n",
    "Output: 6 <br/>\n",
    "Explanation: <br/>\n",
    "\n",
    "    With initial capital of ‘1’, we will start the second project which will give us profit of ‘2’. Once we selected our first project, our total capital will become 3 (profit + initial capital). <br/>\n",
    "    With ‘3’ capital, we will select the third project, which will give us ‘3’ profit. <br/>\n",
    "\n",
    "After the completion of the two projects, our total capital will be 6 (1+2+3)."
   ]
  },
  {
   "cell_type": "markdown",
   "metadata": {},
   "source": [
    "# HashMap - O(N *C) runtime, O(N) space, where N is the number of projects and C is the length of capital list"
   ]
  },
  {
   "cell_type": "code",
   "execution_count": 2,
   "metadata": {},
   "outputs": [],
   "source": [
    "def find_maximum_capital(capital, profits, numberOfProjects, initialCapital):\n",
    "\n",
    "    currentCapital = initialCapital\n",
    "    currProjects = 0\n",
    "    capitalProfitDict = {}\n",
    "\n",
    "    for i, capitalValue in enumerate(capital):\n",
    "        if capitalValue not in capitalProfitDict:\n",
    "            capitalProfitDict[capitalValue] = [profits[i]]\n",
    "        else:\n",
    "            capitalProfitDict[capitalValue].append([profits[i]])\n",
    "\n",
    "    while currProjects < numberOfProjects:\n",
    "        chosenCapital = 0\n",
    "        chosenProfit = 0\n",
    "        for c in range(currentCapital + 1):\n",
    "            if c in capitalProfitDict:\n",
    "                highestProfit = max(capitalProfitDict[c])\n",
    "                if highestProfit > chosenProfit:\n",
    "                    chosenProfit = highestProfit\n",
    "                    chosenCapital = c\n",
    "        if chosenProfit == 0:\n",
    "            break\n",
    "        capitalProfitDict[chosenCapital].remove(chosenProfit)\n",
    "        if capitalProfitDict[chosenCapital] == []:\n",
    "            capitalProfitDict.pop(chosenCapital)\n",
    "        currentCapital += chosenProfit\n",
    "        currProjects += 1\n",
    "\n",
    "    return currentCapital"
   ]
  },
  {
   "cell_type": "markdown",
   "metadata": {},
   "source": [
    "# Two Heaps - O(N log N) runtime, O(N) space"
   ]
  },
  {
   "cell_type": "code",
   "execution_count": 4,
   "metadata": {},
   "outputs": [],
   "source": [
    "from heapq import *\n",
    "\n",
    "def find_maximum_capital(capital, profits, numberOfProjects, initialCapital):\n",
    "    minCapitalHeap = []\n",
    "    maxProfitHeap = []\n",
    "\n",
    "    # insert all project capitals to a min-heap\n",
    "    for i in range(0, len(profits)):\n",
    "        heappush(minCapitalHeap, (capital[i], i))\n",
    "\n",
    "    # let's try to find a total of 'numberOfProjects' best projects\n",
    "    availableCapital = initialCapital\n",
    "    for _ in range(numberOfProjects):\n",
    "        # find all projects that can be selected within the available capital and insert them in a max-heap\n",
    "        while minCapitalHeap and minCapitalHeap[0][0] <= availableCapital:\n",
    "            capital, i = heappop(minCapitalHeap)\n",
    "            heappush(maxProfitHeap, (-profits[i], i))\n",
    "\n",
    "        # terminate if we are not able to find any project that can be completed within the available capital\n",
    "        if not maxProfitHeap:\n",
    "            break\n",
    "\n",
    "        # select the project with the maximum profit\n",
    "        availableCapital += -heappop(maxProfitHeap)[0]\n",
    "\n",
    "    return availableCapital"
   ]
  },
  {
   "cell_type": "code",
   "execution_count": 5,
   "metadata": {},
   "outputs": [
    {
     "data": {
      "text/plain": [
       "6"
      ]
     },
     "execution_count": 5,
     "metadata": {},
     "output_type": "execute_result"
    }
   ],
   "source": [
    "find_maximum_capital([0, 1, 2], [1, 2, 3], 2, 1)"
   ]
  }
 ],
 "metadata": {
  "kernelspec": {
   "display_name": "Python 3",
   "language": "python",
   "name": "python3"
  },
  "language_info": {
   "codemirror_mode": {
    "name": "ipython",
    "version": 3
   },
   "file_extension": ".py",
   "mimetype": "text/x-python",
   "name": "python",
   "nbconvert_exporter": "python",
   "pygments_lexer": "ipython3",
   "version": "3.7.3"
  }
 },
 "nbformat": 4,
 "nbformat_minor": 2
}

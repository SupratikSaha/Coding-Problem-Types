{
 "cells": [
  {
   "cell_type": "markdown",
   "metadata": {},
   "source": [
    "Problem Statement. <br/>\n",
    "\n",
    "Given the roots of two binary trees, determine if these trees are identical or not. Identical trees have the same layout and data at each node. <br/>"
   ]
  },
  {
   "cell_type": "markdown",
   "metadata": {},
   "source": [
    "# DFS - O(N) runtime, O(N) space"
   ]
  },
  {
   "cell_type": "code",
   "execution_count": 1,
   "metadata": {},
   "outputs": [],
   "source": [
    "def are_identical(root1, root2):\n",
    " \n",
    "    if not root1 and not root2:\n",
    "        return True\n",
    "    \n",
    "    if not root1 or not root2 or root1.data != root2.data:\n",
    "        return False\n",
    "    \n",
    "    leftNode = are_identical(root1.left, root2.left)\n",
    "    rightNode = are_identical(root1.right, root2.right)\n",
    " \n",
    "    if leftNode and rightNode:\n",
    "        return True\n",
    "    \n",
    "    return False"
   ]
  }
 ],
 "metadata": {
  "kernelspec": {
   "display_name": "Python 3",
   "language": "python",
   "name": "python3"
  },
  "language_info": {
   "codemirror_mode": {
    "name": "ipython",
    "version": 3
   },
   "file_extension": ".py",
   "mimetype": "text/x-python",
   "name": "python",
   "nbconvert_exporter": "python",
   "pygments_lexer": "ipython3",
   "version": "3.7.3"
  }
 },
 "nbformat": 4,
 "nbformat_minor": 2
}

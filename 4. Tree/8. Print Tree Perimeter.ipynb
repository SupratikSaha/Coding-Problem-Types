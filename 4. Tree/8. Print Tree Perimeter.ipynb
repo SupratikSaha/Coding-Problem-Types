{
 "cells": [
  {
   "cell_type": "markdown",
   "metadata": {},
   "source": [
    "Problem Statement. <br/>\n",
    "\n",
    "Given the root node of a binary tree, print the nodes that form the boundary (perimeter).\n",
    "\n",
    "Input: [100, 50, 200, 25, 60, null, 350, 10, null, null, 70, null, 400] <br/>\n",
    "\n",
    "Output: The expected output for the below tree would be 100,50,25,10,70,400,350,200"
   ]
  },
  {
   "cell_type": "markdown",
   "metadata": {},
   "source": [
    "# BFS - O(N) runtime, O(N) space"
   ]
  },
  {
   "cell_type": "code",
   "execution_count": 1,
   "metadata": {},
   "outputs": [],
   "source": [
    "from collections import deque\n",
    "\n",
    "def display_tree_perimeter(root):\n",
    "    result = \"\"\n",
    "    queue = deque()\n",
    "    leftList = []\n",
    "    rightList = deque()\n",
    "\n",
    "    queue.append(root)\n",
    "\n",
    "    while queue:\n",
    "        currLength = len(queue)\n",
    "        currList = list(queue)\n",
    "        leftList.append(str(currList[0].data))\n",
    "        if currLength > 1:\n",
    "            rightList.appendleft(str(currList[-1].data))\n",
    "        for _ in range(currLength):\n",
    "            node = queue.popleft()\n",
    "            if node.left:\n",
    "                queue.append(node.left)\n",
    "            if node.right:\n",
    "                queue.append(node.right)\n",
    "\n",
    "    result = \" \".join(leftList)\n",
    "\n",
    "    for i in range(1, currLength - 1):\n",
    "        result = result + \" \" + str(currList[i].data)\n",
    "\n",
    "    result = result + \" \" + \" \".join(rightList)\n",
    "\n",
    "    # TODO: Write - Your - Code\n",
    "    return result"
   ]
  },
  {
   "cell_type": "markdown",
   "metadata": {},
   "source": [
    "# DFS - O(N) runtime, O(N) space"
   ]
  },
  {
   "cell_type": "code",
   "execution_count": 4,
   "metadata": {},
   "outputs": [],
   "source": [
    "def display_tree_perimeter(root):\n",
    "    result = []\n",
    "    if root != None:\n",
    "        # print(str(root.data) + \" \", end=\"\")\n",
    "        result.append(str(root.data) + \" \")\n",
    "\n",
    "        print_left_perimeter(root.left, result)\n",
    "\n",
    "        if root.left != None or root.right != None:\n",
    "            print_leaf_nodes(root, result)\n",
    "\n",
    "        print_right_perimeter(root.right, result) \n",
    "    return ('').join(result)\n",
    "\n",
    "def print_left_perimeter(root, result):\n",
    "    while root != None:\n",
    "        curr_val = root.data\n",
    "\n",
    "        if root.left != None:\n",
    "            root = root.left\n",
    "        elif root.right != None:\n",
    "            root = root.right\n",
    "        else: # leaf node\n",
    "            break\n",
    "        # print(str(curr_val) + \" \", end=\"\")\n",
    "        result.append(str(curr_val) + \" \")\n",
    "\n",
    "def print_right_perimeter(root, result):\n",
    "    r_values = [] # stack for right side values.\n",
    "\n",
    "    while root != None:\n",
    "        curr_val = root.data\n",
    "\n",
    "        if root.right != None:\n",
    "            root = root.right\n",
    "        elif root.left != None:\n",
    "            root = root.left\n",
    "        else: # leaf node\n",
    "            break\n",
    "        r_values.append(curr_val)\n",
    "\n",
    "    while len(r_values) != 0:\n",
    "        # print(str(r_values.pop()) + \" \", end=\"\")\n",
    "        result.append(str(r_values.pop()) + \" \")\n",
    "\n",
    "def print_leaf_nodes(root, result):\n",
    "    if root != None:\n",
    "        print_leaf_nodes(root.left, result)\n",
    "\n",
    "        if root.left == None and root.right == None:\n",
    "            # print(str(root.data) + \" \", end=\"\")\n",
    "            result.append(str(root.data) + \" \")\n",
    "\n",
    "        print_leaf_nodes(root.right, result)"
   ]
  }
 ],
 "metadata": {
  "kernelspec": {
   "display_name": "Python 3",
   "language": "python",
   "name": "python3"
  },
  "language_info": {
   "codemirror_mode": {
    "name": "ipython",
    "version": 3
   },
   "file_extension": ".py",
   "mimetype": "text/x-python",
   "name": "python",
   "nbconvert_exporter": "python",
   "pygments_lexer": "ipython3",
   "version": "3.7.3"
  }
 },
 "nbformat": 4,
 "nbformat_minor": 2
}

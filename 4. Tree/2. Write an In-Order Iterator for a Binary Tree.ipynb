{
 "cells": [
  {
   "cell_type": "markdown",
   "metadata": {},
   "source": [
    "Problem Statement <br/>\n",
    "\n",
    "We are given the root node of a binary tree. We have to write an iterator that takes in this root and iterates through the nodes of a binary tree in an in-order way. The expectation is to write two critical methods of any iterator: hasNext() and getNext() <br/>\n",
    "    \n",
    "Input: [100, 50, 200, 25, 75, 125, 300] <br/>\n",
    "    \n",
    "Output: 25,50,75,100,125,200,300"
   ]
  },
  {
   "cell_type": "markdown",
   "metadata": {},
   "source": [
    "# Stack - O(N) runtime, O(N) space"
   ]
  },
  {
   "cell_type": "code",
   "execution_count": 3,
   "metadata": {},
   "outputs": [],
   "source": [
    "from collections import deque\n",
    "\n",
    "def inorder_iterative(root):\n",
    "    result = \"\"\n",
    "    if root == None:\n",
    "        return\n",
    "\n",
    "    stk = deque()\n",
    "    count = 0\n",
    "\n",
    "    while (len(stk) != 0 or root != None):    \n",
    "        if root != None:\n",
    "            stk.append(root)\n",
    "            root = root.left\n",
    "            continue\n",
    "\n",
    "        result += str(stk[-1].data) + \" \"\n",
    "        root = stk[-1].right\n",
    "        stk.pop()\n",
    "    return str(result)"
   ]
  }
 ],
 "metadata": {
  "kernelspec": {
   "display_name": "Python 3",
   "language": "python",
   "name": "python3"
  },
  "language_info": {
   "codemirror_mode": {
    "name": "ipython",
    "version": 3
   },
   "file_extension": ".py",
   "mimetype": "text/x-python",
   "name": "python",
   "nbconvert_exporter": "python",
   "pygments_lexer": "ipython3",
   "version": "3.7.3"
  }
 },
 "nbformat": 4,
 "nbformat_minor": 2
}

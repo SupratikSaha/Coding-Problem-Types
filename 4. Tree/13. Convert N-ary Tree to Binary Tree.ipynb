{
 "cells": [
  {
   "cell_type": "markdown",
   "metadata": {},
   "source": [
    "Problem Statement <br/>\n",
    "\n",
    "Convert an N-ary tree to a Binary tree and then convert the Binary tree back to its original N-ary tree structure. <br/>\n",
    "\n",
    "Input: Original n-ary tree: [[1], [2, 3, 4], [null, null, 5, 6, null, null]] <br/>\n",
    "        \n",
    "Output: [1, [2, null], [3, null], [4, 5], [null, null, null, 6]]"
   ]
  },
  {
   "cell_type": "markdown",
   "metadata": {},
   "source": [
    "# DFS - O(N) runtime, O(N) space"
   ]
  },
  {
   "cell_type": "code",
   "execution_count": 1,
   "metadata": {},
   "outputs": [],
   "source": [
    "def convert_n_ary_to_binary(node):\n",
    "    return convert_n_ary_to_binary_rec(node,1)\n",
    "\n",
    "def convert_n_ary_to_binary_rec(root,isLeft):\n",
    "    if root == None:\n",
    "        return\n",
    "\n",
    "    btnode = BinaryTreeNode(root.data)\n",
    "    lastnode = btnode\n",
    "\n",
    "    for child in root.children:\n",
    "        if isLeft == 1:\n",
    "            lastnode.left = convert_n_ary_to_binary_rec(\n",
    "                child, 0);\n",
    "            lastnode = lastnode.left;\n",
    "        else:\n",
    "            lastnode.right = convert_n_ary_to_binary_rec(\n",
    "                child, 1);\n",
    "            lastnode = lastnode.right;\n",
    "\n",
    "    return btnode;\n",
    "\n",
    "def convert_binary_to_n_ary(node):\n",
    "    return convert_binary_to_n_ary_rec(node,1)\n",
    "\n",
    "def convert_binary_to_n_ary_rec(node,isLeft):\n",
    "    if node == None:\n",
    "        return\n",
    "\n",
    "    nnode = TreeNode(node.data)\n",
    "    temp = node\n",
    "\n",
    "    if isLeft == 1:\n",
    "        while(temp.left != None):\n",
    "            child = convert_binary_to_n_ary_rec(temp.left, 0)\n",
    "            nnode.children.append(child)\n",
    "            temp = temp.left\n",
    "    else:\n",
    "        while(temp.right != None):\n",
    "            child = convert_binary_to_n_ary_rec(temp.right, 1)\n",
    "            nnode.children.append(child)\n",
    "            temp = temp.right\n",
    "\n",
    "    return nnode"
   ]
  }
 ],
 "metadata": {
  "kernelspec": {
   "display_name": "Python 3",
   "language": "python",
   "name": "python3"
  },
  "language_info": {
   "codemirror_mode": {
    "name": "ipython",
    "version": 3
   },
   "file_extension": ".py",
   "mimetype": "text/x-python",
   "name": "python",
   "nbconvert_exporter": "python",
   "pygments_lexer": "ipython3",
   "version": "3.7.3"
  }
 },
 "nbformat": 4,
 "nbformat_minor": 2
}

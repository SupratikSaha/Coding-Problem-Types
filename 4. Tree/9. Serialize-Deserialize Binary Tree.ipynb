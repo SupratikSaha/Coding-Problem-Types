{
 "cells": [
  {
   "cell_type": "markdown",
   "metadata": {},
   "source": [
    "Problem Statement. <br/>\n",
    "\n",
    "Serialize a binary tree to a file and then deserialize it back to a tree so that the original and the deserialized trees are identical. <br/>\n",
    "\n",
    "Input:  [100,50,200,25,75,null,350]"
   ]
  },
  {
   "cell_type": "markdown",
   "metadata": {},
   "source": [
    "# Pre-Order Traversal for both Serialize and Deserialize - O(N) runtime, O(N) space"
   ]
  },
  {
   "cell_type": "code",
   "execution_count": 2,
   "metadata": {},
   "outputs": [],
   "source": [
    "import sys\n",
    "\n",
    "MARKER = sys.maxsize\n",
    "def serialize(node, stream):\n",
    "    if node == None:\n",
    "        stream.dump(MARKER);\n",
    "        return\n",
    "    stream.dump(node.data);\n",
    "    serialize(node.left, stream)\n",
    "    serialize(node.right, stream)\n",
    "\n",
    "def deserialize(stream):\n",
    "        try:\n",
    "            data = pickle.load(stream)\n",
    "            if data == MARKER:\n",
    "                return None\n",
    "\n",
    "            node = BinaryTreeNode(data);\n",
    "            node.left = deserialize(stream)\n",
    "            node.right = deserialize(stream)\n",
    "            return node\n",
    "        except pickle.UnpicklingError:\n",
    "            return None"
   ]
  },
  {
   "cell_type": "code",
   "execution_count": null,
   "metadata": {},
   "outputs": [],
   "source": [
    "arr = [100,50,200,25,75,125,350]\n",
    "root = create_BST(arr)\n",
    "display_level_order(root)\n",
    "output = open('data.class', 'wb')\n",
    "p = pickle.Pickler(output)\n",
    "serialize(root, p)\n",
    "output.close()\n",
    "input2 = open('data.class','rb')\n",
    "root_deserialized = deserialize(input2)\n",
    "print(\"Result:\")\n",
    "display_level_order(root_deserialized)"
   ]
  }
 ],
 "metadata": {
  "kernelspec": {
   "display_name": "Python 3",
   "language": "python",
   "name": "python3"
  },
  "language_info": {
   "codemirror_mode": {
    "name": "ipython",
    "version": 3
   },
   "file_extension": ".py",
   "mimetype": "text/x-python",
   "name": "python",
   "nbconvert_exporter": "python",
   "pygments_lexer": "ipython3",
   "version": "3.7.3"
  }
 },
 "nbformat": 4,
 "nbformat_minor": 2
}

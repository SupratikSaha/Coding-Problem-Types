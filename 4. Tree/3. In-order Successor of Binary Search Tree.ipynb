{
 "cells": [
  {
   "cell_type": "markdown",
   "metadata": {},
   "source": [
    "Problem Statement. <br/>\n",
    "\n",
    "The in-order successor of a node in a Binary Search Tree (BST) is the next node in in-order traversal. Write a method to find the in-order successor of a given value “d” in a BST. <br/>\n",
    "\n",
    "Example 1: <br/>\n",
    "Input: [100, 50, 200, 25, 75, 125, 300] , 25 <br/>\n",
    "Output: 50 <br/>\n",
    "\n",
    "Example 2: <br/>\n",
    "Input: [100, 50, 200, 25, 75, 125, 300] , 300 <br/>\n",
    "Output: None"
   ]
  },
  {
   "cell_type": "markdown",
   "metadata": {},
   "source": [
    "# Stack - O(N) runtime, O(N) space"
   ]
  },
  {
   "cell_type": "code",
   "execution_count": 1,
   "metadata": {},
   "outputs": [],
   "source": [
    "def inorder_successor_bst(root, d):\n",
    "\n",
    "    stack = []\n",
    "    d_found = False\n",
    "    \n",
    "    while len(stack) != 0 or root:\n",
    "\n",
    "        if root:\n",
    "            stack.append(root)\n",
    "            if not root.left and d_found:\n",
    "                return root\n",
    "            root = root.left\n",
    "            continue\n",
    "        \n",
    "        root = stack[-1].right\n",
    "        if stack[-1].data == d:\n",
    "            if not root and len(stack) == 1:\n",
    "                return None\n",
    "            elif not root:\n",
    "                return stack[-2]\n",
    "            else:\n",
    "                d_found = True\n",
    "        stack.pop()\n",
    "\n",
    "    return None"
   ]
  },
  {
   "cell_type": "markdown",
   "metadata": {},
   "source": [
    "# DFS - O(log N) runtime, O(1) space"
   ]
  },
  {
   "cell_type": "code",
   "execution_count": 2,
   "metadata": {},
   "outputs": [],
   "source": [
    "def find_min(root):\n",
    "    if root == None:\n",
    "        return None\n",
    "    \n",
    "    while root.left != None:\n",
    "        root = root.left\n",
    "\n",
    "    return root\n",
    "\n",
    "def inorder_successor_bst(root, d):\n",
    "    if root == None:\n",
    "        return None\n",
    "\n",
    "    successor = None\n",
    "\n",
    "    while root != None:\n",
    "        if root.data < d:\n",
    "            root = root.right\n",
    "        elif root.data > d:\n",
    "            successor = root\n",
    "            root = root.left\n",
    "        else:\n",
    "            if root.right != None:\n",
    "                successor = find_min(root.right)\n",
    "            break\n",
    "    return successor"
   ]
  }
 ],
 "metadata": {
  "kernelspec": {
   "display_name": "Python 3",
   "language": "python",
   "name": "python3"
  },
  "language_info": {
   "codemirror_mode": {
    "name": "ipython",
    "version": 3
   },
   "file_extension": ".py",
   "mimetype": "text/x-python",
   "name": "python",
   "nbconvert_exporter": "python",
   "pygments_lexer": "ipython3",
   "version": "3.7.3"
  }
 },
 "nbformat": 4,
 "nbformat_minor": 2
}

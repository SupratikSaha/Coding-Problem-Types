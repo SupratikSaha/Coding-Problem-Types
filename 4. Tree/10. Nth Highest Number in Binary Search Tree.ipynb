{
 "cells": [
  {
   "cell_type": "markdown",
   "metadata": {},
   "source": [
    "Problem Statement <br/>\n",
    "\n",
    "We are given a Binary Search Tree(BST) and a node number n. We have to find the node with the nth highest value. <br/>\n",
    "\n",
    "Input: [100, 50, 200, 25, 75, 125, 350] , 3 <br/>\n",
    "    \n",
    "Output: 125"
   ]
  },
  {
   "cell_type": "markdown",
   "metadata": {},
   "source": [
    "# DFS - Reverse In Order Traversal - O(N) runtime, O(N) space"
   ]
  },
  {
   "cell_type": "code",
   "execution_count": 1,
   "metadata": {},
   "outputs": [],
   "source": [
    "current_count = 0\n",
    "def find_nth_highest_in_bst(node, n ):\n",
    "    if node == None:\n",
    "        return None\n",
    "    \n",
    "    result = find_nth_highest_in_bst(node.right, n)\n",
    "    if result != None:\n",
    "        return result\n",
    "    \n",
    "    global current_count \n",
    "    current_count = current_count + 1\n",
    "\n",
    "    if n == current_count:\n",
    "        return node\n",
    "\n",
    "    result = find_nth_highest_in_bst(node.left, n)\n",
    "    if result != None:\n",
    "        return result\n",
    "\n",
    "    return None"
   ]
  }
 ],
 "metadata": {
  "kernelspec": {
   "display_name": "Python 3",
   "language": "python",
   "name": "python3"
  },
  "language_info": {
   "codemirror_mode": {
    "name": "ipython",
    "version": 3
   },
   "file_extension": ".py",
   "mimetype": "text/x-python",
   "name": "python",
   "nbconvert_exporter": "python",
   "pygments_lexer": "ipython3",
   "version": "3.7.3"
  }
 },
 "nbformat": 4,
 "nbformat_minor": 2
}

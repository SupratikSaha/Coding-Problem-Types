{
 "cells": [
  {
   "cell_type": "markdown",
   "metadata": {},
   "source": [
    "Problem Statement. <br/>\n",
    "\n",
    "The in-order successor of a node in a Binary Search Tree (BST) is the next node in in-order traversal. Write a method to find the in-order successor of a given value “d” in a BST given parent pointers. <br/>\n",
    "\n",
    "Example 1: <br/>\n",
    "Input: [100, 50, 200, 25, 75, 125, 300] , 25 <br/>\n",
    "Output: 50 <br/>\n",
    "\n",
    "Example 2: <br/>\n",
    "Input: [100, 50, 200, 25, 75, 125, 300] , 300 <br/>\n",
    "Output: None"
   ]
  },
  {
   "cell_type": "markdown",
   "metadata": {},
   "source": [
    "# DFS - O(log N) runtime, O(1) space"
   ]
  },
  {
   "cell_type": "code",
   "execution_count": 1,
   "metadata": {},
   "outputs": [],
   "source": [
    "def find_min_in_tree(root):\n",
    "    if root == None:\n",
    "        return None\n",
    "    \n",
    "    while root.left != None:\n",
    "        root = root.left\n",
    "\n",
    "    return root\n",
    "    \n",
    "def inorder_successor_bst_parent_pointer(node):\n",
    "    if node == None:\n",
    "        return None\n",
    "\n",
    "    if node.right != None:\n",
    "        return find_min_in_tree(node.right)\n",
    "    \n",
    "    while node.parent != None:\n",
    "        if node.parent.left == node:\n",
    "            return node.parent\n",
    "\n",
    "        node = node.parent\n",
    "\n",
    "    return None\n",
    "\n",
    "def find_successor(root, d):\n",
    "\n",
    "    while root != None:\n",
    "        if(root.data < d):\n",
    "            root = root.right\n",
    "        elif(root.data > d):\n",
    "            root = root.left\n",
    "        else:\n",
    "            return inorder_successor_bst_parent_pointer(root)\n",
    "\n",
    "    return None"
   ]
  }
 ],
 "metadata": {
  "kernelspec": {
   "display_name": "Python 3",
   "language": "python",
   "name": "python3"
  },
  "language_info": {
   "codemirror_mode": {
    "name": "ipython",
    "version": 3
   },
   "file_extension": ".py",
   "mimetype": "text/x-python",
   "name": "python",
   "nbconvert_exporter": "python",
   "pygments_lexer": "ipython3",
   "version": "3.7.3"
  }
 },
 "nbformat": 4,
 "nbformat_minor": 2
}

{
 "cells": [
  {
   "cell_type": "markdown",
   "metadata": {},
   "source": [
    "Problem Statement. <br/>\n",
    "\n",
    "Given the root node of a binary tree, swap the ‘left’ and ‘right’ children for each node. The below example shows how the mirrored binary tree should look like. <br/>\n",
    "\n",
    "Input: [20, 50, 200, 75, 25, null, 300] <br/>\n",
    "\n",
    "Output: [20, 200, 50, 300, null, 25, 75]"
   ]
  },
  {
   "cell_type": "markdown",
   "metadata": {},
   "source": [
    "# DFS Preorder - O(N) runtime, O(N) space"
   ]
  },
  {
   "cell_type": "code",
   "execution_count": 1,
   "metadata": {},
   "outputs": [],
   "source": [
    "def mirror_tree(root):\n",
    "    if not root:\n",
    "        return None\n",
    "\n",
    "    if root.left or root.right:\n",
    "        root.left, root.right = root.right, root.left\n",
    "        mirror_tree(root.left)\n",
    "        mirror_tree(root.right)\n",
    "        \n",
    "    return root"
   ]
  },
  {
   "cell_type": "markdown",
   "metadata": {},
   "source": [
    "# DFS Postorder - O(N) runtime, O(N) space"
   ]
  },
  {
   "cell_type": "code",
   "execution_count": 2,
   "metadata": {},
   "outputs": [],
   "source": [
    "def mirror_tree(root):\n",
    "    if root == None:\n",
    "        return\n",
    "\n",
    "    # We will do a post-order traversal of the binary tree.\n",
    "    if root.left != None:\n",
    "        mirror_tree(root.left)\n",
    "\n",
    "    if root.right != None:\n",
    "        mirror_tree(root.right)\n",
    "\n",
    "    # Let's swap the left and right nodes at current level.\n",
    "    temp = root.left\n",
    "    root.left = root.right\n",
    "    root.right = temp"
   ]
  }
 ],
 "metadata": {
  "kernelspec": {
   "display_name": "Python 3",
   "language": "python",
   "name": "python3"
  },
  "language_info": {
   "codemirror_mode": {
    "name": "ipython",
    "version": 3
   },
   "file_extension": ".py",
   "mimetype": "text/x-python",
   "name": "python",
   "nbconvert_exporter": "python",
   "pygments_lexer": "ipython3",
   "version": "3.7.3"
  }
 },
 "nbformat": 4,
 "nbformat_minor": 2
}

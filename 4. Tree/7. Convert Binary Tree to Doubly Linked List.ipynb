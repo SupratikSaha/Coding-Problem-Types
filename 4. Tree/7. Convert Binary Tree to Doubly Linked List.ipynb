{
 "cells": [
  {
   "cell_type": "markdown",
   "metadata": {},
   "source": [
    "Problem Statement. <br/>\n",
    "\n",
    "Convert a binary tree to a doubly linked list so that the order of the doubly-linked list is the same as an in-order traversal of the binary tree. After conversion, the left pointer of the node should be pointing to the previous node in the doubly linked list, and the right pointer should be pointing to the next node in the doubly linked list. <br/>\n",
    "\n",
    "Input: [100, 50, 200, 25, 75, 125, 350, 30, 60] <br/>\n",
    "\n",
    "Outpur: 25<-->30<-->50<-->60<-->75<-->100<-->125<-->200<-->350"
   ]
  },
  {
   "cell_type": "markdown",
   "metadata": {},
   "source": [
    "# DFS - O(N) runtime, O(N) space"
   ]
  },
  {
   "cell_type": "code",
   "execution_count": 1,
   "metadata": {},
   "outputs": [],
   "source": [
    "def convert_to_linked_list(root):\n",
    "    if not root:\n",
    "        return None\n",
    "\n",
    "    newRoot = get_left_end(root)\n",
    "\n",
    "    convert_to_linked_list_recursive(root)\n",
    "\n",
    "    return newRoot\n",
    "\n",
    "def convert_to_linked_list_recursive(node):\n",
    "    if not node:\n",
    "        return None\n",
    "\n",
    "    if node.left:\n",
    "        node_prev = get_right_end(node.left)\n",
    "        convert_to_linked_list_recursive(node.left)\n",
    "\n",
    "    if node.right:\n",
    "        node_next = get_left_end(node.right)\n",
    "        convert_to_linked_list_recursive(node.right)\n",
    "\n",
    "    if node.left:\n",
    "        node_prev.right = node\n",
    "        node.left = node_prev\n",
    "    \n",
    "    if node.right:\n",
    "        node.right = node_next\n",
    "        node_next.left = node\n",
    "\n",
    "def get_left_end(node):\n",
    "    while node.left:\n",
    "        node = node.left\n",
    "\n",
    "    return node\n",
    "\n",
    "def get_right_end(node):\n",
    "    while node.right:\n",
    "        node = node.right\n",
    "\n",
    "    return node"
   ]
  },
  {
   "cell_type": "markdown",
   "metadata": {},
   "source": [
    "# Alternate DFS - O(N) runtime, O(N) space"
   ]
  },
  {
   "cell_type": "code",
   "execution_count": 2,
   "metadata": {},
   "outputs": [],
   "source": [
    "# merge(fuse) two sorted linked lists\n",
    "def concatenate_lists(head1, head2):\n",
    "    if head1 is None:\n",
    "        return head2\n",
    "    if head2 is None:\n",
    "        return head1\n",
    "\n",
    "    # use left for previous.\n",
    "    # use right for next.\n",
    "    tail1 = head1.left\n",
    "    tail2 = head2.left\n",
    "\n",
    "    tail1.right = head2\n",
    "    head2.left = tail1\n",
    "\n",
    "    head1.left = tail2\n",
    "    tail2.right = head1\n",
    "    return head1\n",
    "\n",
    "def convert_to_linked_list_rec(root):\n",
    "    if root is None:\n",
    "        return None\n",
    "\n",
    "    list1 = convert_to_linked_list_rec(root.left)\n",
    "    list2 = convert_to_linked_list_rec(root.right)\n",
    "\n",
    "    root.left = root.right = root\n",
    "    result = concatenate_lists(list1, root)\n",
    "    result = concatenate_lists(result, list2)\n",
    "\n",
    "    return result\n",
    "\n",
    "def convert_to_linked_list(root):\n",
    "    head = convert_to_linked_list_rec(root)\n",
    "    if head.left is not None:\n",
    "        head.left.right = None\n",
    "        head.left = None\n",
    "    return head"
   ]
  }
 ],
 "metadata": {
  "kernelspec": {
   "display_name": "Python 3",
   "language": "python",
   "name": "python3"
  },
  "language_info": {
   "codemirror_mode": {
    "name": "ipython",
    "version": 3
   },
   "file_extension": ".py",
   "mimetype": "text/x-python",
   "name": "python",
   "nbconvert_exporter": "python",
   "pygments_lexer": "ipython3",
   "version": "3.7.3"
  }
 },
 "nbformat": 4,
 "nbformat_minor": 2
}

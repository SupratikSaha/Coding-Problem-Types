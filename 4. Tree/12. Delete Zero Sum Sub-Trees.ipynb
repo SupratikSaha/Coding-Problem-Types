{
 "cells": [
  {
   "cell_type": "markdown",
   "metadata": {},
   "source": [
    "Problem Statement. <br/>\n",
    "\n",
    "Given the root of a binary tree, delete any subtrees whose nodes sum up to zero. In the below binary tree, we need to delete the subtree starting at node 555 as it’s sum (5−3−2)(5 -3 -2)(5−3−2) equals zero. <br/>\n",
    "\n",
    "Input: [7, 5, 6, -3, -2] <br/>\n",
    "    \n",
    "Output: [7, null, 6]"
   ]
  },
  {
   "cell_type": "markdown",
   "metadata": {},
   "source": [
    "# DFS - O(N) runtime, O(N) space"
   ]
  },
  {
   "cell_type": "code",
   "execution_count": null,
   "metadata": {},
   "outputs": [],
   "source": [
    "def delete_zero_sum_subtree(root):\n",
    "\n",
    "    if not root:\n",
    "        return None\n",
    "\n",
    "    subtree_sum = delete_zero_sum_subtree_recursive(root)\n",
    "    if subtree_sum == 0:\n",
    "        root = None\n",
    "    \n",
    "    return root\n",
    "\n",
    "def delete_zero_sum_subtree_recursive(node):\n",
    "\n",
    "    if not node.left and not node.right:\n",
    "        return node.data\n",
    "\n",
    "    left_subtree_sum = delete_zero_sum_subtree_recursive(node.left)\n",
    "    if left_subtree_sum == 0:\n",
    "        node.left = None\n",
    "\n",
    "    right_subtree_sum = delete_zero_sum_subtree_recursive(node.right)\n",
    "    if right_subtree_sum == 0:\n",
    "        node.right = None\n",
    "\n",
    "    subtree_sum = left_subtree_sum + node.data + right_subtree_sum\n",
    "\n",
    "    return subtree_sum"
   ]
  }
 ],
 "metadata": {
  "kernelspec": {
   "display_name": "Python 3",
   "language": "python",
   "name": "python3"
  },
  "language_info": {
   "codemirror_mode": {
    "name": "ipython",
    "version": 3
   },
   "file_extension": ".py",
   "mimetype": "text/x-python",
   "name": "python",
   "nbconvert_exporter": "python",
   "pygments_lexer": "ipython3",
   "version": "3.7.3"
  }
 },
 "nbformat": 4,
 "nbformat_minor": 2
}

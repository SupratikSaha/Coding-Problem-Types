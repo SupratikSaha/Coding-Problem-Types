{
 "cells": [
  {
   "cell_type": "markdown",
   "metadata": {},
   "source": [
    "Problem statement: <br/>\n",
    "\n",
    "Given an infinite number of quarters (25cents)(25 cents)(25cents), dimes (10cents)(10 cents)(10cents), nickels (5cents)(5 cents)(5cents), and pennies (1cent)(1 cent)(1cent), implement a function to calculate the minimum number of coins to represent vvv cents. <br/>\n",
    "\n",
    "Sample input: <br/>\n",
    "v = 19 <br/>\n",
    "available_coins = [1, 5, 10, 25] <br/>\n",
    "\n",
    "Sample output: <br/>\n",
    "result = [10, 5, 1, 1, 1, 1] <br/>"
   ]
  },
  {
   "cell_type": "markdown",
   "metadata": {},
   "source": [
    "# Greedy Algorithm - O(N ^ 2) runtime, O(1) space"
   ]
  },
  {
   "cell_type": "code",
   "execution_count": 3,
   "metadata": {},
   "outputs": [],
   "source": [
    "def find_min_coins(v, coins_available):\n",
    "    \"\"\"\n",
    "    This function finds the minimum number of coins\n",
    "    :param v: Total amount\n",
    "    :param coins_available: Coins available in the machine\n",
    "    :return: A list of total coins\n",
    "    \"\"\"\n",
    "\n",
    "    # Initialize result\n",
    "    result = []\n",
    "    n = len(coins_available)\n",
    "\n",
    "    # Traverse through all available coins\n",
    "    for i in reversed(range(n)):\n",
    "        while v >= coins_available[i]:\n",
    "            v -= coins_available[i]\n",
    "            result.append(coins_available[i])\n",
    "\n",
    "    return result"
   ]
  },
  {
   "cell_type": "code",
   "execution_count": 4,
   "metadata": {},
   "outputs": [
    {
     "data": {
      "text/plain": [
       "[10, 5, 1, 1, 1, 1]"
      ]
     },
     "execution_count": 4,
     "metadata": {},
     "output_type": "execute_result"
    }
   ],
   "source": [
    "find_min_coins(19, [1, 5, 10, 25])"
   ]
  }
 ],
 "metadata": {
  "kernelspec": {
   "display_name": "Python 3",
   "language": "python",
   "name": "python3"
  },
  "language_info": {
   "codemirror_mode": {
    "name": "ipython",
    "version": 3
   },
   "file_extension": ".py",
   "mimetype": "text/x-python",
   "name": "python",
   "nbconvert_exporter": "python",
   "pygments_lexer": "ipython3",
   "version": "3.7.3"
  }
 },
 "nbformat": 4,
 "nbformat_minor": 2
}

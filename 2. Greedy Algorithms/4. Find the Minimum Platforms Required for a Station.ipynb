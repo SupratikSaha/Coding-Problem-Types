{
 "cells": [
  {
   "cell_type": "markdown",
   "metadata": {},
   "source": [
    "Problem statement: <br/>\n",
    "\n",
    "Implement a function that returns the minimum number of platforms that are required for the train so that none of them waits. <br/>\n",
    "\n",
    "Given arrival and departure times of trains, calculate the number of platforms required for a train station. <br/>\n",
    "\n",
    "Sample input: <br/>\n",
    "arrival= [900, 940, 950, 1100, 1500, 1800] <br/>\n",
    "departure = [910, 1200, 1120, 1130, 1900, 2000] <br/>\n",
    "\n",
    "Sample output: <br/>\n",
    "result = 3"
   ]
  },
  {
   "cell_type": "markdown",
   "metadata": {},
   "source": [
    "# Brute Force - O(N ^ 2) runtime, O(1) space"
   ]
  },
  {
   "cell_type": "code",
   "execution_count": 8,
   "metadata": {},
   "outputs": [],
   "source": [
    "def find_platform(arrival, departure):\n",
    "    \"\"\"\n",
    "    Finds the minimum number of platforms required for a railway Station\n",
    "    :param arrival: A list of Arrival Timing\n",
    "    :param departure: A list of Departure Timing\n",
    "    :return: Minimum number of platforms required for a railway Station\n",
    "    \"\"\"\n",
    "\n",
    "    result = 0\n",
    "    count = 0\n",
    "    n = len(arrival)\n",
    "\n",
    "    for index in range(n):\n",
    "        count = 0\n",
    "        for i in range(1, n):\n",
    "            if arrival[index] <= arrival[i] <= departure[index]:\n",
    "                count += 1\n",
    "\n",
    "        result = max(result, count)\n",
    "\n",
    "    return result"
   ]
  },
  {
   "cell_type": "markdown",
   "metadata": {},
   "source": [
    "# Greedy Algorithm - O(N * log N) runtime, O(1) space"
   ]
  },
  {
   "cell_type": "code",
   "execution_count": 10,
   "metadata": {},
   "outputs": [],
   "source": [
    "def find_platform(arrival, departure):\n",
    "    \"\"\"\n",
    "    Finds the minimum number of platforms required for a railway Station\n",
    "    :param arrival: A list of Arrival Timing\n",
    "    :param departure: A list of Departure Timing\n",
    "    :return: Minimum number of platforms required for a railway Station\n",
    "    \"\"\"\n",
    "\n",
    "    # Sort arrival and departure lists\n",
    "    n = len(arrival) # Length of the arrival list\n",
    "    arrival.sort()\n",
    "    departure.sort()\n",
    "\n",
    "    # plat_needed indicates number of platforms needed at a time\n",
    "    plat_needed = 1\n",
    "    result = 1\n",
    "    i = 1\n",
    "    j = 0\n",
    "\n",
    "    # Similar to merge in merge sort to process all events in sorted order\n",
    "    while i < n and j < n:\n",
    "\n",
    "        # If next event in sorted order is arrival, increment count of platforms needed\n",
    "        if arrival[i] < departure[j]:\n",
    "\n",
    "            plat_needed += 1\n",
    "            i += 1\n",
    "\n",
    "            # Update result if needed\n",
    "            result = max(plat_needed, result)\n",
    "\n",
    "        # Else decrement count of platforms needed\n",
    "        else:\n",
    "            plat_needed -= 1\n",
    "            j += 1\n",
    "\n",
    "    return result"
   ]
  },
  {
   "cell_type": "code",
   "execution_count": 11,
   "metadata": {},
   "outputs": [
    {
     "data": {
      "text/plain": [
       "3"
      ]
     },
     "execution_count": 11,
     "metadata": {},
     "output_type": "execute_result"
    }
   ],
   "source": [
    "find_platform([900, 940, 950, 1100, 1500, 1800], [910, 1200, 1120, 1130, 1900, 2000])"
   ]
  }
 ],
 "metadata": {
  "kernelspec": {
   "display_name": "Python 3",
   "language": "python",
   "name": "python3"
  },
  "language_info": {
   "codemirror_mode": {
    "name": "ipython",
    "version": 3
   },
   "file_extension": ".py",
   "mimetype": "text/x-python",
   "name": "python",
   "nbconvert_exporter": "python",
   "pygments_lexer": "ipython3",
   "version": "3.7.3"
  }
 },
 "nbformat": 4,
 "nbformat_minor": 2
}

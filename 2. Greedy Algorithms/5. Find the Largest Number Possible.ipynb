{
 "cells": [
  {
   "cell_type": "markdown",
   "metadata": {},
   "source": [
    "Problem statement: <br/>\n",
    "\n",
    "A girl lost the key to her locker (note: The key is only numeric). She remembers the number of digits N as well as the sum S of all the digits of her password. She also knows that her password is the largest number of N digits that can be possible with a given sum S. <br/>\n",
    "\n",
    "Implement a function that would help her retrieve her key. <br/>\n",
    "\n",
    "Sample input: <br/>\n",
    "sum_of_digits= 20 <br/>\n",
    "number_of_digits = 3 <br/>\n",
    "\n",
    "Sample output: <br/>\n",
    "result = [9, 9, 2]"
   ]
  },
  {
   "cell_type": "markdown",
   "metadata": {},
   "source": [
    "# Greedy Algorithm - O(N) runtime, O(N) space"
   ]
  },
  {
   "cell_type": "code",
   "execution_count": 8,
   "metadata": {},
   "outputs": [],
   "source": [
    "def find_largest_number(number_of_digits, sum_of_digits):\n",
    "    \"\"\"\n",
    "    Finds the largest number with given number of digits and sum of Digits\n",
    "    :param number_of_digits: Number of digits\n",
    "    :param sum_of_digits: Sum of digits\n",
    "    :return: Possible largest number\n",
    "    \"\"\"\n",
    "\n",
    "    # If the sum of digits is 0, then a number is possible only if the number of digits is 1.\n",
    "    if sum_of_digits == 0:\n",
    "        if number_of_digits == 1:\n",
    "            return [0]\n",
    "        else:\n",
    "            return [-1]\n",
    "\n",
    "    # sum_of_digits is greater than the maximum possible sum.\n",
    "    if sum_of_digits > 9 * number_of_digits:\n",
    "        return [-1]\n",
    "\n",
    "    result = [0] * number_of_digits\n",
    "\n",
    "    # Fill from most significant digit to least significant digit!\n",
    "    for i in range(number_of_digits):\n",
    "        # Place 9 to make the number largest\n",
    "        if sum_of_digits >= 9:\n",
    "            result[i] = 9\n",
    "            sum_of_digits -= 9\n",
    "\n",
    "        # If remaining sum becomes less than 9, then fill the remaining sum\n",
    "        else:\n",
    "            result[i] = sum_of_digits\n",
    "            sum_of_digits = 0\n",
    "\n",
    "    return result"
   ]
  },
  {
   "cell_type": "code",
   "execution_count": 9,
   "metadata": {},
   "outputs": [
    {
     "data": {
      "text/plain": [
       "[9, 9, 2]"
      ]
     },
     "execution_count": 9,
     "metadata": {},
     "output_type": "execute_result"
    }
   ],
   "source": [
    "find_largest_number(3, 20)"
   ]
  }
 ],
 "metadata": {
  "kernelspec": {
   "display_name": "Python 3",
   "language": "python",
   "name": "python3"
  },
  "language_info": {
   "codemirror_mode": {
    "name": "ipython",
    "version": 3
   },
   "file_extension": ".py",
   "mimetype": "text/x-python",
   "name": "python",
   "nbconvert_exporter": "python",
   "pygments_lexer": "ipython3",
   "version": "3.7.3"
  }
 },
 "nbformat": 4,
 "nbformat_minor": 2
}

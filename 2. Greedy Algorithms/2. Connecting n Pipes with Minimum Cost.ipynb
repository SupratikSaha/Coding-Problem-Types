{
 "cells": [
  {
   "cell_type": "markdown",
   "metadata": {},
   "source": [
    "Problem statement: <br/>\n",
    "\n",
    "Implement a function that connects n pipes of different lengths, into one pipe. You can assume that the cost to connect two pipes is equal to the sum of their lengths. We need to connect the pipes with minimum cost. <br/>\n",
    "\n",
    "Sample input: <br/>\n",
    "pipes = [4, 3, 2, 6] <br/>\n",
    "\n",
    "Sample output: <br/>\n",
    "result = 29 <br/>"
   ]
  },
  {
   "cell_type": "markdown",
   "metadata": {},
   "source": [
    "# Greedy Algorithm - O(N * log N) runtime, O(1) space"
   ]
  },
  {
   "cell_type": "code",
   "execution_count": 7,
   "metadata": {},
   "outputs": [],
   "source": [
    "def min_cost(pipes):\n",
    "    \"\"\"\n",
    "    Calculates the minimum cost of connecting pipes\n",
    "    :param pipes: A list where its length is the number of pipes and indexes are the specific lengths of the pipes.\n",
    "    :return: The minimum cost\n",
    "    \"\"\"\n",
    "\n",
    "    pipes = sorted(pipes)\n",
    "    n = len(pipes)\n",
    "    result, currSum = 0, pipes[0]\n",
    "    for i in range(1, n):\n",
    "        currSum += pipes[i]\n",
    "        result += currSum\n",
    "\n",
    "    return result"
   ]
  },
  {
   "cell_type": "code",
   "execution_count": 8,
   "metadata": {},
   "outputs": [
    {
     "data": {
      "text/plain": [
       "29"
      ]
     },
     "execution_count": 8,
     "metadata": {},
     "output_type": "execute_result"
    }
   ],
   "source": [
    "min_cost([4, 3, 2, 6])"
   ]
  }
 ],
 "metadata": {
  "kernelspec": {
   "display_name": "Python 3",
   "language": "python",
   "name": "python3"
  },
  "language_info": {
   "codemirror_mode": {
    "name": "ipython",
    "version": 3
   },
   "file_extension": ".py",
   "mimetype": "text/x-python",
   "name": "python",
   "nbconvert_exporter": "python",
   "pygments_lexer": "ipython3",
   "version": "3.7.3"
  }
 },
 "nbformat": 4,
 "nbformat_minor": 2
}

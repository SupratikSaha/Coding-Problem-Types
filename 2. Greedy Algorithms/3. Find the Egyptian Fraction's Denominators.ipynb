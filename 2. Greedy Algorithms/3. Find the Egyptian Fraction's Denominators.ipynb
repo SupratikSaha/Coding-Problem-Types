{
 "cells": [
  {
   "cell_type": "markdown",
   "metadata": {},
   "source": [
    "Problem statement: <br/>\n",
    "\n",
    "Given a positive fraction, break it down into its Egyptian fraction's denominators. <br/>\n",
    "\n",
    "Every positive fraction can be represented as the sum of its unique unit fractions. A fraction is a unit fraction, if the numerator is 1 and the denominator is a positive integer. For example, 1/3 is a unit fraction. Such a representation is called an Egyptian Fraction. <br/>\n",
    "\n",
    "Sample input: <br/>\n",
    "numerator = 2 <br/>\n",
    "denominator = 3 <br/>\n",
    "\n",
    "Sample output: <br/>\n",
    "result = [2, 6]"
   ]
  },
  {
   "cell_type": "markdown",
   "metadata": {},
   "source": [
    "# Greedy Algorithm - O(log N) runtime, O(1) space"
   ]
  },
  {
   "cell_type": "code",
   "execution_count": 1,
   "metadata": {},
   "outputs": [],
   "source": [
    "import math\n",
    "\n",
    "def egyptian_fraction(numerator, denominator):\n",
    "    \"\"\"\n",
    "    Finds the egyptian fraction denominators\n",
    "    :param numerator: Numerator of the fraction\n",
    "    :param denominator: Denominator of the fraction\n",
    "    :return: A list of denominators of the egyptian fraction\n",
    "    \"\"\"\n",
    "\n",
    "    # A List to store denominator\n",
    "    lst_denominator = []\n",
    "\n",
    "    # While loop runs until fraction becomes 0 i.e,\n",
    "    # numerator becomes 0\n",
    "    while numerator != 0:\n",
    "        # taking ceiling\n",
    "        x = math.ceil(denominator / numerator)\n",
    "\n",
    "        # storing value in lst_denominator list\n",
    "        lst_denominator.append(x)\n",
    "\n",
    "        # updating new numerator and denominator\n",
    "        numerator = x * numerator - denominator\n",
    "        denominator = denominator * x\n",
    "\n",
    "    return lst_denominator"
   ]
  },
  {
   "cell_type": "code",
   "execution_count": 2,
   "metadata": {},
   "outputs": [
    {
     "data": {
      "text/plain": [
       "[2, 6]"
      ]
     },
     "execution_count": 2,
     "metadata": {},
     "output_type": "execute_result"
    }
   ],
   "source": [
    "egyptian_fraction(2, 3)"
   ]
  }
 ],
 "metadata": {
  "kernelspec": {
   "display_name": "Python 3",
   "language": "python",
   "name": "python3"
  },
  "language_info": {
   "codemirror_mode": {
    "name": "ipython",
    "version": 3
   },
   "file_extension": ".py",
   "mimetype": "text/x-python",
   "name": "python",
   "nbconvert_exporter": "python",
   "pygments_lexer": "ipython3",
   "version": "3.7.3"
  }
 },
 "nbformat": 4,
 "nbformat_minor": 2
}

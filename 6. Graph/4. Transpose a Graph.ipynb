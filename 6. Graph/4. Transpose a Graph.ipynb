{
 "cells": [
  {
   "cell_type": "markdown",
   "metadata": {},
   "source": [
    "Problem statement. <br/>\n",
    "\n",
    "You have to implement a function which will take a graph as input and print its transpose. <br/>\n",
    "\n",
    "Sample input <br/>\n",
    "Graph: <br/>\n",
    "Vertex \tEdges <br/>\n",
    "0 -> 2, 1 <br/>\n",
    "1 -> 4, 3 <br/>\n",
    "2 -> None <br/>\n",
    "3 -> None <br/>\n",
    "4 -> None <br/>\n",
    "\n",
    "Sample output <br/>\n",
    "Graph: <br/>\n",
    "Vertex \tEdges <br/>\n",
    "0 -> None <br/>\n",
    "1 -> 0 <br/>\n",
    "2 -> 0 <br/>\n",
    "3 -> 1 <br/>\n",
    "4 -> 1"
   ]
  },
  {
   "cell_type": "markdown",
   "metadata": {},
   "source": [
    "# BFS - O(V + E) runtime, O(V + E) space"
   ]
  },
  {
   "cell_type": "code",
   "execution_count": 1,
   "metadata": {},
   "outputs": [],
   "source": [
    "def transpose(graph):\n",
    "    \"\"\"\n",
    "    Transpose the given graph\n",
    "    :param graph: The graph\n",
    "    :return: a new transposed graph of the given graph\n",
    "    \"\"\"\n",
    "\n",
    "    new_graph = Graph(graph.V)  # Creating a new graph\n",
    "\n",
    "    for source in range(graph.V):\n",
    "        destination = graph.graph[source]\n",
    "        while destination:\n",
    "            new_graph.add_edge(destination.vertex, source)\n",
    "            destination = destination.next\n",
    "\n",
    "    # Write your code here!\n",
    "\n",
    "    return new_graph"
   ]
  }
 ],
 "metadata": {
  "kernelspec": {
   "display_name": "Python 3",
   "language": "python",
   "name": "python3"
  },
  "language_info": {
   "codemirror_mode": {
    "name": "ipython",
    "version": 3
   },
   "file_extension": ".py",
   "mimetype": "text/x-python",
   "name": "python",
   "nbconvert_exporter": "python",
   "pygments_lexer": "ipython3",
   "version": "3.7.3"
  }
 },
 "nbformat": 4,
 "nbformat_minor": 2
}

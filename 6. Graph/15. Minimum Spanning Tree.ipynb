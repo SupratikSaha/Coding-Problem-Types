{
 "cells": [
  {
   "cell_type": "markdown",
   "metadata": {},
   "source": [
    "Problem Statement. <br/>\n",
    "\n",
    "Find the minimum spanning tree of a connected, undirected graph with weighted edges."
   ]
  },
  {
   "cell_type": "markdown",
   "metadata": {},
   "source": [
    "# Prim's Algoritm - O(V ^ 2) runtime, O(V + E) space"
   ]
  },
  {
   "cell_type": "code",
   "execution_count": 1,
   "metadata": {},
   "outputs": [],
   "source": [
    "class vertex:\n",
    "    def __init__(self, id, visited):\n",
    "        self.id = id\n",
    "        self.visited = visited\n",
    "\n",
    "\n",
    "class edge:\n",
    "    def __init__(self, weight, visited, src, dest):\n",
    "        self.weight = weight\n",
    "        self.visited = visited\n",
    "        self.src = src\n",
    "        self.dest = dest\n",
    "\n",
    "\n",
    "class graph:\n",
    "    g = []    # vertices\n",
    "    e = []    # edges\n",
    "\n",
    "    def __init__(self, g, e):\n",
    "        self.g = g\n",
    "        self.e = e\n",
    "\n",
    "    # This method returns the vertex with a given id if it\n",
    "    # already exists in the graph, returns NULL otherwise\n",
    "    def vertex_exists(self, id):\n",
    "        for i in range(len(self.g)):\n",
    "            if self.g[i].id == id:\n",
    "                return self.g[i]\n",
    "        return None\n",
    "\n",
    "    # This method generates the graph with v vertices\n",
    "    # and e edges\n",
    "    def generate_graph(self, vertices, edges):\n",
    "        # create vertices\n",
    "        for i in range(vertices):\n",
    "            v = vertex(i + 1, False)\n",
    "            self.g.append(v)\n",
    "\n",
    "        # create edges\n",
    "        for i in range(len(edges)):\n",
    "            src = self.vertex_exists(edges[i][1])\n",
    "            dest = self.vertex_exists(edges[i][2])\n",
    "            e = edge(edges[i][0], False, src, dest)\n",
    "            self.e.append(e)\n",
    "\n",
    "    # This method finds the MST of a graph using\n",
    "    # Prim's Algorithm\n",
    "    # returns the weight of the MST\n",
    "    def find_min_spanning_tree(self):\n",
    "        vertex_count = 0\n",
    "        weight = 0\n",
    "\n",
    "        # Add first vertex to the MST\n",
    "        current = self.g[0]\n",
    "        current.visited = True\n",
    "        vertex_count += 1\n",
    "\n",
    "        # Construct the remaining MST using the\n",
    "        # smallest weight edge\n",
    "        while vertex_count < len(self.g):\n",
    "            smallest = None\n",
    "\n",
    "            for i in range(len(self.e)):\n",
    "                if self.e[i].visited == False:\n",
    "                    if self.e[i].src.visited == True and self.e[i].dest.visited == False:\n",
    "                        if smallest == None or self.e[i].weight < smallest.weight:\n",
    "                            smallest = self.e[i]\n",
    "\n",
    "            smallest.visited = True\n",
    "            smallest.dest.visited = True\n",
    "            weight += smallest.weight\n",
    "            vertex_count += 1\n",
    "\n",
    "        return weight"
   ]
  }
 ],
 "metadata": {
  "kernelspec": {
   "display_name": "Python 3",
   "language": "python",
   "name": "python3"
  },
  "language_info": {
   "codemirror_mode": {
    "name": "ipython",
    "version": 3
   },
   "file_extension": ".py",
   "mimetype": "text/x-python",
   "name": "python",
   "nbconvert_exporter": "python",
   "pygments_lexer": "ipython3",
   "version": "3.7.3"
  }
 },
 "nbformat": 4,
 "nbformat_minor": 2
}

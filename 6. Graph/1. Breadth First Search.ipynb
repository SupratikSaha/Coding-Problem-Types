{
 "cells": [
  {
   "cell_type": "markdown",
   "metadata": {},
   "source": [
    "Problem statement. <br/>\n",
    "\n",
    "You have to implement the Breadth First Search traversal in Python. <br/>\n",
    "\n",
    "Sample input: <br/>\n",
    "A directed graph in the form of an adjacency list and an integer indicating the starting vertex number (source). <br/>\n",
    "\n",
    "Vertex -> Edges <br/>\n",
    "0 -> 2, 1 <br/>\n",
    "1 -> 4, 3 <br/>\n",
    "2 -> None <br/>\n",
    "3 -> None <br/>\n",
    "4 -> None <br/>\n",
    "\n",
    "Source: 0 <br/>\n",
    "    \n",
    "Sample output <br/>\n",
    "\"02143\" // Not the only possible output`m"
   ]
  },
  {
   "cell_type": "markdown",
   "metadata": {},
   "source": [
    "# BFS - O(V + E) runtime, O(V + E) space"
   ]
  },
  {
   "cell_type": "code",
   "execution_count": null,
   "metadata": {},
   "outputs": [],
   "source": [
    "from Graph import Graph\n",
    "from Queue import MyQueue\n",
    "from Stack import MyStack\n",
    "\n",
    "\n",
    "def bfs_traversal_helper(g, source, visited):\n",
    "    result = \"\"\n",
    "    # Create Queue(implemented in previous lesson) for Breadth First Traversal\n",
    "    # and enqueue source in it\n",
    "    queue = MyQueue()\n",
    "    queue.enqueue(source)\n",
    "    visited[source] = True # Mark as visited\n",
    "    # Traverse while queue is not empty\n",
    "    while(queue.is_empty() is False):\n",
    "        # Dequeue a vertex/node from queue and add it to result\n",
    "        current_node = queue.dequeue()\n",
    "        result += str(current_node)\n",
    "        # Get adjacent vertices to the current_node from the list,\n",
    "        # and if they are not already visited then enqueue them in the Queue\n",
    "        temp = g.array[current_node].head_node\n",
    "        while (temp is not None):\n",
    "            if(visited[temp.data] is False):\n",
    "                queue.enqueue(temp.data)\n",
    "                visited[temp.data] = True  # Visit the current Node\n",
    "            temp = temp.next_element\n",
    "    return result, visited\n",
    "\n",
    "def bfs_traversal(g, source):\n",
    "    result = \"\"\n",
    "    num_of_vertices = g.vertices\n",
    "    if num_of_vertices is 0:\n",
    "        return result\n",
    "    # A list to hold the history of visited nodes\n",
    "    # Make a node visited whenever you enqueue it into queue\n",
    "    visited = []\n",
    "    for i in range(num_of_vertices):\n",
    "        visited.append(False)\n",
    "    # Start from source\n",
    "    result, visited = bfs_traversal_helper(g, source, visited)\n",
    "    # visit remaining nodes\n",
    "    for i in range(num_of_vertices):\n",
    "        if visited[i] is False:\n",
    "            result_new, visited = bfs_traversal_helper(g, i, visited)\n",
    "            result += result_new\n",
    "    return result"
   ]
  }
 ],
 "metadata": {
  "kernelspec": {
   "display_name": "Python 3",
   "language": "python",
   "name": "python3"
  },
  "language_info": {
   "codemirror_mode": {
    "name": "ipython",
    "version": 3
   },
   "file_extension": ".py",
   "mimetype": "text/x-python",
   "name": "python",
   "nbconvert_exporter": "python",
   "pygments_lexer": "ipython3",
   "version": "3.7.3"
  }
 },
 "nbformat": 4,
 "nbformat_minor": 2
}

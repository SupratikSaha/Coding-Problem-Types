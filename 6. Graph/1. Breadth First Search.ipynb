{
 "cells": [
  {
   "cell_type": "markdown",
   "metadata": {},
   "source": [
    "Problem statement. <br/>\n",
    "\n",
    "You have to implement the Breadth First Search traversal in Python. <br/>\n",
    "\n",
    "Sample input: <br/>\n",
    "A directed graph in the form of an adjacency list and an integer indicating the starting vertex number (source). <br/>\n",
    "\n",
    "Vertex -> Edges <br/>\n",
    "0 -> 2, 1 <br/>\n",
    "1 -> 4, 3 <br/>\n",
    "2 -> None <br/>\n",
    "3 -> None <br/>\n",
    "4 -> None <br/>\n",
    "\n",
    "Source: 0 <br/>\n",
    "    \n",
    "Sample output <br/>\n",
    "\"02143\" // Not the only possible output`m"
   ]
  },
  {
   "cell_type": "markdown",
   "metadata": {},
   "source": [
    "# BFS - O(V + E) runtime, O(V + E) space"
   ]
  },
  {
   "cell_type": "code",
   "execution_count": null,
   "metadata": {},
   "outputs": [],
   "source": [
    "from Graph import Graph\n",
    "from Queue import MyQueue\n",
    "# You can check the input graph in console tab\n",
    "\n",
    "# Create Queue => queue = MyQueue()\n",
    "# Functions of Queue => enqueue(int), dequeue(), size(), front(), is_empty()\n",
    "# Create Stack => stack = MyStack()\n",
    "# Functions of Stack => push(int), pop(), top(), is_empty() \n",
    "# Create Graph => graph = Graph(vertices)\n",
    "# Create LinkedList => link_list = LinkedList()\n",
    "# Functions of LinkedList => insert_at_head(Node), is_empty(), delete(),\n",
    "#                            delete_at_head(list), search(), print_list()\n",
    "# class Node => data, next_element\n",
    "# Breadth First Traversal of Graph g from source vertex\n",
    "\n",
    "\n",
    "def bfs_traversal(g, source):\n",
    "    result = \"\"\n",
    "    num_of_vertices = g.vertices\n",
    "    visited = [False for _ in range(num_of_vertices)]\n",
    "    queue = MyQueue()\n",
    "    queue.enqueue(source)\n",
    "\n",
    "    while not queue.is_empty():\n",
    "        vertex = queue.dequeue()\n",
    "        result += str(vertex)\n",
    "        visited[vertex] = True\n",
    "        node = g.array[vertex].get_head()\n",
    "        while(node is not None):\n",
    "            if not visited[node.data]:\n",
    "                queue.enqueue(node.data)\n",
    "            node = node.next_element\n",
    "        \n",
    "    # Write - Your - Code\n",
    "    # For the above graph, it should return \"01234\" or \"02143\" etc\n",
    "    return result"
   ]
  }
 ],
 "metadata": {
  "kernelspec": {
   "display_name": "Python 3",
   "language": "python",
   "name": "python3"
  },
  "language_info": {
   "codemirror_mode": {
    "name": "ipython",
    "version": 3
   },
   "file_extension": ".py",
   "mimetype": "text/x-python",
   "name": "python",
   "nbconvert_exporter": "python",
   "pygments_lexer": "ipython3",
   "version": "3.7.3"
  }
 },
 "nbformat": 4,
 "nbformat_minor": 2
}

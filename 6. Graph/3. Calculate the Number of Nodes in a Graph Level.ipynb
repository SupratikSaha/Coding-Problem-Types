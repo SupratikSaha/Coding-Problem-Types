{
 "cells": [
  {
   "cell_type": "markdown",
   "metadata": {},
   "source": [
    "Problem statement. <br/>\n",
    "\n",
    "Implement a function that returns the number of nodes at a given level of a directed graph <br/>\n",
    "\n",
    "Sample input:  <br/>\n",
    "\n",
    "Graph: <br/>\n",
    "Vertex \tEdges <br/>\n",
    "0 \t2, 1 <br/>\n",
    "1 \t4, 3 <br/>\n",
    "2 \tNone <br/>\n",
    "3 \tNone <br/>\n",
    "4 \tNone <br/>\n",
    "\n",
    "Level: 1 <br/>\n",
    "Sample output:  <br/>\n",
    "\n",
    "1"
   ]
  },
  {
   "cell_type": "markdown",
   "metadata": {},
   "source": [
    "# BFS - O(V + E) runtime, O(V + E) space"
   ]
  },
  {
   "cell_type": "code",
   "execution_count": 1,
   "metadata": {},
   "outputs": [],
   "source": [
    "from collections import deque\n",
    "\n",
    "def number_of_nodes(graph, level):\n",
    "    \"\"\"\n",
    "    Calculates the number of nodes at given level\n",
    "    :param graph: The graph\n",
    "    :return: Total number of nodes at given level\n",
    "    \"\"\"\n",
    "\n",
    "    if not graph:\n",
    "        return 0\n",
    "\n",
    "    queue = deque()\n",
    "    queue.append(0)\n",
    "    numLevel = 1\n",
    "\n",
    "    while queue and numLevel < level:\n",
    "        numNodes = len(queue)\n",
    "        for _ in range(numNodes):\n",
    "            currList = graph.graph[queue.popleft()]\n",
    "            while currList:\n",
    "                queue.append(currList.vertex)\n",
    "                currList = currList.next\n",
    "\n",
    "        numLevel += 1\n",
    "\n",
    "    return len(queue) if numLevel == level else 0"
   ]
  },
  {
   "cell_type": "markdown",
   "metadata": {},
   "source": [
    "# BFS with visited list - O(V + E) runtime, O(V + E) space"
   ]
  },
  {
   "cell_type": "code",
   "execution_count": 2,
   "metadata": {},
   "outputs": [],
   "source": [
    "def number_of_nodes(my_graph, level):\n",
    "    \"\"\"\n",
    "    Calculates the number of nodes at given level\n",
    "    :param graph: The graph\n",
    "    :return: Total number of nodes at given level\n",
    "    \"\"\"\n",
    "\n",
    "    source = 0\n",
    "\n",
    "    # Mark all the vertices as not visited\n",
    "    visited = [0] * (len(my_graph.graph))\n",
    "\n",
    "    # Create a queue \n",
    "    queue = []\n",
    "\n",
    "    # Result string\n",
    "    result = \"\"\n",
    "\n",
    "    # Mark the source node as\n",
    "    # visited and enqueue it\n",
    "    queue.append(source)\n",
    "    visited[source] = 1\n",
    "\n",
    "    while queue:\n",
    "\n",
    "        # Dequeue a vertex from queue\n",
    "        source = queue.pop(0)\n",
    "\n",
    "        # Get all adjacent vertices of the\n",
    "        # dequeued vertex source. If a adjacent\n",
    "        # has not been visited, then mark it\n",
    "        # visited and enqueue it\n",
    "\n",
    "        while my_graph.graph[source] is not None:\n",
    "            data = my_graph.graph[source].vertex\n",
    "            if visited[data] == 0:\n",
    "                queue.append(data)\n",
    "                visited[data] = visited[source] + 1\n",
    "            my_graph.graph[source] = my_graph.graph[source].next\n",
    "\n",
    "    # Counting number of nodes at given level\n",
    "    result = 0\n",
    "    for i in range(len(my_graph.graph)):\n",
    "        if visited[i] == level:\n",
    "            result += 1\n",
    "    return result"
   ]
  }
 ],
 "metadata": {
  "kernelspec": {
   "display_name": "Python 3",
   "language": "python",
   "name": "python3"
  },
  "language_info": {
   "codemirror_mode": {
    "name": "ipython",
    "version": 3
   },
   "file_extension": ".py",
   "mimetype": "text/x-python",
   "name": "python",
   "nbconvert_exporter": "python",
   "pygments_lexer": "ipython3",
   "version": "3.7.3"
  }
 },
 "nbformat": 4,
 "nbformat_minor": 2
}

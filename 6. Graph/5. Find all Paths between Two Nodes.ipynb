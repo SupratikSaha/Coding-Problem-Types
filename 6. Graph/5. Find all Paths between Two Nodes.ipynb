{
 "cells": [
  {
   "cell_type": "markdown",
   "metadata": {},
   "source": [
    "Problem statement. <br/>\n",
    "\n",
    "Implement a function that prints all paths that exist between two nodes (source to destination). <br/>\n",
    "\n",
    "Sample input: <br/>\n",
    "\n",
    "Graph: <br/>\n",
    "Vertex -> Edges <br/>\n",
    "0 -> 1, 2 <br/>\n",
    "1 -> 3, 4 <br/>\n",
    "2 -> 5 <br/>\n",
    "3 -> 5 <br/>\n",
    "4 -> 5 <br/>\n",
    "5 -> None <br/>\n",
    "\n",
    "source = 0 destination = 5 <br/>\n",
    "\n",
    "Sample output: <br/>\n",
    "The output should be a list of lists. Each list indicates a path between two nodes. <br/>\n",
    "result = [[0, 2, 5], [0, 1, 4, 5], [0, 1, 3, 5]]"
   ]
  },
  {
   "cell_type": "markdown",
   "metadata": {},
   "source": [
    "# DFS and Backtracking - O(V + E) runtime, O(V + E) space"
   ]
  },
  {
   "cell_type": "code",
   "execution_count": 1,
   "metadata": {},
   "outputs": [],
   "source": [
    "import copy  # For deep copy if needed\n",
    "\n",
    "def find_all_paths(graph, source, destination):\n",
    "    \"\"\"\n",
    "    Finds all paths between source and destination in given graph\n",
    "    :param graph: A directed graph\n",
    "    :param source: Source Vertex\n",
    "    :param destination: Destination Vertex\n",
    "    \"\"\"\n",
    "    # Mark all the vertices as not visited\n",
    "    visited = [False] * (graph.V)\n",
    "\n",
    "    # Create a list to store paths\n",
    "    paths = []\n",
    "    path = []\n",
    "\n",
    "    # Call the recursive helper function to find all paths\n",
    "    find_all_paths_recursive(graph, source, destination, visited, path, paths)\n",
    "    return paths\n",
    "\n",
    "def find_all_paths_recursive(graph, source, destination, visited, path, paths):\n",
    "    \"\"\"\n",
    "    Finds all paths between source and destination in given graph\n",
    "    :param graph: A directed graph\n",
    "    :param source: Source Vertex\n",
    "    :param destination: Destination Vertex\n",
    "    :param visited: A list to mark visited vertices\n",
    "    :param path: List to store one path to source from destination\n",
    "    :param paths: 2D list to store all paths\n",
    "    \"\"\"\n",
    "\n",
    "    # Mark the current node as visited and store in path\n",
    "    visited[source] = True\n",
    "    path.append(source)\n",
    "\n",
    "    # If current vertex is same as destination, then print\n",
    "    # stores the current path in 2D list (Deep copy)\n",
    "    if source == destination:\n",
    "        paths.append(copy.deepcopy(path))\n",
    "    else:\n",
    "        node = graph.graph[source]\n",
    "        # If current vertex is not destination\n",
    "        # Recur for all the vertices adjacent to this vertex\n",
    "        while node is not None:\n",
    "            if not visited[node.vertex]:\n",
    "                find_all_paths_recursive(graph, node.vertex, destination, visited, path, paths)\n",
    "\n",
    "            node = node.next\n",
    "\n",
    "    # Remove current vertex from path[] and mark it as unvisited\n",
    "    path.pop()\n",
    "    visited[source] = False"
   ]
  }
 ],
 "metadata": {
  "kernelspec": {
   "display_name": "Python 3",
   "language": "python",
   "name": "python3"
  },
  "language_info": {
   "codemirror_mode": {
    "name": "ipython",
    "version": 3
   },
   "file_extension": ".py",
   "mimetype": "text/x-python",
   "name": "python",
   "nbconvert_exporter": "python",
   "pygments_lexer": "ipython3",
   "version": "3.7.3"
  }
 },
 "nbformat": 4,
 "nbformat_minor": 2
}

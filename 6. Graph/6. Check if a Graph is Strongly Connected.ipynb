{
 "cells": [
  {
   "cell_type": "markdown",
   "metadata": {},
   "source": [
    "Problem statement. <br/>\n",
    "\n",
    "Implement a function that tells us whether a graph is strongly connected or not. <br/>\n",
    "A directed graph is strongly connected if there is a path between any two pairs of vertices. <br/>\n",
    "\n",
    "Sample input: <br/>\n",
    "\n",
    "Graph: <br/>\n",
    "Vertex -> Edges\n",
    "0 -> 1 <br/>\n",
    "1 -> 2 <br/>\n",
    "2 -> 3, 4 <br/>\n",
    "3 -> 0 <br/>\n",
    "4 -> 2 <br/>\n",
    "\n",
    "Sample output: <br/>\n",
    "result = True"
   ]
  },
  {
   "cell_type": "markdown",
   "metadata": {},
   "source": [
    "# DFS with  Transpose - O(V + E) runtime, O(V + E) space"
   ]
  },
  {
   "cell_type": "code",
   "execution_count": 1,
   "metadata": {},
   "outputs": [],
   "source": [
    "def is_strongly_connected(graph):\n",
    "    \"\"\"\n",
    "    Finds if the graph is strongly connected or not\n",
    "    :param graph: The graph\n",
    "    :return: returns True if the graph is strongly connected, otherwise False\n",
    "    \"\"\"\n",
    "\n",
    "    # Step 1: Do DFS traversal starting from the first vertex.\n",
    "    result = dfs(graph, 0)\n",
    "\n",
    "    # If DFS traversal doesn't visit all vertices, then return false\n",
    "    if graph.V != len(result):\n",
    "        return False\n",
    "\n",
    "    # Step 2: Create a reversed graph\n",
    "    graph2 = transpose(graph)\n",
    "\n",
    "    # Step 3: Do DFS for reversed graph starting from the first vertex.\n",
    "    # Staring Vertex must be same starting point of first DFS\n",
    "    result = dfs(graph2, 0)\n",
    "\n",
    "    # If all vertices are not visited in second DFS, then\n",
    "    # return false\n",
    "    if graph2.V != len(result):\n",
    "        return False\n",
    "\n",
    "    return True\n",
    "\n",
    "def transpose(graph):\n",
    "    \"\"\"\n",
    "    Transpose the given graph\n",
    "    :param graph: The graph\n",
    "    :return: a new transposed graph of the given graph\n",
    "    \"\"\"\n",
    "\n",
    "    new_graph = Graph(graph.V)  # Creating a new graph\n",
    "\n",
    "    for source in range(graph.V):\n",
    "        destination = graph.graph[source]\n",
    "        while destination:\n",
    "            new_graph.add_edge(destination.vertex, source)\n",
    "            destination = destination.next\n",
    "\n",
    "    # Write your code here!\n",
    "\n",
    "    return new_graph"
   ]
  }
 ],
 "metadata": {
  "kernelspec": {
   "display_name": "Python 3",
   "language": "python",
   "name": "python3"
  },
  "language_info": {
   "codemirror_mode": {
    "name": "ipython",
    "version": 3
   },
   "file_extension": ".py",
   "mimetype": "text/x-python",
   "name": "python",
   "nbconvert_exporter": "python",
   "pygments_lexer": "ipython3",
   "version": "3.7.3"
  }
 },
 "nbformat": 4,
 "nbformat_minor": 2
}

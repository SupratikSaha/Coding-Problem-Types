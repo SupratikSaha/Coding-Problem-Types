{
 "cells": [
  {
   "cell_type": "markdown",
   "metadata": {},
   "source": [
    "Problem statement. <br/>\n",
    "\n",
    "The concept of loops or cycles is very common in graph theory. A cycle exists when you traverse the directed graph and come upon a vertex that has already been visited. <br/>\n",
    "You have to implement the detect_cycle function which tells you whether or not a graph contains a cycle. <br/>\n",
    "\n",
    "Sample input: <br/>\n",
    "graph = { <br/>\n",
    "    0 -> 1 <br/>\n",
    "    1 -> 2 <br/>\n",
    "    2 -> 0 <br/>\n",
    "} <br/>\n",
    "\n",
    "Sample output: <br/>\n",
    "result = True"
   ]
  },
  {
   "cell_type": "markdown",
   "metadata": {},
   "source": [
    "# DFS Iterative - O(V + E) runtime, O(V + E) space"
   ]
  },
  {
   "cell_type": "code",
   "execution_count": null,
   "metadata": {},
   "outputs": [],
   "source": [
    "from Graph import Graph\n",
    "from Stack import MyStack\n",
    "# You can check the input graph in console tab\n",
    "\n",
    "# Create Stack => stack = MyStack()\n",
    "# Functions of Stack => push(int), pop(), top(), is_empty()\n",
    "# Create Queue => queue = MyQueue()\n",
    "# Functions of Queue => enqueue(int), dequeue(), size(), front(), is_empty()\n",
    "# class Graph => {int vertices, linkedList[] array}\n",
    "# class linkedList => {Node head_node}\n",
    "# class Node => {int data, Node next_element}\n",
    "\n",
    "def detect_cycle(g): \n",
    "    if g.vertices == 0:\n",
    "        return False\n",
    "\n",
    "    visited = [False for _ in range(g.vertices)]\n",
    "\n",
    "    for i in range(g.vertices):\n",
    "        if not visited[i]:\n",
    "                visited, result = detect_cycle_helper(g, i, visited)\n",
    "                if result:\n",
    "                    return True\n",
    "\n",
    "    return False\n",
    "\n",
    "def detect_cycle_helper(g, i, visited):\n",
    "    stack = MyStack()\n",
    "    stack.push(i)\n",
    "    visited[i] = True\n",
    "\n",
    "    while not stack.is_empty():\n",
    "        vertex = stack.pop()\n",
    "        node = g.array[vertex].get_head()\n",
    "        while node:\n",
    "            if visited[node.data]:\n",
    "                return visited, True\n",
    "            visited[node.data] = True\n",
    "            stack.push(node.data)\n",
    "            node = node.next_element\n",
    "\n",
    "    return visited, False"
   ]
  },
  {
   "cell_type": "markdown",
   "metadata": {},
   "source": [
    "# DFS - Recursive - O(V + E) runtime, O(V + E) space"
   ]
  },
  {
   "cell_type": "code",
   "execution_count": null,
   "metadata": {},
   "outputs": [],
   "source": [
    "from Graph import Graph\n",
    "# We only need Graph and Stack for this Challenge!\n",
    "\n",
    "def detect_cycle(g):\n",
    "    # visited list to keep track of the nodes that have been visited\n",
    "    # since the beginning of the algorithm\n",
    "    visited = [False] * g.vertices\n",
    "\n",
    "    # rec_node_stack keeps track of the nodes which are part of the\n",
    "    # current recursive call\n",
    "    rec_node_stack = [False] * g.vertices\n",
    "\n",
    "    for node in range(g.vertices):\n",
    "        # DFS recursion call\n",
    "        if detect_cycle_rec(g, node, visited, rec_node_stack):\n",
    "            return True\n",
    "\n",
    "    return False\n",
    "\n",
    "\n",
    "def detect_cycle_rec(g, node, visited, rec_node_stack):\n",
    "    # Node was already in recursion stack. Cycle found.\n",
    "    if (rec_node_stack[node]):\n",
    "        return True\n",
    "\n",
    "    # It has been visited before this recursion\n",
    "    if (visited[node]):\n",
    "        return False\n",
    "    # Mark current node as visited and\n",
    "    # add to recursion stack\n",
    "    visited[node] = True\n",
    "    rec_node_stack[node] = True\n",
    "\n",
    "    head_node = g.array[node].head_node\n",
    "    while(head_node is not None):\n",
    "        # Pick adjacent node and call it recursively\n",
    "        adjacent = head_node.data\n",
    "        # If the node is visited again in the same recursion => Cycle found\n",
    "        if (detect_cycle_rec(g, adjacent, visited, rec_node_stack)):\n",
    "            return True\n",
    "        head_node = head_node.next_element\n",
    "\n",
    "    # remove the node from the recursive call\n",
    "    rec_node_stack[node] = False\n",
    "    return False"
   ]
  }
 ],
 "metadata": {
  "kernelspec": {
   "display_name": "Python 3",
   "language": "python",
   "name": "python3"
  },
  "language_info": {
   "codemirror_mode": {
    "name": "ipython",
    "version": 3
   },
   "file_extension": ".py",
   "mimetype": "text/x-python",
   "name": "python",
   "nbconvert_exporter": "python",
   "pygments_lexer": "ipython3",
   "version": "3.7.3"
  }
 },
 "nbformat": 4,
 "nbformat_minor": 2
}

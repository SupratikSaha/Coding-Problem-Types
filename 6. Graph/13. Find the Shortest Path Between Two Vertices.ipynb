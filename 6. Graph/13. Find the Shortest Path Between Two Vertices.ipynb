{
 "cells": [
  {
   "cell_type": "markdown",
   "metadata": {},
   "source": [
    "Problem statement. <br/>\n",
    "\n",
    "Implement the find_min() function which will take a directed graph and two vertices, A and B. The result will be the shortest path from A to B. <br/>\n",
    "\n",
    "Remember, the shortest path will contain the minimum number of edges. <br/>\n",
    "\n",
    "Sample input: <br/>\n",
    "\n",
    "graph = { <br/>\n",
    "    0 -> 1 <br/>\n",
    "    0 -> 2 <br/>\n",
    "    0 -> 3 <br/>\n",
    "    3 -> 5 <br/>\n",
    "    5 -> 4 <br/>\n",
    "    2 -> 4 <br/>\n",
    "} <br/>\n",
    "\n",
    "Vertex A = 0 <br/>\n",
    "Vertex B = 4 <br/>\n",
    "\n",
    "Sample output: 2"
   ]
  },
  {
   "cell_type": "markdown",
   "metadata": {},
   "source": [
    "# BFS - O(V + E) runtime, O(V + E) space"
   ]
  },
  {
   "cell_type": "code",
   "execution_count": null,
   "metadata": {},
   "outputs": [],
   "source": [
    "from Graph import Graph\n",
    "from Queue import MyQueue\n",
    "# You can check the input graph in console tab\n",
    "\n",
    "# Create Stack => stack = MyStack()\n",
    "# Functions of Stack => push(int), pop(), top(), is_empty()\n",
    "# Create Queue => queue = MyQueue()\n",
    "# Functions of Queue => enqueue(int), dequeue(), size(), front(), is_empty()\n",
    "# class Graph => {int vertices, linkedList[] array}\n",
    "# class linkedList => {Node head_node}\n",
    "# class Node => {int data, Node next_element}\n",
    "\n",
    "\n",
    "def find_min(g, source, destination):\n",
    "    distance = [0 for _ in range(g.vertices)]\n",
    "    visited = [False for _ in range(g.vertices)]\n",
    "\n",
    "    queue = MyQueue()\n",
    "    queue.enqueue(source)\n",
    "\n",
    "    while not queue.is_empty():\n",
    "        vertex = queue.dequeue()\n",
    "        visited[vertex] = True\n",
    "        node = g.array[vertex].head_node\n",
    "        while node:\n",
    "            if not visited[node.data]:\n",
    "                queue.enqueue(node.data)\n",
    "                distance[node.data] = distance[vertex] + 1\n",
    "                if node.data == destination:\n",
    "                    return distance[destination]\n",
    "            \n",
    "            node = node.next_element\n",
    "\n",
    "    return distance[destination]"
   ]
  }
 ],
 "metadata": {
  "kernelspec": {
   "display_name": "Python 3",
   "language": "python",
   "name": "python3"
  },
  "language_info": {
   "codemirror_mode": {
    "name": "ipython",
    "version": 3
   },
   "file_extension": ".py",
   "mimetype": "text/x-python",
   "name": "python",
   "nbconvert_exporter": "python",
   "pygments_lexer": "ipython3",
   "version": "3.7.3"
  }
 },
 "nbformat": 4,
 "nbformat_minor": 2
}

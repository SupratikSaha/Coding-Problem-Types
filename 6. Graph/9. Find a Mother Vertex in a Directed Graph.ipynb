{
 "cells": [
  {
   "cell_type": "markdown",
   "metadata": {},
   "source": [
    "Problem statement. <br/>\n",
    "\n",
    "You have to implement the find_mother_vertex() function which will take a directed graph as an input and find out which vertex is the mother vertex in the graph. <br/>\n",
    "By definition, the mother vertex is one from which all other vertices are reachable. A graph can have multiple mother vertices, but you only need to find one. <br/>\n",
    "\n",
    "Sample input: <br/>\n",
    "graph = { <br/>\n",
    "    3 -> 0 <br/>\n",
    "    3 -> 1 <br/>\n",
    "    0 -> 1 <br/>\n",
    "    1 -> 2 <br/>\n",
    "} <br/>\n",
    "\n",
    "Sample output: 3"
   ]
  },
  {
   "cell_type": "markdown",
   "metadata": {},
   "source": [
    "# Brute Force DFS - O(V* (V + E)) runtime, O(V + E) space"
   ]
  },
  {
   "cell_type": "code",
   "execution_count": null,
   "metadata": {},
   "outputs": [],
   "source": [
    "from Graph import Graph\n",
    "# You can check the input graph in console tab\n",
    "\n",
    "# Create Stack => stack = MyStack()\n",
    "# Functions of Stack => push(int), pop(), top(), is_empty()\n",
    "# Create Queue => queue = MyQueue()\n",
    "# Functions of Queue => enqueue(int), dequeue(), size(), front(), is_empty()\n",
    "# class Graph => {int vertices, linkedList[] array}\n",
    "# class linkedList => {Node head_node}\n",
    "# class Node => {int data, Node next_element}\n",
    "\n",
    "\n",
    "def find_mother_vertex(g): \n",
    "\n",
    "    motherVertexTested = [False for _ in range(g.vertices)]\n",
    "\n",
    "    for source in range(g.vertices):\n",
    "        if not motherVertexTested[source]:\n",
    "            visited = [False for _ in range(g.vertices)]\n",
    "            visited[source] = True\n",
    "            visited = traverse_all_paths(g, source, visited)\n",
    "            if all(visited) is True:\n",
    "                return source\n",
    "            for i in range(g.vertices):\n",
    "                motherVertexTested[i] |= visited[i]\n",
    "    return None\n",
    "\n",
    "def traverse_all_paths(g, source, visited):\n",
    "    node = g.array[source].get_head()\n",
    "\n",
    "    while node:\n",
    "        if not visited[node.data]:\n",
    "            visited[node.data] = True\n",
    "            visited = traverse_all_paths(g, node.data, visited)\n",
    "        node = node.next_element\n",
    "    return visited"
   ]
  },
  {
   "cell_type": "markdown",
   "metadata": {},
   "source": [
    "# Last finished vertex DFS - O(V + E) runtime, O(V + E) space"
   ]
  },
  {
   "cell_type": "code",
   "execution_count": null,
   "metadata": {},
   "outputs": [],
   "source": [
    "from Graph import Graph\n",
    "from Stack import MyStack\n",
    "# We only need Graph and Stack for this question!\n",
    "\n",
    "\n",
    "def find_mother_vertex(g):\n",
    "    # visited[] is used for DFS. Initially all are\n",
    "    # initialized as not visited\n",
    "    visited = [False]*(g.vertices)\n",
    "\n",
    "    # To store last finished vertex (or mother vertex)\n",
    "    last_v = 0\n",
    "\n",
    "    # Do a DFS traversal and find the last finished\n",
    "    # vertex\n",
    "    for i in range(g.vertices):\n",
    "        if visited[i] is False:\n",
    "            perform_DFS(g, i, visited)\n",
    "            last_v = i\n",
    "\n",
    "    # If there exist mother vertex (or vetices) in given\n",
    "    # graph, then v must be one (or one of them)\n",
    "\n",
    "    # Now check if v is actually a mother vertex (or graph\n",
    "    # has a mother vertex). We basically check if every vertex\n",
    "    # is reachable from v or not.\n",
    "\n",
    "    # Reset all values in visited[] as false and do\n",
    "    # DFS beginning from v to check if all vertices are\n",
    "    # reachable from it or not.\n",
    "    visited = [False]*(g.vertices)\n",
    "    perform_DFS(g, last_v, visited)\n",
    "    if any(i is False for i in visited):\n",
    "        return -1\n",
    "    else:\n",
    "        return last_v\n",
    "    \n",
    "# A recursive function to print DFS starting from v\n",
    "def perform_DFS(g, node, visited):\n",
    "\n",
    "    # Mark the current node as visited and print it\n",
    "    visited[node] = True\n",
    "\n",
    "    # Recur for all the vertices adjacent to this vertex\n",
    "    temp = g.array[node].head_node\n",
    "    while(temp):\n",
    "        if visited[temp.data] is False:\n",
    "            perform_DFS(g, temp.data, visited)\n",
    "        temp = temp.next_element"
   ]
  }
 ],
 "metadata": {
  "kernelspec": {
   "display_name": "Python 3",
   "language": "python",
   "name": "python3"
  },
  "language_info": {
   "codemirror_mode": {
    "name": "ipython",
    "version": 3
   },
   "file_extension": ".py",
   "mimetype": "text/x-python",
   "name": "python",
   "nbconvert_exporter": "python",
   "pygments_lexer": "ipython3",
   "version": "3.7.3"
  }
 },
 "nbformat": 4,
 "nbformat_minor": 2
}

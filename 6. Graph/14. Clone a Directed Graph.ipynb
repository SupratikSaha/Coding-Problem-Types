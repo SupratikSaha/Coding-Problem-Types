{
 "cells": [
  {
   "cell_type": "markdown",
   "metadata": {},
   "source": [
    "Problem Statement. <br/>\n",
    "\n",
    "Given the root node of a directed graph, clone this graph by creating its deep copy so that the cloned graph has the same vertices and edges as the original graph. <br/>\n",
    "\n",
    "Let’s look at the below graphs as an example. If the input graph is G=(V,E where V is set of vertices and E is set of edges, then the output graph (cloned graph) G′=(V′,E′) such that V=V′ and E=E′ <br/>\n",
    "\n",
    "We are assuming that all vertices are reachable from the root vertex. i.e. we have a connected graph."
   ]
  },
  {
   "cell_type": "markdown",
   "metadata": {},
   "source": [
    "# BFS - O(V + E) runtime, O(V + E) space"
   ]
  },
  {
   "cell_type": "code",
   "execution_count": 1,
   "metadata": {},
   "outputs": [],
   "source": [
    "from collections import deque\n",
    "\n",
    "class Node:\n",
    "    def __init__(self, d):\n",
    "        self.data = d\n",
    "        self.neighbors = []\n",
    "\n",
    "def clone(root):\n",
    "    \n",
    "    vertex_dict = {}\n",
    "\n",
    "    stack = deque()\n",
    "    stack.append(root)\n",
    "    root_copy = Node(root.data)\n",
    "    vertex_dict[root.data] = root_copy\n",
    "\n",
    "    while stack:\n",
    "        node = stack.popleft()\n",
    "\n",
    "        for neighbor in node.neighbors:\n",
    "            if neighbor.data not in vertex_dict:\n",
    "                stack.append(neighbor)\n",
    "                neighbor_copy = Node(neighbor.data)\n",
    "                vertex_dict[neighbor.data] = neighbor_copy\n",
    "            \n",
    "            vertex_dict[node.data].neighbors.append(vertex_dict[neighbor.data])\n",
    "\n",
    "    return root_copy"
   ]
  },
  {
   "cell_type": "markdown",
   "metadata": {},
   "source": [
    "# DFS - O(V + E) runtime, O(V + E) space"
   ]
  },
  {
   "cell_type": "code",
   "execution_count": 2,
   "metadata": {},
   "outputs": [],
   "source": [
    "class Node:\n",
    "    def __init__(self, d):\n",
    "        self.data = d\n",
    "        self.neighbors = []\n",
    "\n",
    "def clone_rec(root, nodes_completed):\n",
    "    if root == None:\n",
    "        return None\n",
    "\n",
    "    pNew = Node(root.data)\n",
    "    nodes_completed[root] = pNew\n",
    "\n",
    "    for p in root.neighbors:\n",
    "        x = nodes_completed.get(p)\n",
    "        if x == None:\n",
    "            pNew.neighbors += [clone_rec(p, nodes_completed)]\n",
    "        else:\n",
    "            pNew.neighbors += [x]\n",
    "    return pNew\n",
    "\n",
    "def clone(root):\n",
    "    nodes_completed = {}\n",
    "    return clone_rec(root, nodes_completed)"
   ]
  }
 ],
 "metadata": {
  "kernelspec": {
   "display_name": "Python 3",
   "language": "python",
   "name": "python3"
  },
  "language_info": {
   "codemirror_mode": {
    "name": "ipython",
    "version": 3
   },
   "file_extension": ".py",
   "mimetype": "text/x-python",
   "name": "python",
   "nbconvert_exporter": "python",
   "pygments_lexer": "ipython3",
   "version": "3.7.3"
  }
 },
 "nbformat": 4,
 "nbformat_minor": 2
}

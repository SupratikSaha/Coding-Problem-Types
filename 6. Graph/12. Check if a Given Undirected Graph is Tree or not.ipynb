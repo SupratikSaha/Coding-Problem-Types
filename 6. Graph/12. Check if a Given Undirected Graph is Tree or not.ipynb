{
 "cells": [
  {
   "cell_type": "markdown",
   "metadata": {},
   "source": [
    "Problem statement. <br/>\n",
    "\n",
    "The next section will tackle the tree data structure. For now, here’s the basic difference between a graph and a tree. A graph can only be a tree under two conditions: <br/>\n",
    "\n",
    "    There are no cycles. <br/>\n",
    "    The graph is connected. <br/>\n",
    "\n",
    "    A graph is connected when there is a path between every pair of vertices. In a connected graph, there are no unreachable vertices. Each vertex must be connected to every other vertex through either a direct edge or a graph traversal. <br/>\n",
    "\n",
    "You have to implement is_tree() function which will take a graph as an input and find out if it is a tree. <br/>\n",
    "\n",
    "Sample input: <br/>\n",
    "\n",
    "graph = { <br/>\n",
    "    0 - 1 <br/>\n",
    "    0 - 2 <br/>\n",
    "    0 - 3 <br/>\n",
    "    3 - 4 <br/>  \n",
    "} <br/>\n",
    "\n",
    "Sample output: True"
   ]
  },
  {
   "cell_type": "markdown",
   "metadata": {},
   "source": [
    "# DFS Recursive - Check Cycles - O(V + E) runtime, O(V + E) space"
   ]
  },
  {
   "cell_type": "code",
   "execution_count": null,
   "metadata": {},
   "outputs": [],
   "source": [
    "from Graph import Graph\n",
    "# We only need Graph for this Question!\n",
    "\n",
    "\n",
    "def is_tree(g):\n",
    "    # All vertices unvisited\n",
    "    visited = [False] * g.vertices\n",
    "\n",
    "    # Check cycle using recursion stack\n",
    "    # Also mark nodes visited to check connectivity\n",
    "    if check_cycle(g, 0, visited, -1) is True:\n",
    "        return False\n",
    "\n",
    "    # Check if all nodes we visited from the source (graph is connected)\n",
    "    for i in range(len(visited)):\n",
    "        # Graph is not connected\n",
    "        if visited[i] is False:\n",
    "            return False\n",
    "    # Not cycle and connected graph\n",
    "    return True\n",
    "\n",
    "\n",
    "def check_cycle(g, node, visited, parent):\n",
    "    # Mark node as visited\n",
    "    visited[node] = True\n",
    "\n",
    "    # Pick adjacent node and run recursive DFS\n",
    "    adjacent = g.array[node].head_node\n",
    "    while adjacent:\n",
    "        if visited[adjacent.data] is False:\n",
    "            if check_cycle(g, adjacent.data, visited, node) is True:\n",
    "                return True\n",
    "\n",
    "        # If adjacent is visited and not the parent node of the current node\n",
    "        elif adjacent.data is not parent:\n",
    "            # Cycle found\n",
    "            return True\n",
    "        adjacent = adjacent.next_element\n",
    "\n",
    "    return False"
   ]
  },
  {
   "cell_type": "markdown",
   "metadata": {},
   "source": [
    "# DFS Iterative - Check number of edges - O(V + E) runtime, O(V + E) space"
   ]
  },
  {
   "cell_type": "code",
   "execution_count": null,
   "metadata": {},
   "outputs": [],
   "source": [
    "from Graph import Graph\n",
    "from Stack import MyStack\n",
    "# You can check the input graph in console tab\n",
    "\n",
    "# Create Stack => stack = MyStack()\n",
    "# Functions of Stack => push(int), pop(), top(), is_empty()\n",
    "# Create Queue => queue = MyQueue()\n",
    "# Functions of Queue => enqueue(int), dequeue(), size(), front(), is_empty()\n",
    "# class Graph => {int vertices, linkedList[] array}\n",
    "# class linkedList => {Node head_node}\n",
    "# class Node => {int data, Node next_element}\n",
    "\n",
    "\n",
    "def is_tree(g):\n",
    "    visited = [False for _ in range(g.vertices)]\n",
    "\n",
    "    num_edges = 0\n",
    "\n",
    "    stack = MyStack()\n",
    "    stack.push(0)\n",
    "\n",
    "    while stack.size() > 0:\n",
    "        vertex = stack.pop()\n",
    "        visited[vertex] = True\n",
    "        node = g.array[vertex].head_node\n",
    "\n",
    "        while node:\n",
    "            num_edges += 1\n",
    "            if not visited[node.data]:\n",
    "                stack.push(node.data)\n",
    "\n",
    "            node = node.next_element\n",
    "\n",
    "    if num_edges / 2 == g.vertices - 1 and all(visited) is True:\n",
    "        return True\n",
    "    \n",
    "    return False"
   ]
  }
 ],
 "metadata": {
  "kernelspec": {
   "display_name": "Python 3",
   "language": "python",
   "name": "python3"
  },
  "language_info": {
   "codemirror_mode": {
    "name": "ipython",
    "version": 3
   },
   "file_extension": ".py",
   "mimetype": "text/x-python",
   "name": "python",
   "nbconvert_exporter": "python",
   "pygments_lexer": "ipython3",
   "version": "3.7.3"
  }
 },
 "nbformat": 4,
 "nbformat_minor": 2
}

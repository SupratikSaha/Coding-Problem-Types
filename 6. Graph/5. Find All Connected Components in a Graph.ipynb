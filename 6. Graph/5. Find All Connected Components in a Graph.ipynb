{
 "cells": [
  {
   "cell_type": "markdown",
   "metadata": {},
   "source": [
    "Problem statement. <br/>\n",
    "\n",
    "Implement a function that takes an undirected graph and prints all the connected components of a graph. <br/>\n",
    "\n",
    "Sample input: <br/>\n",
    "\n",
    "Graph: <br/>\n",
    "Vertex -> Edges <br/>\n",
    "0 -> 1, 3 <br/>\n",
    "1 -> 0, 2 <br/>\n",
    "2 -> 3, 1 <br/>\n",
    "3 -> 2, 0 <br/>\n",
    "4 -> 5 <br/>\n",
    "5 -> 4, 6 <br/>\n",
    "6 -> 5 <br/>\n",
    "\n",
    "Sample output:  <br/>\n",
    "result = ['0123', '456']"
   ]
  },
  {
   "cell_type": "markdown",
   "metadata": {},
   "source": [
    "# DFS - O(V + E) runtime, O(V + E) space"
   ]
  },
  {
   "cell_type": "code",
   "execution_count": 1,
   "metadata": {},
   "outputs": [],
   "source": [
    "def connected_components(graph):\n",
    "    \"\"\"\n",
    "    Function to find the connected components\n",
    "    :param graph: The graph\n",
    "    :return: returns a list of connected components\n",
    "    \"\"\"\n",
    "    resultList = []\n",
    "    visited = [False for _ in range(graph.V)]\n",
    "    for i in range(graph.V):\n",
    "        if not visited[i]:\n",
    "            resultList.append(dfs(graph, i, visited))\n",
    "\n",
    "    return resultList\n",
    "\n",
    "# Helper Function of DFS. Might be useful\n",
    "def dfs(g, source, visited):\n",
    "    \"\"\"\n",
    "    Function to print a DFS of graph\n",
    "    :param graph: The graph\n",
    "    :param source: starting vertex\n",
    "    :return: returns the traversal in a string\n",
    "    \"\"\"\n",
    "\n",
    "    graph = copy.deepcopy(g)\n",
    "\n",
    "    # Create a stack for DFS\n",
    "    stack = []\n",
    "\n",
    "    # Result string\n",
    "    result = \"\"\n",
    "\n",
    "    # Push the source\n",
    "    stack.append(source)\n",
    "\n",
    "    while stack:\n",
    "\n",
    "        # Pop a vertex from stack\n",
    "        source = stack[-1]\n",
    "        stack.pop()\n",
    "\n",
    "        if not visited[source]:\n",
    "            result += str(source)\n",
    "            visited[source] = True\n",
    "\n",
    "        # Get all adjacent vertices of the popped vertex source.\n",
    "        # If a adjacent has not been visited, then push it\n",
    "        while graph.graph[source] is not None:\n",
    "            data = graph.graph[source].vertex\n",
    "            if not visited[data]:\n",
    "                stack.append(data)\n",
    "            graph.graph[source] = graph.graph[source].next\n",
    "\n",
    "    return result"
   ]
  }
 ],
 "metadata": {
  "kernelspec": {
   "display_name": "Python 3",
   "language": "python",
   "name": "python3"
  },
  "language_info": {
   "codemirror_mode": {
    "name": "ipython",
    "version": 3
   },
   "file_extension": ".py",
   "mimetype": "text/x-python",
   "name": "python",
   "nbconvert_exporter": "python",
   "pygments_lexer": "ipython3",
   "version": "3.7.3"
  }
 },
 "nbformat": 4,
 "nbformat_minor": 2
}

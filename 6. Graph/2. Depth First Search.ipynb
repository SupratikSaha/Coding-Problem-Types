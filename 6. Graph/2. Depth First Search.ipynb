{
 "cells": [
  {
   "cell_type": "markdown",
   "metadata": {},
   "source": [
    "Problem statement. <br/>\n",
    "\n",
    "You have to implement the Depth First Search algorithm on a directed graph <br/>\n",
    "\n",
    "Sample input:  <br/>\n",
    "A directed graph in the form of an adjacency list and a starting vertex. <br/>\n",
    "\n",
    "Vertex -> Edges <br/>\n",
    "0 -> None <br/>\n",
    "1 -> 3, 2 <br/>\n",
    "2 -> 5, 4 <br/>\n",
    "3 -> 6 <br/>\n",
    "4 -> None <br/>\n",
    "5 -> None <br/>\n",
    "6 -> None <br/>\n",
    "\n",
    "Source: 0 <br/>\n",
    "    \n",
    "Sample output: <br/>\n",
    "\"1245360\" or \"1362540\""
   ]
  },
  {
   "cell_type": "markdown",
   "metadata": {},
   "source": [
    "# DFS - O(V + E) runtime, O(V + E) space"
   ]
  },
  {
   "cell_type": "code",
   "execution_count": null,
   "metadata": {},
   "outputs": [],
   "source": [
    "from Graph import Graph\n",
    "from Queue import MyQueue\n",
    "from Stack import MyStack\n",
    "# You can check the input directed graph in console tab\n",
    "\n",
    "# Create Stack => stack = MyStack()\n",
    "# Functions of Stack => push(int), pop(), top(), is_empty()\n",
    "# Create Queue => queue = MyQueue()\n",
    "# Functions of Queue => enqueue(int), dequeue(), size(), front(), is_empty()\n",
    "# class Graph => {int vertices, linkedList[] array}\n",
    "# class linkedList => {Node head_node}\n",
    "# class Node => {int data, Node next_element}\n",
    "# Depth First Traversal of Graph \"g\" from source vertex\n",
    "\n",
    "\n",
    "def dfs_traversal_helper(g, source, visited):\n",
    "    result = \"\"\n",
    "    # Create Stack(Implemented in previous lesson) for Depth First Traversal\n",
    "    # and Push source in it\n",
    "    stack = MyStack()\n",
    "    stack.push(source)\n",
    "    visited[source] = True\n",
    "    # Traverse while stack is not empty\n",
    "    while (stack.is_empty() is False):\n",
    "        # Pop a vertex/node from stack and add it to the result\n",
    "        current_node = stack.pop()\n",
    "        result += str(current_node)\n",
    "        # Get adjacent vertices to the current_node from the array,\n",
    "        # and if they are not already visited then push them in the stack\n",
    "        temp = g.array[current_node].head_node\n",
    "        while (temp is not None):\n",
    "            if (visited[temp.data] is False):\n",
    "                stack.push(temp.data)\n",
    "                # Visit the node\n",
    "                visited[temp.data] = True\n",
    "            temp = temp.next_element\n",
    "    return result, visited  # For the above graph it should return \"12453\"\n",
    "\n",
    "def dfs_traversal(g, source):\n",
    "    result = \"\"\n",
    "    num_of_vertices = g.vertices\n",
    "    if num_of_vertices is 0:\n",
    "        return result\n",
    "    # A list to hold the history of visited nodes\n",
    "    # Make a node visited whenever you enqueue it into queue\n",
    "    visited = []\n",
    "    for i in range(num_of_vertices):\n",
    "        visited.append(False)\n",
    "    # Start from source\n",
    "    result, visited = dfs_traversal_helper(g, source, visited)\n",
    "    # visit remaining nodes\n",
    "    for i in range(num_of_vertices):\n",
    "        if visited[i] is False:\n",
    "            result_new, visited = dfs_traversal_helper(g, i, visited)\n",
    "            result += result_new\n",
    "    return result"
   ]
  }
 ],
 "metadata": {
  "kernelspec": {
   "display_name": "Python 3",
   "language": "python",
   "name": "python3"
  },
  "language_info": {
   "codemirror_mode": {
    "name": "ipython",
    "version": 3
   },
   "file_extension": ".py",
   "mimetype": "text/x-python",
   "name": "python",
   "nbconvert_exporter": "python",
   "pygments_lexer": "ipython3",
   "version": "3.7.3"
  }
 },
 "nbformat": 4,
 "nbformat_minor": 2
}

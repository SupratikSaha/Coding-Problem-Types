{
 "cells": [
  {
   "cell_type": "markdown",
   "metadata": {},
   "source": [
    "Problem statement. <br/>\n",
    "\n",
    "You have to implement the check_path() function. It takes a source vertex and a destination vertex and tells us whether or not a path exists between the two. <br/>\n",
    "\n",
    "Sample input: <br/>\n",
    "\n",
    "graph = { <br/>\n",
    "    0 -> 2 <br/>\n",
    "    0 -> 5 <br/>\n",
    "    2 -> 3 <br/>\n",
    "    2 -> 4 <br/>\n",
    "    5 -> 3 <br/>\n",
    "    5 -> 6 <br/>\n",
    "    3 -> 6 <br/>\n",
    "    6 -> 7 <br/>\n",
    "    6 -> 8 <br/>\n",
    "    6 -> 4 <br/>\n",
    "    7 -> 8 <br/>\n",
    "} <br/>\n",
    "\n",
    "source = 0 <br/>\n",
    "destination = 7 <br/>\n",
    "\n",
    "Sample output: True"
   ]
  },
  {
   "cell_type": "markdown",
   "metadata": {},
   "source": [
    "# BFS - O(V + E) runtime, O(V + E) space¶"
   ]
  },
  {
   "cell_type": "code",
   "execution_count": null,
   "metadata": {},
   "outputs": [],
   "source": [
    "from Graph import Graph\n",
    "from Queue import MyQueue\n",
    "# We only need Graph and Queue for this Question!\n",
    "\n",
    "\n",
    "def check_path(g, source, dest):\n",
    "    # BFS to check path between source and dest\n",
    "    # Keep track of visited vertices\n",
    "    visited = [False]*(g.vertices)\n",
    "\n",
    "    # Create a queue for BFS\n",
    "    queue = MyQueue()\n",
    "\n",
    "    # Enque source and mark it as visited\n",
    "    queue.enqueue(source)\n",
    "    visited[source] = True\n",
    "\n",
    "    # Loop to traverse the whole graph using BFS\n",
    "    while not(queue.is_empty()):\n",
    "\n",
    "        node = queue.dequeue()\n",
    "\n",
    "        # Check if dequeued node is the destination\n",
    "        if node is dest:\n",
    "            return True\n",
    "\n",
    "        # Continue BFS by obtaining first element in linked list\n",
    "        adjacent = g.array[node].head_node\n",
    "        while adjacent:\n",
    "            # enqueue adjacent node if it has not been visited\n",
    "            if visited[adjacent.data] is False:\n",
    "                queue.enqueue(adjacent.data)\n",
    "                visited[adjacent.data] = True\n",
    "            adjacent = adjacent.next_element\n",
    "\n",
    "    # Destination was not found in the search\n",
    "    return False"
   ]
  },
  {
   "cell_type": "markdown",
   "metadata": {},
   "source": [
    "# DFS - O(V + E) runtime, O(V + E) space"
   ]
  },
  {
   "cell_type": "code",
   "execution_count": null,
   "metadata": {},
   "outputs": [],
   "source": [
    "from Graph import Graph\n",
    "# You can check the input graph in console tab\n",
    "\n",
    "# Create Stack => stack = MyStack()\n",
    "# Functions of Stack => push(int), pop(), top(), is_empty()\n",
    "# Create Queue => queue = MyQueue()\n",
    "# Functions of Queue => enqueue(int), dequeue(), size(), front(), is_empty()\n",
    "# class Graph => {int vertices, linkedList[] array}\n",
    "# class linkedList => {Node head_node}\n",
    "# class Node => {int data, Node next_element}\n",
    "\n",
    "\n",
    "def check_path(g, source, destination):\n",
    "    visited = [False for _ in range(g.vertices)]\n",
    "    return check_path_recursive(g, source, destination, visited)\n",
    "\n",
    "def check_path_recursive(g, source, destination, visited):\n",
    "    if source == destination:\n",
    "        return True\n",
    "\n",
    "    visited[source] = True\n",
    "    node = g.array[source].head_node\n",
    "    while node:\n",
    "        if not visited[node.data] and check_path_recursive(g, node.data, destination, visited):\n",
    "            return True\n",
    "        node = node.next_element\n",
    "\n",
    "    return False"
   ]
  }
 ],
 "metadata": {
  "kernelspec": {
   "display_name": "Python 3",
   "language": "python",
   "name": "python3"
  },
  "language_info": {
   "codemirror_mode": {
    "name": "ipython",
    "version": 3
   },
   "file_extension": ".py",
   "mimetype": "text/x-python",
   "name": "python",
   "nbconvert_exporter": "python",
   "pygments_lexer": "ipython3",
   "version": "3.7.3"
  }
 },
 "nbformat": 4,
 "nbformat_minor": 2
}

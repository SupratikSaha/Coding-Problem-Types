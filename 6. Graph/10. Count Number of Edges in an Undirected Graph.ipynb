{
 "cells": [
  {
   "cell_type": "markdown",
   "metadata": {},
   "source": [
    "Problem statement. <br/>\n",
    "\n",
    "You have to implement the num_edges() function which takes an undirected graph and computes the total number of bidirectional edges. An illustration is also provided for your understanding. <br/>\n",
    "\n",
    "Sample input: <br/>\n",
    "\n",
    "graph = { <br/>\n",
    "    0 - 2 <br/>\n",
    "    0 - 5 <br/>\n",
    "    2 - 3 <br/>\n",
    "    2 - 4 <br/>\n",
    "    5 - 3 <br/>\n",
    "    5 - 6 <br/>\n",
    "    3 - 6 <br/>\n",
    "    6 - 7 <br/>\n",
    "    6 - 8 <br/>\n",
    "    6 - 4 <br/>\n",
    "    7 - 8 <br/>\n",
    "} <br/>\n",
    "\n",
    "Sample output: 11 <br/>"
   ]
  },
  {
   "cell_type": "markdown",
   "metadata": {},
   "source": [
    "# BFS Iterarive - O(V + E) runtime, O(1) space"
   ]
  },
  {
   "cell_type": "code",
   "execution_count": null,
   "metadata": {},
   "outputs": [],
   "source": [
    "from Graph import Graph\n",
    "# You can check the input graph in console tab\n",
    "\n",
    "# Create Stack => stack = MyStack()\n",
    "# Functions of Stack => push(int), pop(), top(), is_empty()\n",
    "# Create Queue => queue = MyQueue()\n",
    "# Functions of Queue => enqueue(int), dequeue(), size(), front(), is_empty()\n",
    "# class Graph => {int vertices, linkedList[] array}\n",
    "# class linkedList => {Node head_node}\n",
    "# class Node => {int data, Node next_element}\n",
    "\n",
    "\n",
    "def num_edges(g):\n",
    "    # Write - Your - Code - Here\n",
    "    result = 0\n",
    "    for i in range(g.vertices):\n",
    "        node = g.array[i].head_node\n",
    "        while node:\n",
    "            result += 1\n",
    "            node = node.next_element\n",
    "\n",
    "    return result // 2"
   ]
  }
 ],
 "metadata": {
  "kernelspec": {
   "display_name": "Python 3",
   "language": "python",
   "name": "python3"
  },
  "language_info": {
   "codemirror_mode": {
    "name": "ipython",
    "version": 3
   },
   "file_extension": ".py",
   "mimetype": "text/x-python",
   "name": "python",
   "nbconvert_exporter": "python",
   "pygments_lexer": "ipython3",
   "version": "3.7.3"
  }
 },
 "nbformat": 4,
 "nbformat_minor": 2
}

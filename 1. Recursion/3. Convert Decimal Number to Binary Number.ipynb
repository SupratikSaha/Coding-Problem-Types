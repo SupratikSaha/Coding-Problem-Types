{
 "cells": [
  {
   "cell_type": "markdown",
   "metadata": {},
   "source": [
    "Problem Statement  <br/>\n",
    "\n",
    "Write a function that takes a number testVariable and returns a string that is its equivalent binary number. <br/>\n",
    "\n",
    "A string variable that contains the equivalent binary number of the input number.  <br/>\n",
    "Sample Input : 11  <br/>\n",
    "\n",
    "Sample Output \"1011\""
   ]
  },
  {
   "cell_type": "markdown",
   "metadata": {},
   "source": [
    "# Recursion - O(log N) runtime, O(log N) space"
   ]
  },
  {
   "cell_type": "code",
   "execution_count": 1,
   "metadata": {},
   "outputs": [],
   "source": [
    "def decimalToBinary(testVariable) :\n",
    "    # Base Case\n",
    "    if testVariable <= 1:\n",
    "        return str(testVariable)\n",
    "\n",
    "    # Recursive Case\n",
    "    else:\n",
    "        return decimalToBinary(testVariable // 2) + decimalToBinary(testVariable % 2) # Floor division - \n",
    "            # division that results into whole number adjusted to the left in the number line"
   ]
  },
  {
   "cell_type": "code",
   "execution_count": 2,
   "metadata": {},
   "outputs": [
    {
     "data": {
      "text/plain": [
       "'1011'"
      ]
     },
     "execution_count": 2,
     "metadata": {},
     "output_type": "execute_result"
    }
   ],
   "source": [
    "decimalToBinary(11)"
   ]
  }
 ],
 "metadata": {
  "kernelspec": {
   "display_name": "Python 3",
   "language": "python",
   "name": "python3"
  },
  "language_info": {
   "codemirror_mode": {
    "name": "ipython",
    "version": 3
   },
   "file_extension": ".py",
   "mimetype": "text/x-python",
   "name": "python",
   "nbconvert_exporter": "python",
   "pygments_lexer": "ipython3",
   "version": "3.7.3"
  }
 },
 "nbformat": 4,
 "nbformat_minor": 2
}

{
 "cells": [
  {
   "cell_type": "markdown",
   "metadata": {},
   "source": [
    "Problem Statement <br/>\n",
    "\n",
    "Implement a function that takes two numbers, testVariable1 and testVariable2 and returns their greatest common divisor. <br/>\n",
    "\n",
    "For example, take two numbers 42 and 56. <br/>\n",
    "\n",
    "42 can be completely divided by 1, 2, 3, 6, 7, 14, 21 and 42. <br/>\n",
    "\n",
    "56 can be completely divided by 1, 2, 4, 7, 8, 14, 28 and 56. <br/>\n",
    "\n",
    "Therefore the greatest common divisor of 42 and 56 is 14."
   ]
  },
  {
   "cell_type": "markdown",
   "metadata": {},
   "source": [
    "# Recursion - O(log N) runtime, O(log N space)"
   ]
  },
  {
   "cell_type": "code",
   "execution_count": 3,
   "metadata": {},
   "outputs": [],
   "source": [
    "def gcd(testVariable1, testVariable2) :\n",
    "    # Base Case\n",
    "    if testVariable1 == testVariable2 :\n",
    "        return testVariable1\n",
    "\n",
    "    # Recursive Case\n",
    "    if testVariable1 > testVariable2 :\n",
    "        return gcd(testVariable1 - testVariable2, testVariable2)\n",
    "    else :\n",
    "        return gcd(testVariable1, testVariable2 - testVariable1)"
   ]
  },
  {
   "cell_type": "code",
   "execution_count": 4,
   "metadata": {},
   "outputs": [
    {
     "data": {
      "text/plain": [
       "14"
      ]
     },
     "execution_count": 4,
     "metadata": {},
     "output_type": "execute_result"
    }
   ],
   "source": [
    "gcd(42, 56)"
   ]
  }
 ],
 "metadata": {
  "kernelspec": {
   "display_name": "Python 3",
   "language": "python",
   "name": "python3"
  },
  "language_info": {
   "codemirror_mode": {
    "name": "ipython",
    "version": 3
   },
   "file_extension": ".py",
   "mimetype": "text/x-python",
   "name": "python",
   "nbconvert_exporter": "python",
   "pygments_lexer": "ipython3",
   "version": "3.7.3"
  }
 },
 "nbformat": 4,
 "nbformat_minor": 2
}

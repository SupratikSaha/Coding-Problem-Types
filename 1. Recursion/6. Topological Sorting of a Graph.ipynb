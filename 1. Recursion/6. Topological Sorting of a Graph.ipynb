{
 "cells": [
  {
   "cell_type": "markdown",
   "metadata": {},
   "source": [
    "Problem Statement <br/>\n",
    "\n",
    "Implement a function that takes a Directed Acyclic Graph (DAG) and returns a topologically sorted list of nodes for that graph. <br/>\n",
    "\n",
    "Sample Input:  \n",
    "\n",
    "{0 -> 1 <br/>\n",
    "                0 -> 3 <br/>\n",
    "                1 -> 2 <br/>\n",
    "                2 -> 3 <br/>\n",
    "                2 -> 4 <br/>\n",
    "                3 -> 4} <br/>\n",
    "\n",
    "Sample Output: [0, 1, 2, 3, 4]"
   ]
  },
  {
   "cell_type": "markdown",
   "metadata": {},
   "source": [
    "# Iterative Approach - O(V * E) runtime, O(V) space"
   ]
  },
  {
   "cell_type": "code",
   "execution_count": 2,
   "metadata": {},
   "outputs": [],
   "source": [
    "from collections import deque\n",
    "\n",
    "def topologicalSort(myGraph) :\n",
    "    inDegree = {i: 0 for i in range(myGraph.vertices)}\n",
    "\n",
    "    for parent in myGraph.graph:\n",
    "        for child in myGraph.graph[parent]:\n",
    "            inDegree[child] += 1\n",
    "\n",
    "    roots = deque()\n",
    "    for key in inDegree:\n",
    "        if inDegree[key] == 0:\n",
    "            roots.append(key)\n",
    "\n",
    "    result = []\n",
    "    while roots:\n",
    "        parent = roots.popleft()\n",
    "        result.append(parent)\n",
    "        for child in myGraph.graph[parent]:\n",
    "            inDegree[child] -= 1\n",
    "            if inDegree[child] == 0:\n",
    "                roots.append(child)\n",
    "        \n",
    "    if len(result) != myGraph.vertices:\n",
    "        return []\n",
    "\n",
    "    return result"
   ]
  },
  {
   "cell_type": "markdown",
   "metadata": {},
   "source": [
    "# Recursive Approach - O(V * E) runtime, O(V) space"
   ]
  },
  {
   "cell_type": "code",
   "execution_count": 4,
   "metadata": {},
   "outputs": [],
   "source": [
    "\n",
    "def helperFunction(myGraph, currentNode, visited, result):\n",
    "    visited[currentNode] = True # Mark the current node as visited\n",
    "    \n",
    "    # Recur for all the adjacent vertices of currentNode\n",
    "    for i in myGraph.graph[currentNode]:\n",
    "        if visited[i] == False:\n",
    "            helperFunction(myGraph, i, visited, result)\n",
    "    \n",
    "    result.insert(0, currentNode) # Push current vertex to result\n",
    "    \n",
    "    \n",
    "def topologicalSort(myGraph):\n",
    "    visited = [False] * myGraph.vertices    # Mark all the vertices as not visited\n",
    "    result = [] # Our stack to store the result/output\n",
    "\n",
    "    for currentNode in range(myGraph.vertices):\n",
    "        if visited[currentNode] == False:\n",
    "            helperFunction(myGraph, currentNode, visited, result)\n",
    "\n",
    "    return(result)"
   ]
  }
 ],
 "metadata": {
  "kernelspec": {
   "display_name": "Python 3",
   "language": "python",
   "name": "python3"
  },
  "language_info": {
   "codemirror_mode": {
    "name": "ipython",
    "version": 3
   },
   "file_extension": ".py",
   "mimetype": "text/x-python",
   "name": "python",
   "nbconvert_exporter": "python",
   "pygments_lexer": "ipython3",
   "version": "3.7.3"
  }
 },
 "nbformat": 4,
 "nbformat_minor": 2
}

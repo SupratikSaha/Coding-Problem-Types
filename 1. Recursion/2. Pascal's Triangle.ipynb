{
 "cells": [
  {
   "cell_type": "markdown",
   "metadata": {},
   "source": [
    "Problem Statement <br/>\n",
    "\n",
    "Implement a function that takes a number testVariable and returns the row of the Pascal’s triangle corresponding with that number. <br/>\n",
    "\n",
    "Sample Input : 5 <br/>\n",
    "\n",
    "Sample Output: [1, 5, 10, 10, 5, 1]"
   ]
  },
  {
   "cell_type": "markdown",
   "metadata": {},
   "source": [
    "# Recursion - O(N!) runtime, O(N) space"
   ]
  },
  {
   "cell_type": "code",
   "execution_count": 3,
   "metadata": {},
   "outputs": [],
   "source": [
    "def printPascal(testVariable) :\n",
    "    # Base Case\n",
    "    if testVariable == 0 :\n",
    "        return [1]\n",
    "\n",
    "    else :\n",
    "        line = [1]\n",
    "\n",
    "        # Recursive Case\n",
    "        previousLine = printPascal(testVariable - 1)\n",
    "        for i in range(len(previousLine) - 1):\n",
    "            line.append(previousLine[i] + previousLine[i + 1])\n",
    "        line += [1]\n",
    "    return line"
   ]
  },
  {
   "cell_type": "code",
   "execution_count": 4,
   "metadata": {},
   "outputs": [
    {
     "data": {
      "text/plain": [
       "[1, 5, 10, 10, 5, 1]"
      ]
     },
     "execution_count": 4,
     "metadata": {},
     "output_type": "execute_result"
    }
   ],
   "source": [
    "printPascal(5)"
   ]
  }
 ],
 "metadata": {
  "kernelspec": {
   "display_name": "Python 3",
   "language": "python",
   "name": "python3"
  },
  "language_info": {
   "codemirror_mode": {
    "name": "ipython",
    "version": 3
   },
   "file_extension": ".py",
   "mimetype": "text/x-python",
   "name": "python",
   "nbconvert_exporter": "python",
   "pygments_lexer": "ipython3",
   "version": "3.7.3"
  }
 },
 "nbformat": 4,
 "nbformat_minor": 2
}

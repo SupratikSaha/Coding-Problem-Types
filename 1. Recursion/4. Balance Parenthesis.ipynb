{
 "cells": [
  {
   "cell_type": "markdown",
   "metadata": {},
   "source": [
    "Problem Statement <br/>\n",
    "\n",
    "Implement a function that takes an array testVariable containing opening ( and closing parenthesis ) and determines whether or not the brackets in the array are balanced. The function also takes startIndex = 0 and currentIndex = 0 as parameters. <br/>\n",
    "\n",
    "Balanced parentheses mean that each opening bracket ( has a corresponding closing bracket ). Also, the pairs of parentheses are properly nested. <br/>\n",
    "\n",
    "Sample Input <br/>\n",
    "\n",
    "testVariable = [\"(\", \")\", \"(\", \")\"] <br/>\n",
    "\n",
    "Sample Output <br/>\n",
    "\n",
    "True"
   ]
  },
  {
   "cell_type": "markdown",
   "metadata": {},
   "source": [
    "# Iterative - O(N) runtime, O(1) space"
   ]
  },
  {
   "cell_type": "code",
   "execution_count": 1,
   "metadata": {},
   "outputs": [],
   "source": [
    "def balanced(testVariable) :\n",
    "    n = len(testVariable)\n",
    "    countLeft, countRight = 0, 0\n",
    "    for i in range(n):\n",
    "        if testVariable[i] == '(':\n",
    "            countLeft += 1\n",
    "        else:\n",
    "            countRight += 1\n",
    "        \n",
    "        if countRight > countLeft:\n",
    "            break\n",
    "    \n",
    "    if countLeft == countRight:\n",
    "        return True\n",
    "    else:\n",
    "        return False"
   ]
  },
  {
   "cell_type": "markdown",
   "metadata": {},
   "source": [
    "# Recursive - O(N) runtime, O(1) space"
   ]
  },
  {
   "cell_type": "code",
   "execution_count": 7,
   "metadata": {},
   "outputs": [],
   "source": [
    "def balanced(testVariable, currentIndex = 0, currentDiff = 0) :\n",
    "    n = len(testVariable)\n",
    "\n",
    "    if currentIndex == n:\n",
    "        return currentDiff == 0\n",
    "    \n",
    "    if currentDiff < 0:\n",
    "        return False\n",
    "\n",
    "    if testVariable[currentIndex] == '(':\n",
    "        return balanced(testVariable, currentIndex + 1, currentDiff + 1)\n",
    "    else:\n",
    "        return balanced(testVariable, currentIndex + 1, currentDiff - 1)"
   ]
  },
  {
   "cell_type": "code",
   "execution_count": 8,
   "metadata": {},
   "outputs": [
    {
     "data": {
      "text/plain": [
       "True"
      ]
     },
     "execution_count": 8,
     "metadata": {},
     "output_type": "execute_result"
    }
   ],
   "source": [
    "balanced( [\"(\", \")\", \"(\", \")\"])"
   ]
  }
 ],
 "metadata": {
  "kernelspec": {
   "display_name": "Python 3",
   "language": "python",
   "name": "python3"
  },
  "language_info": {
   "codemirror_mode": {
    "name": "ipython",
    "version": 3
   },
   "file_extension": ".py",
   "mimetype": "text/x-python",
   "name": "python",
   "nbconvert_exporter": "python",
   "pygments_lexer": "ipython3",
   "version": "3.7.3"
  }
 },
 "nbformat": 4,
 "nbformat_minor": 2
}
